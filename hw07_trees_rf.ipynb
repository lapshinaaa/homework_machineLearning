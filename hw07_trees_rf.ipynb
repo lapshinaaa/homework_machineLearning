{
  "cells": [
    {
      "cell_type": "markdown",
      "metadata": {
        "id": "view-in-github",
        "colab_type": "text"
      },
      "source": [
        "<a href=\"https://colab.research.google.com/github/lapshinaaa/homework_machineLearning/blob/main/hw07_trees_rf.ipynb\" target=\"_parent\"><img src=\"https://colab.research.google.com/assets/colab-badge.svg\" alt=\"Open In Colab\"/></a>"
      ]
    },
    {
      "cell_type": "markdown",
      "metadata": {
        "id": "8ZoUT2vbP_iq"
      },
      "source": [
        "# Интеллектуальный анализ данных – весна 2022\n",
        "\n",
        "# Домашнее задание 7: Деревья. Случайный лес\n",
        "\n",
        "Правила:\n",
        "\n",
        "- Домашнее задание оценивается в 10 баллов (+1 бонусный балл).\n",
        "\n",
        "\n",
        "- Можно использовать без доказательства любые результаты, встречавшиеся на лекциях или семинарах по курсу, если получение этих результатов не является вопросом задания.\n",
        "\n",
        "\n",
        "- Можно использовать любые свободные источники с обязательным указанием ссылки на них.\n",
        "\n",
        "\n",
        "- Плагиат не допускается. При обнаружении случаев списывания, 0 за работу выставляется всем участникам нарушения, даже если можно установить, кто у кого списал.\n",
        "\n",
        "<!-- ![](https://github.com/hse-ds/iad-intro-ds/blob/master/2023/homeworks/hw07-trees/meme.jpg?raw=1) -->\n",
        "<img src=\"https://github.com/hse-ds/iad-intro-ds/blob/master/2023/homeworks/hw07-trees/meme.jpg?raw=1\" alt=\"Drawing\" style=\"width: 700px;\"/>"
      ]
    },
    {
      "cell_type": "markdown",
      "metadata": {
        "id": "CuFOd4n6P_iw"
      },
      "source": [
        "## Часть 1: Основы построения решающие дерева (1.5 балла)\n",
        "\n",
        "В этой части все расчёты необходимо реализовывать в виде запрограммированных формул, например, на `numpy`. **Нельзя использовать готовые реализации**. Например, если в задании требуется рассчитать энтропию, то требуется в каком-то виде релизовать расчёт по формуле, но нельзя использовать готовую реализацию `some_module.entropy()`."
      ]
    },
    {
      "cell_type": "code",
      "execution_count": 51,
      "metadata": {
        "id": "46YkOztlP_ix"
      },
      "outputs": [],
      "source": [
        "import numpy as np\n",
        "import pandas as pd\n",
        "import matplotlib.pyplot as plt\n",
        "import math"
      ]
    },
    {
      "cell_type": "markdown",
      "metadata": {
        "id": "kPAAbAWaP_iz"
      },
      "source": [
        "**Задание 1.1 (0.5 балла)** Пусть известно, что в вершину решающего дерева попали 10 объектов, 8 из которых имеют метку класса $k_1$, а 2 имеют метку класса $k_2$. Рассчитайте энтропию такого распределения классов (с натуральным логарифмом). Ответ округлите до двух знаков после запятой."
      ]
    },
    {
      "cell_type": "code",
      "execution_count": 52,
      "metadata": {
        "colab": {
          "base_uri": "https://localhost:8080/"
        },
        "id": "CZIAQaKlP_iz",
        "outputId": "9fe3aee4-d2dc-404e-efa9-bd270090fcca"
      },
      "outputs": [
        {
          "output_type": "stream",
          "name": "stdout",
          "text": [
            "The entropy of the given distribution is equal to: 0.72\n"
          ]
        }
      ],
      "source": [
        "def enthropy_calculation(classes: list) -> float:\n",
        "  ''' function for calculating the value of H (entropy) in a node'''\n",
        "  num_of_objects = 0\n",
        "  # calculating how many objects we have in one node\n",
        "  for k in classes:\n",
        "    num_of_objects += k\n",
        "\n",
        "  # calculating probability of each class\n",
        "  probabilities = [k / num_of_objects for k in classes]\n",
        "\n",
        "  # calculating entropy:\n",
        "  H = 0\n",
        "  for probability in probabilities:\n",
        "    H -= probability * math.log2(probability)\n",
        "\n",
        "  # rounding the result:\n",
        "  entropy = round(H, 2)\n",
        "  \n",
        "  return entropy\n",
        "\n",
        "# defining the number of objects we have:\n",
        "classes = [8, 2]\n",
        "\n",
        "print(f'The entropy of the given distribution is equal to: {enthropy_calculation(classes)}')"
      ]
    },
    {
      "cell_type": "markdown",
      "metadata": {
        "id": "U4tCB_OVP_i0"
      },
      "source": [
        "**Задание 1.2 (0.5 балла)** Пусть дополнительно известно, что вершина из предыдущего задания не является листовой и возможно такое разбиение, что в левое поддерево попадут все объекты класса $k_1$, а в правое - класса $k_2$. Посчитайте критерий информативности:\n",
        "\n",
        "$$\n",
        "Q(R_m, j, t) = H(R_m) - \\frac{|R_\\ell|}{|R_m|}H(R_\\ell) - \\frac{|R_r|}{|R_m|}H(R_r),\n",
        "$$\n",
        "\n",
        "где $R_m$ - множество объектов в разбиваемой вершине, $j$ - номер признака, по которому происходит разбиение, $t$ - порог разбиения, $R_\\ell$ - множество объектов в левом поддереве, $R_r$ - множество объектов в правом поддереве.\n",
        "\n",
        "Теперь в качестве $H(R)$ будем использовать индекс Джини:\n",
        "\n",
        "$$\n",
        "H(R) = \\sum_{k=1}^J p_k(1-p_k),\n",
        "$$\n",
        "где $J$ – общее количество классов (в нашем случае, $J = 2$).\n",
        "\n",
        "Ответ округлите до двух знаков после запятой."
      ]
    },
    {
      "cell_type": "code",
      "execution_count": 53,
      "metadata": {
        "colab": {
          "base_uri": "https://localhost:8080/"
        },
        "id": "Mooq9UciP_i0",
        "outputId": "96c42a85-9f30-49a8-f150-95cb36451868"
      },
      "outputs": [
        {
          "output_type": "stream",
          "name": "stdout",
          "text": [
            "Information gain ration is equal to: 0.32\n"
          ]
        }
      ],
      "source": [
        "def gini_index(classes_list: list) -> float:\n",
        "  '''function for calculating the Gini index'''\n",
        "  total_number = 0\n",
        "  # calculating how many objects we overall have\n",
        "  for k in classes_list:\n",
        "    total_number += k\n",
        "\n",
        "  # calculating probabilities\n",
        "  probabilities = [k / total_number for k in classes_list]\n",
        "  \n",
        "  # calculating the Gini index:\n",
        "  gini_index = 0\n",
        "  for probability in probabilities:\n",
        "    gini_index += probability * (1 - probability)\n",
        "\n",
        "  return gini_index\n",
        "\n",
        "\n",
        "def information_gain_ratio(anc: list, left_node: list, right_node: list) -> float:\n",
        "  '''function for calculation the information gain ratio'''\n",
        "  # calculating gini indices for all nodes\n",
        "  H_Rm = gini_index(anc)\n",
        "  H_Rl = gini_index(left_node)\n",
        "  H_Rr = gini_index(right_node)\n",
        "\n",
        "  # calculating ratios in new nodes:\n",
        "  left_sum = 0\n",
        "  right_sum = 0\n",
        "  overall_count = 0\n",
        "\n",
        "  for class_value in left_node:\n",
        "    left_sum += class_value\n",
        "\n",
        "  for class_value in right_node:\n",
        "    right_sum += class_value\n",
        "\n",
        "  for class_value in anc:\n",
        "    overall_count += class_value\n",
        "\n",
        "  left_ratio = left_sum / overall_count\n",
        "  right_ratio = right_sum / overall_count\n",
        "\n",
        "  # calculating the IGR:\n",
        "  igr = gini_index(anc) - left_ratio * gini_index(left_node) - right_ratio * gini_index(right_node)\n",
        "\n",
        "  return igr\n",
        "\n",
        "# given classes counts:\n",
        "R_m = [8, 2]\n",
        "R_l = [8, 0]\n",
        "R_r = [0, 2]\n",
        "\n",
        "print(f'Information gain ration is equal to: {round(information_gain_ratio(R_m, R_l, R_r), 2)}')"
      ]
    },
    {
      "cell_type": "markdown",
      "metadata": {
        "id": "mG-Mt-r7P_i1"
      },
      "source": [
        "**Задание 1.3 (0.5 балла)** Пусть при построении дерева образовалась листовая вершина с 10 объектами, значения целевой переменной для которых следующие: [1, 10, 5, 18, 100, 30, 50, 61, 84, 47] (решается задача регрессии). Чему будут равны предсказания модели для этих объектов?"
      ]
    },
    {
      "cell_type": "code",
      "execution_count": 54,
      "metadata": {
        "colab": {
          "base_uri": "https://localhost:8080/"
        },
        "id": "OIgehUIOP_i1",
        "outputId": "4ce6d7da-51a4-4582-e18c-56a5397c6d77"
      },
      "outputs": [
        {
          "output_type": "stream",
          "name": "stdout",
          "text": [
            "Prediction for the given objects is equal to: 40.6\n"
          ]
        }
      ],
      "source": [
        "target_values = [1, 10, 5, 18, 100, 30, 50, 61, 84, 47]\n",
        "# calculating prediction as a mean value:\n",
        "prediction = np.mean(target_values)\n",
        "\n",
        "print(f'Prediction for the given objects is equal to: {prediction}')"
      ]
    },
    {
      "cell_type": "markdown",
      "metadata": {
        "id": "vA7lmHAzP_i2"
      },
      "source": [
        "## Часть 2: Решающие деревья (4.5 балла)\n",
        "\n",
        "В этой части мы напишем и протестируем собственную реализацию решающего дерева."
      ]
    },
    {
      "cell_type": "code",
      "execution_count": 55,
      "metadata": {
        "id": "TSRKN1G2P_i2"
      },
      "outputs": [],
      "source": [
        "from collections import Counter\n",
        "from typing import Dict, List, Tuple, Union"
      ]
    },
    {
      "cell_type": "markdown",
      "metadata": {
        "id": "m1IMNfutP_i3"
      },
      "source": [
        "**Задание 2.1 (1.5 балла)** Реализуйте функцию `find_best_split()`, которая должна находить оптимальное разбиение подмножества обучающей выборки в соответствии с информационным критерием из **Задания 1.2**. В качестве меры хаотичности $H(R)$ для задачи регрессии испольуйте дисперсию подвыборки, а для задачи классификации – критерий Джини (определён в том же задании).\n",
        "\n",
        "Для категориальных признаков применяется наивный алгоритм разбиения: мы пытаемся найти одно значение, разбиение по которому сильнее всего увеличит критерий информативности. Иными словами, объекты с конкретным значением признака отправляем в левое поддерево, остальные - в правое. Обратите внимание, что это далеко не оптимальные способ учёта категориальных признаков. Например, можно было бы на каждое значение категориального признака создавать отдельное поддерево или использовать более сложные подходы. Подробнее об этом можно прочитать в конспектах [лекций](https://github.com/esokolov/ml-course-hse/blob/master/2019-fall/lecture-notes/lecture07-trees.pdf) по машинному обучению на ПМИ (раздел «Учёт категориальных признаков»).\n",
        "\n",
        "В качестве подсказок реализации можете пользоваться кодом из бонусной части семинара по решающим деревьям.\n",
        "\n",
        "**Бонус:** Разрешается делать цикл для перебора порогов, но возможна имплементация без него. За имплементацию без цикла – **бонус 1 балл**."
      ]
    },
    {
      "cell_type": "code",
      "execution_count": 56,
      "metadata": {
        "id": "Tnidto9ZP_i4"
      },
      "outputs": [],
      "source": [
        "def gini_index(target_vector: Union[np.ndarray, pd.Series]) -> float:\n",
        "  '''\n",
        "  Function for calculating the Gini index\n",
        "  :param target_vector: vector of objects belonging to different classes\n",
        "  :return gini: the value of the Gini index\n",
        "  '''\n",
        "  # calculating the count for each class\n",
        "  classes, counts = np.unique(target_vector, return_counts=True)\n",
        "  # calculating probability for each class:\n",
        "  probabilities = counts / len(target_vector)\n",
        "  # calculating the Gini index:\n",
        "  gini = np.sum(probabilities * (1 - probabilities))\n",
        "\n",
        "  return gini\n",
        "  \n",
        "\n",
        "def find_best_split(\n",
        "    feature_vector: Union[np.ndarray, pd.DataFrame], \n",
        "    target_vector: Union[np.ndarray, pd.Series],\n",
        "    task: str = \"classification\",\n",
        "    feature_type: str = \"real\"\n",
        ") -> Tuple[np.ndarray, np.ndarray, float, float]:\n",
        "    \"\"\"\n",
        "    Указания:\n",
        "    * Пороги, приводящие к попаданию в одно из поддеревьев пустого множества объектов, не рассматриваются.\n",
        "    * В качестве порогов, нужно брать среднее двух соседних (при сортировке) значений признака\n",
        "    * Поведение функции в случае константного признака может быть любым.\n",
        "    * При одинаковых приростах Джини или дисперсии нужно выбирать минимальный сплит.\n",
        "    * За наличие в функции циклов балл будет снижен. Векторизуйте! :)\n",
        "\n",
        "    :param feature_vector: вещественнозначный вектор значений признака\n",
        "    :param target_vector: вектор классов объектов,  len(feature_vector) == len(target_vector)\n",
        "    :param task: либо `classification`, либо `regression`\n",
        "    :param feature_type: либо `real`, либо `categorical`\n",
        "    \n",
        "    :return thresholds: отсортированный по возрастанию вектор со всеми возможными порогами, по которым объекты можно\n",
        "     разделить на две различные подвыборки, или поддерева\n",
        "    :return ginis: вектор со значениями критерия Джини для каждого из порогов в thresholds len(ginis) == len(thresholds)\n",
        "    :return threshold_best: оптимальный порог (число)\n",
        "    :return gini_best: оптимальное значение критерия Джини (число)\n",
        "    \"\"\"\n",
        "\n",
        "    # sorting the initial 'feature_vector' and 'target_vector':\n",
        "    indices = np.argsort(feature_vector)\n",
        "    sorted_feature_vector = feature_vector[indices]\n",
        "    sorted_target_vector = target_vector[indices]\n",
        "\n",
        "    # calculating the H_R value depending on a task:\n",
        "    if task == 'classification':\n",
        "      H_R = gini_index(sorted_target_vector)\n",
        "\n",
        "    else:\n",
        "      H_R = np.var(sorted_target_vector)\n",
        "\n",
        "    # calculating all the possible thresholds:\n",
        "    thresholds = (sorted_feature_vector[:-1] + sorted_feature_vector[1:]) / 2\n",
        "\n",
        "    # splitting 'sorted_target_vector' based on each threshold and calculating the Gini index:\n",
        "    if task == 'classification':\n",
        "      gini_values = np.array([\n",
        "            (gini_index(sorted_target_vector[sorted_feature_vector <= threshold]) *\n",
        "             np.sum(sorted_feature_vector <= threshold) +\n",
        "             gini_index(sorted_target_vector[sorted_feature_vector > threshold]) *\n",
        "             np.sum(sorted_feature_vector > threshold)) / len(sorted_target_vector)\n",
        "            for threshold in thresholds\n",
        "        ])\n",
        "    else:\n",
        "        gini_values = np.array([\n",
        "            (np.var(sorted_target_vector[sorted_feature_vector <= threshold]) *\n",
        "             np.sum(sorted_feature_vector <= threshold) +\n",
        "             np.var(sorted_target_vector[sorted_feature_vector > threshold]) *\n",
        "             np.sum(sorted_feature_vector > threshold)) / len(sorted_target_vector)\n",
        "            for threshold in thresholds\n",
        "        ])\n",
        "\n",
        "    # finding the best threshold with the minimum Gini index:\n",
        "    threshold_best = thresholds[np.argmin(gini_values)]\n",
        "    gini_best = np.min(gini_values)\n",
        "\n",
        "    return thresholds, gini_values, threshold_best, gini_best"
      ]
    },
    {
      "cell_type": "markdown",
      "metadata": {
        "id": "1Avy9oCPP_i5"
      },
      "source": [
        "Эту функцию можно протестировать на датасете `California`."
      ]
    },
    {
      "cell_type": "code",
      "execution_count": 57,
      "metadata": {
        "id": "DX_FiQNpP_i5"
      },
      "outputs": [],
      "source": [
        "from sklearn.datasets import fetch_california_housing"
      ]
    },
    {
      "cell_type": "code",
      "execution_count": 58,
      "metadata": {
        "colab": {
          "base_uri": "https://localhost:8080/",
          "height": 206
        },
        "id": "8kOlWA4qP_i6",
        "outputId": "8d5f67ab-f30e-454f-e34c-1c2f7b30dd61"
      },
      "outputs": [
        {
          "output_type": "execute_result",
          "data": {
            "text/plain": [
              "   MedInc  HouseAge  AveRooms  AveBedrms  Population  AveOccup  Latitude  \\\n",
              "0  8.3252      41.0  6.984127   1.023810       322.0  2.555556     37.88   \n",
              "1  8.3014      21.0  6.238137   0.971880      2401.0  2.109842     37.86   \n",
              "2  7.2574      52.0  8.288136   1.073446       496.0  2.802260     37.85   \n",
              "3  5.6431      52.0  5.817352   1.073059       558.0  2.547945     37.85   \n",
              "4  3.8462      52.0  6.281853   1.081081       565.0  2.181467     37.85   \n",
              "\n",
              "   Longitude  \n",
              "0    -122.23  \n",
              "1    -122.22  \n",
              "2    -122.24  \n",
              "3    -122.25  \n",
              "4    -122.25  "
            ],
            "text/html": [
              "\n",
              "  <div id=\"df-466a3a69-1087-4557-a4cd-65a65cd9e050\">\n",
              "    <div class=\"colab-df-container\">\n",
              "      <div>\n",
              "<style scoped>\n",
              "    .dataframe tbody tr th:only-of-type {\n",
              "        vertical-align: middle;\n",
              "    }\n",
              "\n",
              "    .dataframe tbody tr th {\n",
              "        vertical-align: top;\n",
              "    }\n",
              "\n",
              "    .dataframe thead th {\n",
              "        text-align: right;\n",
              "    }\n",
              "</style>\n",
              "<table border=\"1\" class=\"dataframe\">\n",
              "  <thead>\n",
              "    <tr style=\"text-align: right;\">\n",
              "      <th></th>\n",
              "      <th>MedInc</th>\n",
              "      <th>HouseAge</th>\n",
              "      <th>AveRooms</th>\n",
              "      <th>AveBedrms</th>\n",
              "      <th>Population</th>\n",
              "      <th>AveOccup</th>\n",
              "      <th>Latitude</th>\n",
              "      <th>Longitude</th>\n",
              "    </tr>\n",
              "  </thead>\n",
              "  <tbody>\n",
              "    <tr>\n",
              "      <th>0</th>\n",
              "      <td>8.3252</td>\n",
              "      <td>41.0</td>\n",
              "      <td>6.984127</td>\n",
              "      <td>1.023810</td>\n",
              "      <td>322.0</td>\n",
              "      <td>2.555556</td>\n",
              "      <td>37.88</td>\n",
              "      <td>-122.23</td>\n",
              "    </tr>\n",
              "    <tr>\n",
              "      <th>1</th>\n",
              "      <td>8.3014</td>\n",
              "      <td>21.0</td>\n",
              "      <td>6.238137</td>\n",
              "      <td>0.971880</td>\n",
              "      <td>2401.0</td>\n",
              "      <td>2.109842</td>\n",
              "      <td>37.86</td>\n",
              "      <td>-122.22</td>\n",
              "    </tr>\n",
              "    <tr>\n",
              "      <th>2</th>\n",
              "      <td>7.2574</td>\n",
              "      <td>52.0</td>\n",
              "      <td>8.288136</td>\n",
              "      <td>1.073446</td>\n",
              "      <td>496.0</td>\n",
              "      <td>2.802260</td>\n",
              "      <td>37.85</td>\n",
              "      <td>-122.24</td>\n",
              "    </tr>\n",
              "    <tr>\n",
              "      <th>3</th>\n",
              "      <td>5.6431</td>\n",
              "      <td>52.0</td>\n",
              "      <td>5.817352</td>\n",
              "      <td>1.073059</td>\n",
              "      <td>558.0</td>\n",
              "      <td>2.547945</td>\n",
              "      <td>37.85</td>\n",
              "      <td>-122.25</td>\n",
              "    </tr>\n",
              "    <tr>\n",
              "      <th>4</th>\n",
              "      <td>3.8462</td>\n",
              "      <td>52.0</td>\n",
              "      <td>6.281853</td>\n",
              "      <td>1.081081</td>\n",
              "      <td>565.0</td>\n",
              "      <td>2.181467</td>\n",
              "      <td>37.85</td>\n",
              "      <td>-122.25</td>\n",
              "    </tr>\n",
              "  </tbody>\n",
              "</table>\n",
              "</div>\n",
              "      <button class=\"colab-df-convert\" onclick=\"convertToInteractive('df-466a3a69-1087-4557-a4cd-65a65cd9e050')\"\n",
              "              title=\"Convert this dataframe to an interactive table.\"\n",
              "              style=\"display:none;\">\n",
              "        \n",
              "  <svg xmlns=\"http://www.w3.org/2000/svg\" height=\"24px\"viewBox=\"0 0 24 24\"\n",
              "       width=\"24px\">\n",
              "    <path d=\"M0 0h24v24H0V0z\" fill=\"none\"/>\n",
              "    <path d=\"M18.56 5.44l.94 2.06.94-2.06 2.06-.94-2.06-.94-.94-2.06-.94 2.06-2.06.94zm-11 1L8.5 8.5l.94-2.06 2.06-.94-2.06-.94L8.5 2.5l-.94 2.06-2.06.94zm10 10l.94 2.06.94-2.06 2.06-.94-2.06-.94-.94-2.06-.94 2.06-2.06.94z\"/><path d=\"M17.41 7.96l-1.37-1.37c-.4-.4-.92-.59-1.43-.59-.52 0-1.04.2-1.43.59L10.3 9.45l-7.72 7.72c-.78.78-.78 2.05 0 2.83L4 21.41c.39.39.9.59 1.41.59.51 0 1.02-.2 1.41-.59l7.78-7.78 2.81-2.81c.8-.78.8-2.07 0-2.86zM5.41 20L4 18.59l7.72-7.72 1.47 1.35L5.41 20z\"/>\n",
              "  </svg>\n",
              "      </button>\n",
              "      \n",
              "  <style>\n",
              "    .colab-df-container {\n",
              "      display:flex;\n",
              "      flex-wrap:wrap;\n",
              "      gap: 12px;\n",
              "    }\n",
              "\n",
              "    .colab-df-convert {\n",
              "      background-color: #E8F0FE;\n",
              "      border: none;\n",
              "      border-radius: 50%;\n",
              "      cursor: pointer;\n",
              "      display: none;\n",
              "      fill: #1967D2;\n",
              "      height: 32px;\n",
              "      padding: 0 0 0 0;\n",
              "      width: 32px;\n",
              "    }\n",
              "\n",
              "    .colab-df-convert:hover {\n",
              "      background-color: #E2EBFA;\n",
              "      box-shadow: 0px 1px 2px rgba(60, 64, 67, 0.3), 0px 1px 3px 1px rgba(60, 64, 67, 0.15);\n",
              "      fill: #174EA6;\n",
              "    }\n",
              "\n",
              "    [theme=dark] .colab-df-convert {\n",
              "      background-color: #3B4455;\n",
              "      fill: #D2E3FC;\n",
              "    }\n",
              "\n",
              "    [theme=dark] .colab-df-convert:hover {\n",
              "      background-color: #434B5C;\n",
              "      box-shadow: 0px 1px 3px 1px rgba(0, 0, 0, 0.15);\n",
              "      filter: drop-shadow(0px 1px 2px rgba(0, 0, 0, 0.3));\n",
              "      fill: #FFFFFF;\n",
              "    }\n",
              "  </style>\n",
              "\n",
              "      <script>\n",
              "        const buttonEl =\n",
              "          document.querySelector('#df-466a3a69-1087-4557-a4cd-65a65cd9e050 button.colab-df-convert');\n",
              "        buttonEl.style.display =\n",
              "          google.colab.kernel.accessAllowed ? 'block' : 'none';\n",
              "\n",
              "        async function convertToInteractive(key) {\n",
              "          const element = document.querySelector('#df-466a3a69-1087-4557-a4cd-65a65cd9e050');\n",
              "          const dataTable =\n",
              "            await google.colab.kernel.invokeFunction('convertToInteractive',\n",
              "                                                     [key], {});\n",
              "          if (!dataTable) return;\n",
              "\n",
              "          const docLinkHtml = 'Like what you see? Visit the ' +\n",
              "            '<a target=\"_blank\" href=https://colab.research.google.com/notebooks/data_table.ipynb>data table notebook</a>'\n",
              "            + ' to learn more about interactive tables.';\n",
              "          element.innerHTML = '';\n",
              "          dataTable['output_type'] = 'display_data';\n",
              "          await google.colab.output.renderOutput(dataTable, element);\n",
              "          const docLink = document.createElement('div');\n",
              "          docLink.innerHTML = docLinkHtml;\n",
              "          element.appendChild(docLink);\n",
              "        }\n",
              "      </script>\n",
              "    </div>\n",
              "  </div>\n",
              "  "
            ]
          },
          "metadata": {},
          "execution_count": 58
        }
      ],
      "source": [
        "data = fetch_california_housing()\n",
        "X = pd.DataFrame(data=data[\"data\"], columns=data[\"feature_names\"])\n",
        "y = data[\"target\"]\n",
        "X.head()"
      ]
    },
    {
      "cell_type": "code",
      "execution_count": 59,
      "metadata": {
        "colab": {
          "base_uri": "https://localhost:8080/"
        },
        "id": "ZCiBoySiP_i7",
        "outputId": "e1f1fd17-5700-4fa3-f01e-e536b6cb31fc"
      },
      "outputs": [
        {
          "output_type": "execute_result",
          "data": {
            "text/plain": [
              "array([4.526, 3.585, 3.521, ..., 0.923, 0.847, 0.894])"
            ]
          },
          "metadata": {},
          "execution_count": 59
        }
      ],
      "source": [
        "y"
      ]
    },
    {
      "cell_type": "markdown",
      "metadata": {
        "id": "QBmJImlLP_i7"
      },
      "source": [
        "Выведите график зависимости значения критерия ошибки от порогового значения при разбиении вершины по признаку `MedInc`.\n",
        "\n",
        "\n",
        "\n"
      ]
    },
    {
      "cell_type": "code",
      "execution_count": 61,
      "metadata": {
        "id": "D2rjKbevP_i8",
        "colab": {
          "base_uri": "https://localhost:8080/",
          "height": 607
        },
        "outputId": "3c79ce01-2838-4a55-e5c4-85dbbcefdcae"
      },
      "outputs": [
        {
          "output_type": "display_data",
          "data": {
            "text/plain": [
              "<Figure size 1000x600 with 1 Axes>"
            ],
            "image/png": "[encoded data removed]"
          },
          "metadata": {}
        }
      ],
      "source": [
        "%matplotlib inline\n",
        "\n",
        "# getting the values of \"MedInc\" feature and 'target_vector'\n",
        "feature_vector = X['MedInc'].values\n",
        "target_vector = y\n",
        "\n",
        "# calling the 'find_best_split' function\n",
        "thresholds, gini_values, threshold_best, gini_best = find_best_split(feature_vector, target_vector)\n",
        "\n",
        "# plotting the graph\n",
        "fig, ax = plt.subplots(figsize=(10, 6))\n",
        "ax.plot(thresholds, gini_values, color='b', label='Gini Index')\n",
        "ax.axvline(x=threshold_best, color='r', linestyle='--', label='Best Threshold')\n",
        "\n",
        "\n",
        "ax.set_xlabel('Threshold', fontsize=12)\n",
        "ax.set_ylabel('Gini Index', fontsize=12)\n",
        "ax.set_title('Dependency of Gini Index on Threshold (MedInc)', fontsize=14)\n",
        "ax.grid(True, linestyle='--', alpha=0.5)\n",
        "ax.legend()\n",
        "plt.tight_layout()\n",
        "\n",
        "plt.show()"
      ]
    },
    {
      "cell_type": "markdown",
      "metadata": {
        "id": "Qv4cGGJVP_i8"
      },
      "source": [
        "Найдите лучший, с вашей точки зрения, предикат первой вершины решающего дерева."
      ]
    },
    {
      "cell_type": "code",
      "execution_count": 62,
      "metadata": {
        "id": "sVXAtAwKP_i9",
        "colab": {
          "base_uri": "https://localhost:8080/"
        },
        "outputId": "7489fb3e-0679-47f3-8592-3f8eabfc717f"
      },
      "outputs": [
        {
          "output_type": "stream",
          "name": "stdout",
          "text": [
            "The best predicate: MedInc\n",
            "The best criterion value: 0.9847476488023436\n",
            "The best threshold value: 7.81515\n"
          ]
        }
      ],
      "source": [
        "# initializing all the necessary variables\n",
        "best_predicate = None\n",
        "best_threshold = None\n",
        "best_criterion_value = None\n",
        "\n",
        "target_vector = y\n",
        "# iterating over all the features from X: \n",
        "for feature in X.columns:\n",
        "  feature_vector = X[feature].values\n",
        "\n",
        "  # calling the function 'find_best_split' and getting all the outputs:\n",
        "  thresholds, criterion_values, threshold_best, criterion_best = find_best_split(feature_vector, target_vector)\n",
        "\n",
        "  # checking if the current H_R is better than the previous ones:\n",
        "  if best_criterion_value is None or criterion_best < best_criterion_value:\n",
        "    best_criterion_value = criterion_best\n",
        "    best_predicate = feature\n",
        "    best_threshold = threshold_best\n",
        "\n",
        "# printing out the results:\n",
        "print(f'The best predicate: {best_predicate}')\n",
        "print(f'The best criterion value: {best_criterion_value}')\n",
        "print(f'The best threshold value: {best_threshold}')"
      ]
    },
    {
      "cell_type": "markdown",
      "source": [
        "**ВЫВОД:** лучшим предикатом оказался признак 'MedInc'. В таком случае, при установлении threshold(порога) в ~7.8 получаем значение H_R равное 0.984."
      ],
      "metadata": {
        "id": "_-glCxdzZjyJ"
      }
    },
    {
      "cell_type": "markdown",
      "metadata": {
        "id": "IMxqX08xP_i9"
      },
      "source": [
        "**Задание 2.2 (1 балл)** Разберитесь с написанным кодом решающего дерева, заполните пропуски в коде и реализуйте недостающий метод `_predict_node()`.\n",
        "\n",
        "Построение дерева осуществляется согласно базовому жадному алгоритму, предложенному в лекции в разделе «Построение дерева».\n",
        "- **Выбор лучшего разбиения** необходимо производить по критерию Джини.\n",
        "- **Критерий останова:** все объекты в листе относятся к одному классу или ни по одному признаку нельзя разбить выборку.\n",
        "- **Ответ в листе:** наиболее часто встречающийся класс в листе.\n",
        "\n",
        "В задаче также предлагается получить два бонуса, по баллу на каждый!\n",
        "\n",
        "- **Реализуйте способ обрабатывать пропуски в данных и реализуйте его, пояснив свои действия.**\n",
        "- **Реализуйте метод оценки важности признаков.**"
      ]
    },
    {
      "cell_type": "code",
      "execution_count": null,
      "metadata": {
        "id": "CY0z1YedP_i9"
      },
      "outputs": [],
      "source": [
        "class DecisionTree:\n",
        "    \n",
        "    def __init__(\n",
        "        self, \n",
        "        feature_types: Union[List[str], np.ndarray], \n",
        "        max_depth: int = None, \n",
        "        min_samples_split: int = None, \n",
        "        min_samples_leaf: int = None,\n",
        "        task: str = \"classification\"\n",
        "    ) -> None:\n",
        "        \n",
        "        if np.any(list(map(lambda x: x != \"real\" and x != \"categorical\", feature_types))):\n",
        "            raise ValueError(\"There is unknown feature type\")\n",
        "\n",
        "        # В этой переменной будем хранить узлы решающего дерева. Каждая вершина хранит в себе идентификатор того,\n",
        "        # является ли она листовой. Листовые вершины хранят значение класса для предсказания, нелистовые - правого и\n",
        "        # левого детей (поддеревья для продолжения процедуры предсказания)\n",
        "        self._tree = {}\n",
        "        \n",
        "        # типы признаков (категориальные или числовые)\n",
        "        self._feature_types = feature_types\n",
        "        \n",
        "        # гиперпараметры дерева\n",
        "        self._max_depth = max_depth\n",
        "        self._min_samples_split = min_samples_split\n",
        "        self._min_samples_leaf = min_samples_leaf\n",
        "        self.task = task\n",
        "        \n",
        "        # Переменная, если вы решите делать бонус\n",
        "        self._feature_importances = {}\n",
        "        \n",
        "\n",
        "    def _fit_node(\n",
        "        self, \n",
        "        sub_X: np.ndarray, \n",
        "        sub_y: np.ndarray, \n",
        "        node: dict\n",
        "    ) -> None:\n",
        "        \n",
        "        # критерий останова\n",
        "        if np.all(sub_y == sub_y[0]):\n",
        "            node[\"type\"] = \"terminal\"\n",
        "            node[\"class\"] = sub_y[0]\n",
        "            return\n",
        "\n",
        "        feature_best, threshold_best, gini_best, split = None, None, None, None\n",
        "        for feature in range(sub_X.shape[1]):\n",
        "            feature_type = self._feature_types[feature]\n",
        "            categories_map = {}\n",
        "\n",
        "            # подготавливаем признак для поиска оптимального порога\n",
        "            if feature_type == \"real\":\n",
        "                feature_vector = sub_X[:, feature]\n",
        "            elif feature_type == \"categorical\":\n",
        "                # здесь могла быть реализация более сложного подхода к обработке категориального признака\n",
        "                feature_vector = sub_X[:, feature]\n",
        "\n",
        "            # ищем оптимальный порог\n",
        "            _, _, threshold, gini = find_best_split(feature_vector, sub_y, self.task, feature_type)\n",
        "            \n",
        "            if gini_best is None or gini > gini_best:\n",
        "                feature_best = feature\n",
        "                gini_best = gini\n",
        "\n",
        "                # split - маска на объекты, которые должны попасть в левое поддерево\n",
        "                if feature_type == \"real\":\n",
        "                    threshold_best = threshold\n",
        "                    split = # ᕕ(╭ರ╭ ͟ʖ╮•́)⊃¤=(————\n",
        "                elif feature_type == \"categorical\":\n",
        "                    # в данной реализации это просто значение категории\n",
        "                    threshold_best = threshold\n",
        "                    split = # ᕕ(╭ರ╭ ͟ʖ╮•́)⊃¤=(————\n",
        "                else:\n",
        "                    raise ValueError\n",
        "\n",
        "        # записываем полученные сплиты в атрибуты класса\n",
        "        if feature_best is None:\n",
        "            node[\"type\"] = \"terminal\"\n",
        "            node[\"class\"] = Counter(sub_y).most_common(1)[0][0]\n",
        "            return\n",
        "\n",
        "        node[\"type\"] = \"nonterminal\"\n",
        "\n",
        "        node[\"feature_split\"] = feature_best\n",
        "        if self._feature_types[feature_best] == \"real\":\n",
        "            node[\"threshold\"] = threshold_best\n",
        "        elif self._feature_types[feature_best] == \"categorical\":\n",
        "            node[\"category_split\"] = threshold_best\n",
        "        else:\n",
        "            raise ValueError\n",
        "            \n",
        "        node[\"left_child\"], node[\"right_child\"] = {}, {}\n",
        "        self._fit_node(sub_X[split], sub_y[split], node[\"left_child\"])\n",
        "        self._fit_node(sub_X[np.logical_not(split)], sub_y[np.logical_not(split)], node[\"right_child\"])\n",
        "\n",
        "    def _predict_node(self, x: np.ndarray, node: dict) -> int:\n",
        "        \"\"\"\n",
        "        Предсказание начинается с корневой вершины дерева и рекурсивно идёт в левое или правое поддерево в зависимости от значения\n",
        "        предиката на объекте. Листовая вершина возвращает предсказание.\n",
        "        :param x: np.array, элемент выборки\n",
        "        :param node: dict, вершина дерева\n",
        "        \"\"\"\n",
        "        # ᕕ(╭ರ╭ ͟ʖ╮•́)⊃¤=(————\n",
        "        pass\n",
        "\n",
        "    def fit(self, X: np.ndarray, y: np.ndarray) -> None:\n",
        "        self._fit_node(X, y, self._tree)\n",
        "\n",
        "    def predict(self, X: np.ndarray) -> np.ndarray:\n",
        "        predicted = []\n",
        "        for x in X:\n",
        "            predicted.append(self._predict_node(x, self._tree))\n",
        "            \n",
        "        return np.array(predicted)"
      ]
    },
    {
      "cell_type": "markdown",
      "metadata": {
        "id": "o_ipW5RHP_i_"
      },
      "source": [
        "**Задание 2.3 (1 балл)** Загрузите таблицу `students.csv` (это немного преобразованный датасет [User Knowledge](https://archive.ics.uci.edu/ml/datasets/User+Knowledge+Modeling)). В ней признаки объекта записаны в первых пяти столбцах, а в последнем записана целевая переменная (класс: 0 или 1). Постройте на одном изображении пять кривых \"порог — значение критерия Джини\" для всех пяти признаков. Отдельно визуализируйте диаграммы рассеяния \"значение признака — класс\" для всех пяти признаков."
      ]
    },
    {
      "cell_type": "code",
      "execution_count": null,
      "metadata": {
        "id": "ERuH5k4MP_i_"
      },
      "outputs": [],
      "source": [
        "# ᕕ(╭ರ╭ ͟ʖ╮•́)⊃¤=(————"
      ]
    },
    {
      "cell_type": "markdown",
      "metadata": {
        "id": "rY0Qnm07P_i_"
      },
      "source": [
        "Исходя из кривых значений критерия Джини, по какому признаку нужно производить деление выборки на два поддерева? Согласуется ли этот результат с визуальной оценкой диаграмм рассеяиния? Как бы охарактеризовали вид кривой для \"хороших\" признаков, по которым выборка делится почти идеально? Чем отличаются кривые для признаков, по которым деление практически невозможно?"
      ]
    },
    {
      "cell_type": "code",
      "execution_count": null,
      "metadata": {
        "id": "lIz6NoaMP_jA"
      },
      "outputs": [],
      "source": [
        "# ᕕ(╭ರ╭ ͟ʖ╮•́)⊃¤=(————"
      ]
    },
    {
      "cell_type": "markdown",
      "metadata": {
        "id": "rgqVP86DP_jA"
      },
      "source": [
        "**Задание 2.4 (1 балл)** Протестируйте свое решающее дерево на датасете [mushrooms](https://archive.ics.uci.edu/ml/datasets/Mushroom). \n",
        "\n",
        "1. Скачайте таблицу `agaricus-lepiota.data` (из [Data Folder](https://archive.ics.uci.edu/ml/machine-learning-databases/mushroom/)), \n",
        "2. Считайте таблицу при помощи `pandas`,\n",
        "3. Примените к каждому столбцу `LabelEncoder` (из `sklearn`), чтобы преобразовать строковые имена категорий в натуральные числа. \n",
        "\n",
        "Первый столбец — это целевая переменная (e — edible, p — poisonous) Мы будем измерять качество с помощью accuracy, так что нам не очень важно, что будет классом 1, а что — классом 0. Обучите решающее дерево на половине случайно выбранных объектов (признаки в датасете категориальные) и сделайте предсказания для оставшейся половины. Вычислите accuracy."
      ]
    },
    {
      "cell_type": "code",
      "execution_count": null,
      "metadata": {
        "id": "RxMqIT9qP_jB"
      },
      "outputs": [],
      "source": [
        "# ᕕ(╭ರ╭ ͟ʖ╮•́)⊃¤=(————"
      ]
    },
    {
      "cell_type": "markdown",
      "metadata": {
        "id": "i3U7UuUoP_jB"
      },
      "source": [
        "## Часть 3: Бэггинг и случайный лес (4 балла)"
      ]
    },
    {
      "cell_type": "markdown",
      "metadata": {
        "id": "zAjOKi0hP_jC"
      },
      "source": [
        "В данной части мы будем работать [с задачей предсказания диабета у пациента](https://www.kaggle.com/uciml/pima-indians-diabetes-database/data). Посмотрим на работу бэггинга над решающими деревьями и случайного леса, сравним их работу."
      ]
    },
    {
      "cell_type": "code",
      "execution_count": null,
      "metadata": {
        "id": "-e76Mt2lP_jC"
      },
      "outputs": [],
      "source": [
        "from sklearn.ensemble import BaggingClassifier, RandomForestClassifier\n",
        "from sklearn.metrics import accuracy_score, precision_score, recall_score, roc_auc_score\n",
        "from sklearn.model_selection import train_test_split\n",
        "from sklearn.tree import DecisionTreeClassifier"
      ]
    },
    {
      "cell_type": "code",
      "execution_count": null,
      "metadata": {
        "id": "IbKCFHqYP_jD",
        "scrolled": true
      },
      "outputs": [],
      "source": [
        "data = pd.read_csv('diabetes.csv')\n",
        "print(f\"Dataset shape: {data.shape}\")\n",
        "data.head()"
      ]
    },
    {
      "cell_type": "markdown",
      "metadata": {
        "id": "FPkUx8wpP_jD"
      },
      "source": [
        "Посмотрим на распределение целевой переменной"
      ]
    },
    {
      "cell_type": "code",
      "execution_count": null,
      "metadata": {
        "id": "G_WySjhqP_jD"
      },
      "outputs": [],
      "source": [
        "data['Outcome'].hist()\n",
        "plt.show()"
      ]
    },
    {
      "cell_type": "markdown",
      "metadata": {
        "id": "vHEbLrR6P_jE"
      },
      "source": [
        "**Задание 3.1 (0.5 балла)** Разделите данные на признаки и целевую переменную. Разбейте датасет на обучающую и тестовую части в отношении 7:3. Затем разделите обучающую выборку на обучающую-обучающую и обучающую-валидационную в соотношении 7:3 (то есть в итоге должно получиться три выборки: обучающая-обучающая (0.49 от исходного датасета), обучающая-валидационная (0.21 от исходного датасета) и тестовая (0.3 от исходного датасета)."
      ]
    },
    {
      "cell_type": "code",
      "execution_count": null,
      "metadata": {
        "id": "kSTdIsLoP_jE"
      },
      "outputs": [],
      "source": [
        "# ᕕ(╭ರ╭ ͟ʖ╮•́)⊃¤=(————"
      ]
    },
    {
      "cell_type": "markdown",
      "metadata": {
        "id": "foqOMCVWP_jE"
      },
      "source": [
        "**Задание 3.2 (1 балл)** На обучающей-валидационной выборке подберите оптимальные значения гиперпараметров `max_depth` и `min_samples_leaf` для `DecisionTreeClassifier`. Для этого:\n",
        "1. Создайте списки с возможными значениями для перебора.\n",
        "2. Для каждой пары значений обучите дерево на обучающей-обучающей выборке и определите качество на обучающей-валидационной выборке. В качестве критерия будем использовать `f1-меру`.\n",
        "3. Выберите ту пару значений, которая даёт наилучшее качество на обучающей-валидационной выборке. \n",
        "\n",
        "\n",
        "Обучите решающее дерево с подобранными гиперпараметрами на **полной обучающей** выборке. Оцените качество классификации на тестовой выборке по метрикам `accuracy`, `precision` и `recall`, `auc_roc`."
      ]
    },
    {
      "cell_type": "code",
      "execution_count": null,
      "metadata": {
        "id": "LLmiflHeP_jE"
      },
      "outputs": [],
      "source": [
        "# ᕕ(╭ರ╭ ͟ʖ╮•́)⊃¤=(————"
      ]
    },
    {
      "cell_type": "markdown",
      "metadata": {
        "id": "j0JxQBLDP_jO"
      },
      "source": [
        "**Задание 3.3 (0.5 балла)** Обучите [`BaggingClassifier`](https://scikit-learn.org/stable/modules/generated/sklearn.ensemble.BaggingClassifier.html) на 50 деревьях на **полной обучающей** выборке. Оцените качество классификации на тестовой выборке по тем же метрикам."
      ]
    },
    {
      "cell_type": "code",
      "execution_count": null,
      "metadata": {
        "id": "ilvfNUX5P_jP"
      },
      "outputs": [],
      "source": [
        "# ᕕ(╭ರ╭ ͟ʖ╮•́)⊃¤=(————"
      ]
    },
    {
      "cell_type": "markdown",
      "metadata": {
        "id": "7oREFB_HP_jP"
      },
      "source": [
        "**Задание 3.4 (1 балл)** Выполните кросс-валидацию на полной обучающей выборке и подберите оптимальные значения гиперпараметров `max_depth` и `min_samples_split` для `Random Forest` с 50 деревьями. Для этого:\n",
        "\n",
        "1. Создайте списки с возможными значениями для перебора.\n",
        "2. Для каждой пары значений проведите кросс-валидацию на полной обучающей выборке. Количество разбиений выберите на ваш вкус. В качестве критерия будем использовать `f1-меру`. Усредните значение критерия по всем прогонам кросс-валидации. \n",
        "3. Выберите ту пару значений, которая даёт наилучшее среднее качество. \n",
        "\n",
        "Обучите случайный лес с подобранными гиперпараметрами на **полной обучающей** выборке. Оцените качество классификации по тем же метрикам. Какая из трёх построенных моделей показала себя лучше?"
      ]
    },
    {
      "cell_type": "code",
      "execution_count": null,
      "metadata": {
        "id": "C0Mc2v2xP_jP"
      },
      "outputs": [],
      "source": [
        "# ᕕ(╭ರ╭ ͟ʖ╮•́)⊃¤=(————"
      ]
    },
    {
      "cell_type": "markdown",
      "metadata": {
        "id": "9ydY1LqbP_jP"
      },
      "source": [
        "**Задание 3.5 (0.5 балла)** Постройте график зависимости AUC ROC на тестовой выборке от числа деревьев (`n_estimators`) для случайного леса, обучаемого на **полной обучающей** выборке. Какие выводы можно сделать?"
      ]
    },
    {
      "cell_type": "code",
      "execution_count": null,
      "metadata": {
        "id": "BNFl8APOP_jP"
      },
      "outputs": [],
      "source": [
        "# ᕕ(╭ರ╭ ͟ʖ╮•́)⊃¤=(————"
      ]
    },
    {
      "cell_type": "markdown",
      "metadata": {
        "id": "zAWkEFvTP_jQ"
      },
      "source": [
        "**Задание 3.6 (0.5 балла)** Для лучшей модели случайного леса из **Задания 3.4** посчитайте важность признаков и постройте bar plot. Какой признак оказался самым важным для определения диабета?"
      ]
    },
    {
      "cell_type": "code",
      "execution_count": null,
      "metadata": {
        "id": "ly-m-57KP_jQ"
      },
      "outputs": [],
      "source": [
        "# ᕕ(╭ರ╭ ͟ʖ╮•́)⊃¤=(————"
      ]
    }
  ],
  "metadata": {
    "colab": {
      "provenance": [],
      "include_colab_link": true
    },
    "kernelspec": {
      "display_name": "Python 3",
      "language": "python",
      "name": "python3"
    },
    "language_info": {
      "codemirror_mode": {
        "name": "ipython",
        "version": 3
      },
      "file_extension": ".py",
      "mimetype": "text/x-python",
      "name": "python",
      "nbconvert_exporter": "python",
      "pygments_lexer": "ipython3",
      "version": "3.8.5"
    }
  },
  "nbformat": 4,
  "nbformat_minor": 0
}