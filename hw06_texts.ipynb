{
  "cells": [
    {
      "cell_type": "markdown",
      "metadata": {
        "id": "view-in-github",
        "colab_type": "text"
      },
      "source": [
        "<a href=\"https://colab.research.google.com/github/lapshinaaa/homework_machineLearning/blob/main/hw06_texts.ipynb\" target=\"_parent\"><img src=\"https://colab.research.google.com/assets/colab-badge.svg\" alt=\"Open In Colab\"/></a>"
      ]
    },
    {
      "cell_type": "markdown",
      "metadata": {
        "id": "xrvOD02o3HvH"
      },
      "source": [
        "# Домашнее задание 6: классификация текстов"
      ]
    },
    {
      "cell_type": "markdown",
      "metadata": {
        "id": "sxwj_Iie3HvJ"
      },
      "source": [
        "В этом домашнем задании вам предстоит построить классификатор текстов!\n",
        "\n",
        "Данные мы будем использовать из Kaggle соревнования: https://www.kaggle.com/competitions/nlp-getting-started/data \n",
        "\n",
        "\n",
        "Оттуда надо скачать файл train.csv. На обучающую и тестовую выборки его поделим кодом ниже, менять его не надо!"
      ]
    },
    {
      "cell_type": "markdown",
      "metadata": {
        "id": "qQVgqLg93HvJ"
      },
      "source": [
        "Мы будем работать с датасетом постов из твиттера. Нам предстоит решать задачу бинарной классификации - определять содержатся ли в твитте информация о настоящей катастрофе/инциденте или нет."
      ]
    },
    {
      "cell_type": "code",
      "execution_count": 1,
      "metadata": {
        "id": "TcjEYh7R3HvK"
      },
      "outputs": [],
      "source": [
        "import numpy as np\n",
        "import pandas as pd\n",
        "from typing import  List\n",
        "import matplotlib.pyplot as plt\n",
        "%matplotlib inline\n",
        "import seaborn as sns\n",
        "from string import punctuation\n",
        "import warnings\n",
        "warnings.filterwarnings('ignore')"
      ]
    },
    {
      "cell_type": "code",
      "source": [
        "# unnecessary code lines since I directly downloaded the file 'train.csv'\n",
        "#!pip install kaggle\n",
        "\n",
        "#from google.colab import files\n",
        "#files.upload()\n",
        "\n",
        "#!mkdir -p ~/.kaggle\n",
        "#!cp kaggle.json ~/.kaggle/"
      ],
      "metadata": {
        "id": "Ig_7zY7qDUAm"
      },
      "execution_count": 2,
      "outputs": []
    },
    {
      "cell_type": "code",
      "execution_count": 3,
      "metadata": {
        "id": "mjwffGiB3HvK"
      },
      "outputs": [],
      "source": [
        "data = pd.read_csv('train.csv')"
      ]
    },
    {
      "cell_type": "code",
      "execution_count": 4,
      "metadata": {
        "colab": {
          "base_uri": "https://localhost:8080/",
          "height": 206
        },
        "id": "v0uUoFTN3HvK",
        "outputId": "10611aab-e207-4b78-da7c-77238511ead4"
      },
      "outputs": [
        {
          "output_type": "execute_result",
          "data": {
            "text/plain": [
              "   id keyword location                                               text  \\\n",
              "0   1     NaN      NaN  Our Deeds are the Reason of this #earthquake M...   \n",
              "1   4     NaN      NaN             Forest fire near La Ronge Sask. Canada   \n",
              "2   5     NaN      NaN  All residents asked to 'shelter in place' are ...   \n",
              "3   6     NaN      NaN  13,000 people receive #wildfires evacuation or...   \n",
              "4   7     NaN      NaN  Just got sent this photo from Ruby #Alaska as ...   \n",
              "\n",
              "   target  \n",
              "0       1  \n",
              "1       1  \n",
              "2       1  \n",
              "3       1  \n",
              "4       1  "
            ],
            "text/html": [
              "\n",
              "  <div id=\"df-98854d3d-b94b-4a5d-a44a-6d8a5b4f5b06\">\n",
              "    <div class=\"colab-df-container\">\n",
              "      <div>\n",
              "<style scoped>\n",
              "    .dataframe tbody tr th:only-of-type {\n",
              "        vertical-align: middle;\n",
              "    }\n",
              "\n",
              "    .dataframe tbody tr th {\n",
              "        vertical-align: top;\n",
              "    }\n",
              "\n",
              "    .dataframe thead th {\n",
              "        text-align: right;\n",
              "    }\n",
              "</style>\n",
              "<table border=\"1\" class=\"dataframe\">\n",
              "  <thead>\n",
              "    <tr style=\"text-align: right;\">\n",
              "      <th></th>\n",
              "      <th>id</th>\n",
              "      <th>keyword</th>\n",
              "      <th>location</th>\n",
              "      <th>text</th>\n",
              "      <th>target</th>\n",
              "    </tr>\n",
              "  </thead>\n",
              "  <tbody>\n",
              "    <tr>\n",
              "      <th>0</th>\n",
              "      <td>1</td>\n",
              "      <td>NaN</td>\n",
              "      <td>NaN</td>\n",
              "      <td>Our Deeds are the Reason of this #earthquake M...</td>\n",
              "      <td>1</td>\n",
              "    </tr>\n",
              "    <tr>\n",
              "      <th>1</th>\n",
              "      <td>4</td>\n",
              "      <td>NaN</td>\n",
              "      <td>NaN</td>\n",
              "      <td>Forest fire near La Ronge Sask. Canada</td>\n",
              "      <td>1</td>\n",
              "    </tr>\n",
              "    <tr>\n",
              "      <th>2</th>\n",
              "      <td>5</td>\n",
              "      <td>NaN</td>\n",
              "      <td>NaN</td>\n",
              "      <td>All residents asked to 'shelter in place' are ...</td>\n",
              "      <td>1</td>\n",
              "    </tr>\n",
              "    <tr>\n",
              "      <th>3</th>\n",
              "      <td>6</td>\n",
              "      <td>NaN</td>\n",
              "      <td>NaN</td>\n",
              "      <td>13,000 people receive #wildfires evacuation or...</td>\n",
              "      <td>1</td>\n",
              "    </tr>\n",
              "    <tr>\n",
              "      <th>4</th>\n",
              "      <td>7</td>\n",
              "      <td>NaN</td>\n",
              "      <td>NaN</td>\n",
              "      <td>Just got sent this photo from Ruby #Alaska as ...</td>\n",
              "      <td>1</td>\n",
              "    </tr>\n",
              "  </tbody>\n",
              "</table>\n",
              "</div>\n",
              "      <button class=\"colab-df-convert\" onclick=\"convertToInteractive('df-98854d3d-b94b-4a5d-a44a-6d8a5b4f5b06')\"\n",
              "              title=\"Convert this dataframe to an interactive table.\"\n",
              "              style=\"display:none;\">\n",
              "        \n",
              "  <svg xmlns=\"http://www.w3.org/2000/svg\" height=\"24px\"viewBox=\"0 0 24 24\"\n",
              "       width=\"24px\">\n",
              "    <path d=\"M0 0h24v24H0V0z\" fill=\"none\"/>\n",
              "    <path d=\"M18.56 5.44l.94 2.06.94-2.06 2.06-.94-2.06-.94-.94-2.06-.94 2.06-2.06.94zm-11 1L8.5 8.5l.94-2.06 2.06-.94-2.06-.94L8.5 2.5l-.94 2.06-2.06.94zm10 10l.94 2.06.94-2.06 2.06-.94-2.06-.94-.94-2.06-.94 2.06-2.06.94z\"/><path d=\"M17.41 7.96l-1.37-1.37c-.4-.4-.92-.59-1.43-.59-.52 0-1.04.2-1.43.59L10.3 9.45l-7.72 7.72c-.78.78-.78 2.05 0 2.83L4 21.41c.39.39.9.59 1.41.59.51 0 1.02-.2 1.41-.59l7.78-7.78 2.81-2.81c.8-.78.8-2.07 0-2.86zM5.41 20L4 18.59l7.72-7.72 1.47 1.35L5.41 20z\"/>\n",
              "  </svg>\n",
              "      </button>\n",
              "      \n",
              "  <style>\n",
              "    .colab-df-container {\n",
              "      display:flex;\n",
              "      flex-wrap:wrap;\n",
              "      gap: 12px;\n",
              "    }\n",
              "\n",
              "    .colab-df-convert {\n",
              "      background-color: #E8F0FE;\n",
              "      border: none;\n",
              "      border-radius: 50%;\n",
              "      cursor: pointer;\n",
              "      display: none;\n",
              "      fill: #1967D2;\n",
              "      height: 32px;\n",
              "      padding: 0 0 0 0;\n",
              "      width: 32px;\n",
              "    }\n",
              "\n",
              "    .colab-df-convert:hover {\n",
              "      background-color: #E2EBFA;\n",
              "      box-shadow: 0px 1px 2px rgba(60, 64, 67, 0.3), 0px 1px 3px 1px rgba(60, 64, 67, 0.15);\n",
              "      fill: #174EA6;\n",
              "    }\n",
              "\n",
              "    [theme=dark] .colab-df-convert {\n",
              "      background-color: #3B4455;\n",
              "      fill: #D2E3FC;\n",
              "    }\n",
              "\n",
              "    [theme=dark] .colab-df-convert:hover {\n",
              "      background-color: #434B5C;\n",
              "      box-shadow: 0px 1px 3px 1px rgba(0, 0, 0, 0.15);\n",
              "      filter: drop-shadow(0px 1px 2px rgba(0, 0, 0, 0.3));\n",
              "      fill: #FFFFFF;\n",
              "    }\n",
              "  </style>\n",
              "\n",
              "      <script>\n",
              "        const buttonEl =\n",
              "          document.querySelector('#df-98854d3d-b94b-4a5d-a44a-6d8a5b4f5b06 button.colab-df-convert');\n",
              "        buttonEl.style.display =\n",
              "          google.colab.kernel.accessAllowed ? 'block' : 'none';\n",
              "\n",
              "        async function convertToInteractive(key) {\n",
              "          const element = document.querySelector('#df-98854d3d-b94b-4a5d-a44a-6d8a5b4f5b06');\n",
              "          const dataTable =\n",
              "            await google.colab.kernel.invokeFunction('convertToInteractive',\n",
              "                                                     [key], {});\n",
              "          if (!dataTable) return;\n",
              "\n",
              "          const docLinkHtml = 'Like what you see? Visit the ' +\n",
              "            '<a target=\"_blank\" href=https://colab.research.google.com/notebooks/data_table.ipynb>data table notebook</a>'\n",
              "            + ' to learn more about interactive tables.';\n",
              "          element.innerHTML = '';\n",
              "          dataTable['output_type'] = 'display_data';\n",
              "          await google.colab.output.renderOutput(dataTable, element);\n",
              "          const docLink = document.createElement('div');\n",
              "          docLink.innerHTML = docLinkHtml;\n",
              "          element.appendChild(docLink);\n",
              "        }\n",
              "      </script>\n",
              "    </div>\n",
              "  </div>\n",
              "  "
            ]
          },
          "metadata": {},
          "execution_count": 4
        }
      ],
      "source": [
        "data.head()"
      ]
    },
    {
      "cell_type": "code",
      "execution_count": 5,
      "metadata": {
        "id": "f49NdWY23HvL"
      },
      "outputs": [],
      "source": [
        "from sklearn.model_selection import train_test_split\n",
        "\n",
        "train, test = train_test_split(data, test_size=0.3, random_state=42)"
      ]
    },
    {
      "cell_type": "markdown",
      "metadata": {
        "id": "YlLemInT3HvL"
      },
      "source": [
        "## Задание 1 (0.5 балла)\n",
        "\n",
        "Выведете на экран информацию о пропусках в данных. Если пропуски присутствуют заполните их пустой строкой."
      ]
    },
    {
      "cell_type": "code",
      "source": [
        "from sklearn.impute import SimpleImputer\n",
        "# checking for missing values:\n",
        "train.isnull().values.any() # output: True --> found missing values"
      ],
      "metadata": {
        "id": "96aJxmkV4105",
        "colab": {
          "base_uri": "https://localhost:8080/"
        },
        "outputId": "a3988368-5e67-4d45-88b4-30fccf155c8f"
      },
      "execution_count": 6,
      "outputs": [
        {
          "output_type": "execute_result",
          "data": {
            "text/plain": [
              "True"
            ]
          },
          "metadata": {},
          "execution_count": 6
        }
      ]
    },
    {
      "cell_type": "code",
      "source": [
        "test.isnull().values.any() # output: True --> found missing values"
      ],
      "metadata": {
        "colab": {
          "base_uri": "https://localhost:8080/"
        },
        "id": "RqqsjJnq2PdG",
        "outputId": "3f44aa9e-c6c2-481f-be3d-bca62f553ec7"
      },
      "execution_count": 7,
      "outputs": [
        {
          "output_type": "execute_result",
          "data": {
            "text/plain": [
              "True"
            ]
          },
          "metadata": {},
          "execution_count": 7
        }
      ]
    },
    {
      "cell_type": "code",
      "source": [
        "# filling in the blanks with empty strings:\n",
        "train = train.fillna('')\n",
        "test = test.fillna('')\n",
        "train.isnull().values.any() # output: False --> no missing values found\n",
        "test.isnull().values.any()  # output: False --> no missing values found"
      ],
      "metadata": {
        "colab": {
          "base_uri": "https://localhost:8080/"
        },
        "id": "xkcnx6Q62G-V",
        "outputId": "b90de35f-1c73-4542-cab4-b926cee65e92"
      },
      "execution_count": 8,
      "outputs": [
        {
          "output_type": "execute_result",
          "data": {
            "text/plain": [
              "False"
            ]
          },
          "metadata": {},
          "execution_count": 8
        }
      ]
    },
    {
      "cell_type": "markdown",
      "metadata": {
        "id": "A8CPBUal3HvL"
      },
      "source": [
        "## Задание 2 (1 балл)\n",
        "Давайте немного посмотрим на наши данные. Визуализируйте (где явно просят) или выведете информацию о следующем:\n",
        "\n",
        "1. Какое распределение классов в обучающей выборке?\n"
      ]
    },
    {
      "cell_type": "code",
      "source": [
        "# getting the target variable\n",
        "y_train = train['target']\n",
        "\n",
        "# checking the balance of classes:\n",
        "print('Balance of classes:')\n",
        "print(y_train.value_counts())"
      ],
      "metadata": {
        "id": "WvJ_EU9o5BGm",
        "colab": {
          "base_uri": "https://localhost:8080/"
        },
        "outputId": "572b1305-4bc0-4925-bdd7-47e79342e7c4"
      },
      "execution_count": 9,
      "outputs": [
        {
          "output_type": "stream",
          "name": "stdout",
          "text": [
            "Balance of classes:\n",
            "0    3024\n",
            "1    2305\n",
            "Name: target, dtype: int64\n"
          ]
        }
      ]
    },
    {
      "cell_type": "markdown",
      "source": [
        "2. Посмотрите на колонку \"keyword\" - возьмите 10 наиболее встречающихся значений, постройте ступенчатую диаграмму распределения классов в зависимости от значения keyword, сделайте выводы."
      ],
      "metadata": {
        "id": "f08KScbP5q2y"
      }
    },
    {
      "cell_type": "code",
      "source": [
        "# getting the most popular keywords as a list:\n",
        "# taking 11 most popular, and then cutting the first one since it's an empty string\n",
        "popular_keywords = train['keyword'].value_counts().sort_values()[::-1][:11][1:]\n",
        "popular_keywords"
      ],
      "metadata": {
        "id": "WSCb0htu5w_Y",
        "colab": {
          "base_uri": "https://localhost:8080/"
        },
        "outputId": "cc1edeb3-76c1-4f03-ce37-24495c997f8c"
      },
      "execution_count": 10,
      "outputs": [
        {
          "output_type": "execute_result",
          "data": {
            "text/plain": [
              "damage               36\n",
              "siren                35\n",
              "wreckage             34\n",
              "fatalities           33\n",
              "deluge               31\n",
              "emergency            30\n",
              "harm                 30\n",
              "twister              30\n",
              "nuclear%20reactor    30\n",
              "fatality             30\n",
              "Name: keyword, dtype: int64"
            ]
          },
          "metadata": {},
          "execution_count": 10
        }
      ]
    },
    {
      "cell_type": "code",
      "source": [
        "# Choosing only 'keyword' and 'target' columns for a new dataframe\n",
        "df = train[['keyword', 'target']]\n",
        "popular_keywords = df['keyword'].value_counts().sort_values()[::-1][:11][1:].index.tolist() \n",
        "df = df[df['keyword'].isin(popular_keywords)]\n",
        "\n",
        "# plotting the distribution\n",
        "sns.displot(data=df, x='keyword', hue='target', element='step', alpha=0.5, height=8, aspect=2.5)\n",
        "\n",
        "plt.xlabel('Keyword')\n",
        "plt.ylabel('Count')\n",
        "plt.title('Distribution of target variable depending on a keyword')\n",
        "\n",
        "# showing the plot\n",
        "plt.show()"
      ],
      "metadata": {
        "id": "QIcbXybf7Llb",
        "colab": {
          "base_uri": "https://localhost:8080/",
          "height": 501
        },
        "outputId": "64d49576-8054-4fed-bbd5-4884d13de861"
      },
      "execution_count": 11,
      "outputs": [
        {
          "output_type": "display_data",
          "data": {
            "text/plain": [
              "<Figure size 2058.88x800 with 1 Axes>"
            ],
            "image/png": "[encoded data removed]"
          },
          "metadata": {}
        }
      ]
    },
    {
      "cell_type": "markdown",
      "source": [
        "**Выводы**: анализируя график распределения классов, можем сделать вывод о том, что такие ключевые слова, как \"wreckage\", \"fatalities\", \"damage\" часто говорят о наличии информации о настоящей катастрофе/инциденте в твите. В то же время, \"twister\", \"siren\", \"harm\", напротив, содержатся чаще всего в твитах, не содержащих информации о катастрофе."
      ],
      "metadata": {
        "id": "l4al3g9E-P09"
      }
    },
    {
      "cell_type": "markdown",
      "metadata": {
        "id": "c006nNBP3HvM"
      },
      "source": [
        "## Задание 3 (0.5 балла) \n",
        "\n",
        "В этом задании предлагается объединить все три текстовых столбца в один (просто сконкатенировать cтроки) и убрать столбец с индексом."
      ]
    },
    {
      "cell_type": "code",
      "source": [
        "train.loc[[6590, 7122, 2769]]"
      ],
      "metadata": {
        "colab": {
          "base_uri": "https://localhost:8080/",
          "height": 143
        },
        "id": "GdF9gFmL-c0r",
        "outputId": "9b2d7789-8313-4299-b66f-55e6901d1724"
      },
      "execution_count": 12,
      "outputs": [
        {
          "output_type": "execute_result",
          "data": {
            "text/plain": [
              "         id          keyword      location  \\\n",
              "6590   9436        survivors  Marietta, GA   \n",
              "7122  10203  violent%20storm                 \n",
              "2769   3980      devastation  Atlanta g.a.   \n",
              "\n",
              "                                                   text  target  \n",
              "6590  Stemming from my #Cubs talk- the team rosters ...       1  \n",
              "7122  If you were the NWS wth a rotating storm w/ a ...       1  \n",
              "2769  http://t.co/Gxgm1T3W0J From Devastation to Ela...       0  "
            ],
            "text/html": [
              "\n",
              "  <div id=\"df-4b66c561-86b9-4295-8081-894e9fe4cf12\">\n",
              "    <div class=\"colab-df-container\">\n",
              "      <div>\n",
              "<style scoped>\n",
              "    .dataframe tbody tr th:only-of-type {\n",
              "        vertical-align: middle;\n",
              "    }\n",
              "\n",
              "    .dataframe tbody tr th {\n",
              "        vertical-align: top;\n",
              "    }\n",
              "\n",
              "    .dataframe thead th {\n",
              "        text-align: right;\n",
              "    }\n",
              "</style>\n",
              "<table border=\"1\" class=\"dataframe\">\n",
              "  <thead>\n",
              "    <tr style=\"text-align: right;\">\n",
              "      <th></th>\n",
              "      <th>id</th>\n",
              "      <th>keyword</th>\n",
              "      <th>location</th>\n",
              "      <th>text</th>\n",
              "      <th>target</th>\n",
              "    </tr>\n",
              "  </thead>\n",
              "  <tbody>\n",
              "    <tr>\n",
              "      <th>6590</th>\n",
              "      <td>9436</td>\n",
              "      <td>survivors</td>\n",
              "      <td>Marietta, GA</td>\n",
              "      <td>Stemming from my #Cubs talk- the team rosters ...</td>\n",
              "      <td>1</td>\n",
              "    </tr>\n",
              "    <tr>\n",
              "      <th>7122</th>\n",
              "      <td>10203</td>\n",
              "      <td>violent%20storm</td>\n",
              "      <td></td>\n",
              "      <td>If you were the NWS wth a rotating storm w/ a ...</td>\n",
              "      <td>1</td>\n",
              "    </tr>\n",
              "    <tr>\n",
              "      <th>2769</th>\n",
              "      <td>3980</td>\n",
              "      <td>devastation</td>\n",
              "      <td>Atlanta g.a.</td>\n",
              "      <td>http://t.co/Gxgm1T3W0J From Devastation to Ela...</td>\n",
              "      <td>0</td>\n",
              "    </tr>\n",
              "  </tbody>\n",
              "</table>\n",
              "</div>\n",
              "      <button class=\"colab-df-convert\" onclick=\"convertToInteractive('df-4b66c561-86b9-4295-8081-894e9fe4cf12')\"\n",
              "              title=\"Convert this dataframe to an interactive table.\"\n",
              "              style=\"display:none;\">\n",
              "        \n",
              "  <svg xmlns=\"http://www.w3.org/2000/svg\" height=\"24px\"viewBox=\"0 0 24 24\"\n",
              "       width=\"24px\">\n",
              "    <path d=\"M0 0h24v24H0V0z\" fill=\"none\"/>\n",
              "    <path d=\"M18.56 5.44l.94 2.06.94-2.06 2.06-.94-2.06-.94-.94-2.06-.94 2.06-2.06.94zm-11 1L8.5 8.5l.94-2.06 2.06-.94-2.06-.94L8.5 2.5l-.94 2.06-2.06.94zm10 10l.94 2.06.94-2.06 2.06-.94-2.06-.94-.94-2.06-.94 2.06-2.06.94z\"/><path d=\"M17.41 7.96l-1.37-1.37c-.4-.4-.92-.59-1.43-.59-.52 0-1.04.2-1.43.59L10.3 9.45l-7.72 7.72c-.78.78-.78 2.05 0 2.83L4 21.41c.39.39.9.59 1.41.59.51 0 1.02-.2 1.41-.59l7.78-7.78 2.81-2.81c.8-.78.8-2.07 0-2.86zM5.41 20L4 18.59l7.72-7.72 1.47 1.35L5.41 20z\"/>\n",
              "  </svg>\n",
              "      </button>\n",
              "      \n",
              "  <style>\n",
              "    .colab-df-container {\n",
              "      display:flex;\n",
              "      flex-wrap:wrap;\n",
              "      gap: 12px;\n",
              "    }\n",
              "\n",
              "    .colab-df-convert {\n",
              "      background-color: #E8F0FE;\n",
              "      border: none;\n",
              "      border-radius: 50%;\n",
              "      cursor: pointer;\n",
              "      display: none;\n",
              "      fill: #1967D2;\n",
              "      height: 32px;\n",
              "      padding: 0 0 0 0;\n",
              "      width: 32px;\n",
              "    }\n",
              "\n",
              "    .colab-df-convert:hover {\n",
              "      background-color: #E2EBFA;\n",
              "      box-shadow: 0px 1px 2px rgba(60, 64, 67, 0.3), 0px 1px 3px 1px rgba(60, 64, 67, 0.15);\n",
              "      fill: #174EA6;\n",
              "    }\n",
              "\n",
              "    [theme=dark] .colab-df-convert {\n",
              "      background-color: #3B4455;\n",
              "      fill: #D2E3FC;\n",
              "    }\n",
              "\n",
              "    [theme=dark] .colab-df-convert:hover {\n",
              "      background-color: #434B5C;\n",
              "      box-shadow: 0px 1px 3px 1px rgba(0, 0, 0, 0.15);\n",
              "      filter: drop-shadow(0px 1px 2px rgba(0, 0, 0, 0.3));\n",
              "      fill: #FFFFFF;\n",
              "    }\n",
              "  </style>\n",
              "\n",
              "      <script>\n",
              "        const buttonEl =\n",
              "          document.querySelector('#df-4b66c561-86b9-4295-8081-894e9fe4cf12 button.colab-df-convert');\n",
              "        buttonEl.style.display =\n",
              "          google.colab.kernel.accessAllowed ? 'block' : 'none';\n",
              "\n",
              "        async function convertToInteractive(key) {\n",
              "          const element = document.querySelector('#df-4b66c561-86b9-4295-8081-894e9fe4cf12');\n",
              "          const dataTable =\n",
              "            await google.colab.kernel.invokeFunction('convertToInteractive',\n",
              "                                                     [key], {});\n",
              "          if (!dataTable) return;\n",
              "\n",
              "          const docLinkHtml = 'Like what you see? Visit the ' +\n",
              "            '<a target=\"_blank\" href=https://colab.research.google.com/notebooks/data_table.ipynb>data table notebook</a>'\n",
              "            + ' to learn more about interactive tables.';\n",
              "          element.innerHTML = '';\n",
              "          dataTable['output_type'] = 'display_data';\n",
              "          await google.colab.output.renderOutput(dataTable, element);\n",
              "          const docLink = document.createElement('div');\n",
              "          docLink.innerHTML = docLinkHtml;\n",
              "          element.appendChild(docLink);\n",
              "        }\n",
              "      </script>\n",
              "    </div>\n",
              "  </div>\n",
              "  "
            ]
          },
          "metadata": {},
          "execution_count": 12
        }
      ]
    },
    {
      "cell_type": "code",
      "source": [
        "# concatenating 'keyword', 'location', and 'text' columns\n",
        "train['text'] = train.apply(lambda x: ' '.join(x[['keyword', 'location', 'text']].astype(str)), axis=1)\n",
        "\n",
        "# dropping all the unnecessary columns\n",
        "train_new = train.drop(columns=['id', 'keyword', 'location'], axis=1, inplace=False)"
      ],
      "metadata": {
        "id": "lwwJKX_l-eoh"
      },
      "execution_count": 13,
      "outputs": []
    },
    {
      "cell_type": "code",
      "source": [
        "train_new.loc[[6590, 7122, 2769]]"
      ],
      "metadata": {
        "colab": {
          "base_uri": "https://localhost:8080/",
          "height": 143
        },
        "id": "jk7P70XX_CpT",
        "outputId": "7e6c7990-e1d6-4fd6-b64c-6f34ef89eb5c"
      },
      "execution_count": 14,
      "outputs": [
        {
          "output_type": "execute_result",
          "data": {
            "text/plain": [
              "                                                   text  target\n",
              "6590  survivors Marietta, GA Stemming from my #Cubs ...       1\n",
              "7122  violent%20storm  If you were the NWS wth a rot...       1\n",
              "2769  devastation Atlanta g.a. http://t.co/Gxgm1T3W0...       0"
            ],
            "text/html": [
              "\n",
              "  <div id=\"df-1c1fefe6-e7f0-4d14-8d8d-a3b1548947ed\">\n",
              "    <div class=\"colab-df-container\">\n",
              "      <div>\n",
              "<style scoped>\n",
              "    .dataframe tbody tr th:only-of-type {\n",
              "        vertical-align: middle;\n",
              "    }\n",
              "\n",
              "    .dataframe tbody tr th {\n",
              "        vertical-align: top;\n",
              "    }\n",
              "\n",
              "    .dataframe thead th {\n",
              "        text-align: right;\n",
              "    }\n",
              "</style>\n",
              "<table border=\"1\" class=\"dataframe\">\n",
              "  <thead>\n",
              "    <tr style=\"text-align: right;\">\n",
              "      <th></th>\n",
              "      <th>text</th>\n",
              "      <th>target</th>\n",
              "    </tr>\n",
              "  </thead>\n",
              "  <tbody>\n",
              "    <tr>\n",
              "      <th>6590</th>\n",
              "      <td>survivors Marietta, GA Stemming from my #Cubs ...</td>\n",
              "      <td>1</td>\n",
              "    </tr>\n",
              "    <tr>\n",
              "      <th>7122</th>\n",
              "      <td>violent%20storm  If you were the NWS wth a rot...</td>\n",
              "      <td>1</td>\n",
              "    </tr>\n",
              "    <tr>\n",
              "      <th>2769</th>\n",
              "      <td>devastation Atlanta g.a. http://t.co/Gxgm1T3W0...</td>\n",
              "      <td>0</td>\n",
              "    </tr>\n",
              "  </tbody>\n",
              "</table>\n",
              "</div>\n",
              "      <button class=\"colab-df-convert\" onclick=\"convertToInteractive('df-1c1fefe6-e7f0-4d14-8d8d-a3b1548947ed')\"\n",
              "              title=\"Convert this dataframe to an interactive table.\"\n",
              "              style=\"display:none;\">\n",
              "        \n",
              "  <svg xmlns=\"http://www.w3.org/2000/svg\" height=\"24px\"viewBox=\"0 0 24 24\"\n",
              "       width=\"24px\">\n",
              "    <path d=\"M0 0h24v24H0V0z\" fill=\"none\"/>\n",
              "    <path d=\"M18.56 5.44l.94 2.06.94-2.06 2.06-.94-2.06-.94-.94-2.06-.94 2.06-2.06.94zm-11 1L8.5 8.5l.94-2.06 2.06-.94-2.06-.94L8.5 2.5l-.94 2.06-2.06.94zm10 10l.94 2.06.94-2.06 2.06-.94-2.06-.94-.94-2.06-.94 2.06-2.06.94z\"/><path d=\"M17.41 7.96l-1.37-1.37c-.4-.4-.92-.59-1.43-.59-.52 0-1.04.2-1.43.59L10.3 9.45l-7.72 7.72c-.78.78-.78 2.05 0 2.83L4 21.41c.39.39.9.59 1.41.59.51 0 1.02-.2 1.41-.59l7.78-7.78 2.81-2.81c.8-.78.8-2.07 0-2.86zM5.41 20L4 18.59l7.72-7.72 1.47 1.35L5.41 20z\"/>\n",
              "  </svg>\n",
              "      </button>\n",
              "      \n",
              "  <style>\n",
              "    .colab-df-container {\n",
              "      display:flex;\n",
              "      flex-wrap:wrap;\n",
              "      gap: 12px;\n",
              "    }\n",
              "\n",
              "    .colab-df-convert {\n",
              "      background-color: #E8F0FE;\n",
              "      border: none;\n",
              "      border-radius: 50%;\n",
              "      cursor: pointer;\n",
              "      display: none;\n",
              "      fill: #1967D2;\n",
              "      height: 32px;\n",
              "      padding: 0 0 0 0;\n",
              "      width: 32px;\n",
              "    }\n",
              "\n",
              "    .colab-df-convert:hover {\n",
              "      background-color: #E2EBFA;\n",
              "      box-shadow: 0px 1px 2px rgba(60, 64, 67, 0.3), 0px 1px 3px 1px rgba(60, 64, 67, 0.15);\n",
              "      fill: #174EA6;\n",
              "    }\n",
              "\n",
              "    [theme=dark] .colab-df-convert {\n",
              "      background-color: #3B4455;\n",
              "      fill: #D2E3FC;\n",
              "    }\n",
              "\n",
              "    [theme=dark] .colab-df-convert:hover {\n",
              "      background-color: #434B5C;\n",
              "      box-shadow: 0px 1px 3px 1px rgba(0, 0, 0, 0.15);\n",
              "      filter: drop-shadow(0px 1px 2px rgba(0, 0, 0, 0.3));\n",
              "      fill: #FFFFFF;\n",
              "    }\n",
              "  </style>\n",
              "\n",
              "      <script>\n",
              "        const buttonEl =\n",
              "          document.querySelector('#df-1c1fefe6-e7f0-4d14-8d8d-a3b1548947ed button.colab-df-convert');\n",
              "        buttonEl.style.display =\n",
              "          google.colab.kernel.accessAllowed ? 'block' : 'none';\n",
              "\n",
              "        async function convertToInteractive(key) {\n",
              "          const element = document.querySelector('#df-1c1fefe6-e7f0-4d14-8d8d-a3b1548947ed');\n",
              "          const dataTable =\n",
              "            await google.colab.kernel.invokeFunction('convertToInteractive',\n",
              "                                                     [key], {});\n",
              "          if (!dataTable) return;\n",
              "\n",
              "          const docLinkHtml = 'Like what you see? Visit the ' +\n",
              "            '<a target=\"_blank\" href=https://colab.research.google.com/notebooks/data_table.ipynb>data table notebook</a>'\n",
              "            + ' to learn more about interactive tables.';\n",
              "          element.innerHTML = '';\n",
              "          dataTable['output_type'] = 'display_data';\n",
              "          await google.colab.output.renderOutput(dataTable, element);\n",
              "          const docLink = document.createElement('div');\n",
              "          docLink.innerHTML = docLinkHtml;\n",
              "          element.appendChild(docLink);\n",
              "        }\n",
              "      </script>\n",
              "    </div>\n",
              "  </div>\n",
              "  "
            ]
          },
          "metadata": {},
          "execution_count": 14
        }
      ]
    },
    {
      "cell_type": "markdown",
      "metadata": {
        "id": "ViXdGTxP3HvM"
      },
      "source": [
        "## Задание 4 (0.5 балла)\n",
        "\n",
        "Далее мы будем пока работать только с train частью.\n",
        "\n",
        "1. Предобработайте данные (train часть) с помощью CountVectorizer.\n",
        "2. Какого размера получилась матрица?\n"
      ]
    },
    {
      "cell_type": "code",
      "source": [
        "from sklearn.feature_extraction.text import CountVectorizer\n",
        "\n",
        "# creating an instance of vectorizer and getting the matrix\n",
        "cnt_vec = CountVectorizer()\n",
        "X = cnt_vec.fit_transform(train_new['text'])\n",
        "X.toarray()\n",
        "\n",
        "# creating a dataframe to illustrate the results\n",
        "pd.DataFrame(X.toarray(), columns=cnt_vec.get_feature_names_out())"
      ],
      "metadata": {
        "id": "oB1MTqUVAbPA",
        "colab": {
          "base_uri": "https://localhost:8080/",
          "height": 423
        },
        "outputId": "c3afa98f-12d1-47d3-b56e-50a5d885781c"
      },
      "execution_count": 15,
      "outputs": [
        {
          "output_type": "execute_result",
          "data": {
            "text/plain": [
              "      00  000  0000  00cy9vxeff  00end  00pm  01  011072  014213  02  ...  \\\n",
              "0      0    0     0           0      0     0   0       0       0   0  ...   \n",
              "1      0    0     0           0      0     0   0       0       0   0  ...   \n",
              "2      0    0     0           0      0     0   0       0       0   0  ...   \n",
              "3      0    0     0           0      0     0   0       0       0   0  ...   \n",
              "4      0    0     0           0      0     0   0       0       0   0  ...   \n",
              "...   ..  ...   ...         ...    ...   ...  ..     ...     ...  ..  ...   \n",
              "5324   0    0     0           0      0     0   0       0       0   0  ...   \n",
              "5325   0    0     0           0      0     0   0       0       0   0  ...   \n",
              "5326   0    0     0           0      0     0   0       0       0   0  ...   \n",
              "5327   0    0     0           0      0     0   0       0       0   0  ...   \n",
              "5328   0    0     0           0      0     0   0       0       0   0  ...   \n",
              "\n",
              "      ûïthe  ûïwe  ûïwhen  ûïyou  ûò  ûò800000  ûó  ûóher  ûókody  ûótech  \n",
              "0         0     0       0      0   0         0   0      0       0       0  \n",
              "1         0     0       0      0   0         0   0      0       0       0  \n",
              "2         0     0       0      0   0         0   0      0       0       0  \n",
              "3         0     0       0      0   0         0   0      0       0       0  \n",
              "4         0     0       0      0   0         0   0      0       0       0  \n",
              "...     ...   ...     ...    ...  ..       ...  ..    ...     ...     ...  \n",
              "5324      0     0       0      0   0         0   0      0       0       0  \n",
              "5325      0     0       0      0   0         0   0      0       0       0  \n",
              "5326      0     0       0      0   0         0   0      0       0       0  \n",
              "5327      0     0       0      0   0         0   0      0       0       0  \n",
              "5328      0     0       0      0   0         0   0      0       0       0  \n",
              "\n",
              "[5329 rows x 18455 columns]"
            ],
            "text/html": [
              "\n",
              "  <div id=\"df-da03513d-dc31-48aa-95c7-9dd8efcbf915\">\n",
              "    <div class=\"colab-df-container\">\n",
              "      <div>\n",
              "<style scoped>\n",
              "    .dataframe tbody tr th:only-of-type {\n",
              "        vertical-align: middle;\n",
              "    }\n",
              "\n",
              "    .dataframe tbody tr th {\n",
              "        vertical-align: top;\n",
              "    }\n",
              "\n",
              "    .dataframe thead th {\n",
              "        text-align: right;\n",
              "    }\n",
              "</style>\n",
              "<table border=\"1\" class=\"dataframe\">\n",
              "  <thead>\n",
              "    <tr style=\"text-align: right;\">\n",
              "      <th></th>\n",
              "      <th>00</th>\n",
              "      <th>000</th>\n",
              "      <th>0000</th>\n",
              "      <th>00cy9vxeff</th>\n",
              "      <th>00end</th>\n",
              "      <th>00pm</th>\n",
              "      <th>01</th>\n",
              "      <th>011072</th>\n",
              "      <th>014213</th>\n",
              "      <th>02</th>\n",
              "      <th>...</th>\n",
              "      <th>ûïthe</th>\n",
              "      <th>ûïwe</th>\n",
              "      <th>ûïwhen</th>\n",
              "      <th>ûïyou</th>\n",
              "      <th>ûò</th>\n",
              "      <th>ûò800000</th>\n",
              "      <th>ûó</th>\n",
              "      <th>ûóher</th>\n",
              "      <th>ûókody</th>\n",
              "      <th>ûótech</th>\n",
              "    </tr>\n",
              "  </thead>\n",
              "  <tbody>\n",
              "    <tr>\n",
              "      <th>0</th>\n",
              "      <td>0</td>\n",
              "      <td>0</td>\n",
              "      <td>0</td>\n",
              "      <td>0</td>\n",
              "      <td>0</td>\n",
              "      <td>0</td>\n",
              "      <td>0</td>\n",
              "      <td>0</td>\n",
              "      <td>0</td>\n",
              "      <td>0</td>\n",
              "      <td>...</td>\n",
              "      <td>0</td>\n",
              "      <td>0</td>\n",
              "      <td>0</td>\n",
              "      <td>0</td>\n",
              "      <td>0</td>\n",
              "      <td>0</td>\n",
              "      <td>0</td>\n",
              "      <td>0</td>\n",
              "      <td>0</td>\n",
              "      <td>0</td>\n",
              "    </tr>\n",
              "    <tr>\n",
              "      <th>1</th>\n",
              "      <td>0</td>\n",
              "      <td>0</td>\n",
              "      <td>0</td>\n",
              "      <td>0</td>\n",
              "      <td>0</td>\n",
              "      <td>0</td>\n",
              "      <td>0</td>\n",
              "      <td>0</td>\n",
              "      <td>0</td>\n",
              "      <td>0</td>\n",
              "      <td>...</td>\n",
              "      <td>0</td>\n",
              "      <td>0</td>\n",
              "      <td>0</td>\n",
              "      <td>0</td>\n",
              "      <td>0</td>\n",
              "      <td>0</td>\n",
              "      <td>0</td>\n",
              "      <td>0</td>\n",
              "      <td>0</td>\n",
              "      <td>0</td>\n",
              "    </tr>\n",
              "    <tr>\n",
              "      <th>2</th>\n",
              "      <td>0</td>\n",
              "      <td>0</td>\n",
              "      <td>0</td>\n",
              "      <td>0</td>\n",
              "      <td>0</td>\n",
              "      <td>0</td>\n",
              "      <td>0</td>\n",
              "      <td>0</td>\n",
              "      <td>0</td>\n",
              "      <td>0</td>\n",
              "      <td>...</td>\n",
              "      <td>0</td>\n",
              "      <td>0</td>\n",
              "      <td>0</td>\n",
              "      <td>0</td>\n",
              "      <td>0</td>\n",
              "      <td>0</td>\n",
              "      <td>0</td>\n",
              "      <td>0</td>\n",
              "      <td>0</td>\n",
              "      <td>0</td>\n",
              "    </tr>\n",
              "    <tr>\n",
              "      <th>3</th>\n",
              "      <td>0</td>\n",
              "      <td>0</td>\n",
              "      <td>0</td>\n",
              "      <td>0</td>\n",
              "      <td>0</td>\n",
              "      <td>0</td>\n",
              "      <td>0</td>\n",
              "      <td>0</td>\n",
              "      <td>0</td>\n",
              "      <td>0</td>\n",
              "      <td>...</td>\n",
              "      <td>0</td>\n",
              "      <td>0</td>\n",
              "      <td>0</td>\n",
              "      <td>0</td>\n",
              "      <td>0</td>\n",
              "      <td>0</td>\n",
              "      <td>0</td>\n",
              "      <td>0</td>\n",
              "      <td>0</td>\n",
              "      <td>0</td>\n",
              "    </tr>\n",
              "    <tr>\n",
              "      <th>4</th>\n",
              "      <td>0</td>\n",
              "      <td>0</td>\n",
              "      <td>0</td>\n",
              "      <td>0</td>\n",
              "      <td>0</td>\n",
              "      <td>0</td>\n",
              "      <td>0</td>\n",
              "      <td>0</td>\n",
              "      <td>0</td>\n",
              "      <td>0</td>\n",
              "      <td>...</td>\n",
              "      <td>0</td>\n",
              "      <td>0</td>\n",
              "      <td>0</td>\n",
              "      <td>0</td>\n",
              "      <td>0</td>\n",
              "      <td>0</td>\n",
              "      <td>0</td>\n",
              "      <td>0</td>\n",
              "      <td>0</td>\n",
              "      <td>0</td>\n",
              "    </tr>\n",
              "    <tr>\n",
              "      <th>...</th>\n",
              "      <td>...</td>\n",
              "      <td>...</td>\n",
              "      <td>...</td>\n",
              "      <td>...</td>\n",
              "      <td>...</td>\n",
              "      <td>...</td>\n",
              "      <td>...</td>\n",
              "      <td>...</td>\n",
              "      <td>...</td>\n",
              "      <td>...</td>\n",
              "      <td>...</td>\n",
              "      <td>...</td>\n",
              "      <td>...</td>\n",
              "      <td>...</td>\n",
              "      <td>...</td>\n",
              "      <td>...</td>\n",
              "      <td>...</td>\n",
              "      <td>...</td>\n",
              "      <td>...</td>\n",
              "      <td>...</td>\n",
              "      <td>...</td>\n",
              "    </tr>\n",
              "    <tr>\n",
              "      <th>5324</th>\n",
              "      <td>0</td>\n",
              "      <td>0</td>\n",
              "      <td>0</td>\n",
              "      <td>0</td>\n",
              "      <td>0</td>\n",
              "      <td>0</td>\n",
              "      <td>0</td>\n",
              "      <td>0</td>\n",
              "      <td>0</td>\n",
              "      <td>0</td>\n",
              "      <td>...</td>\n",
              "      <td>0</td>\n",
              "      <td>0</td>\n",
              "      <td>0</td>\n",
              "      <td>0</td>\n",
              "      <td>0</td>\n",
              "      <td>0</td>\n",
              "      <td>0</td>\n",
              "      <td>0</td>\n",
              "      <td>0</td>\n",
              "      <td>0</td>\n",
              "    </tr>\n",
              "    <tr>\n",
              "      <th>5325</th>\n",
              "      <td>0</td>\n",
              "      <td>0</td>\n",
              "      <td>0</td>\n",
              "      <td>0</td>\n",
              "      <td>0</td>\n",
              "      <td>0</td>\n",
              "      <td>0</td>\n",
              "      <td>0</td>\n",
              "      <td>0</td>\n",
              "      <td>0</td>\n",
              "      <td>...</td>\n",
              "      <td>0</td>\n",
              "      <td>0</td>\n",
              "      <td>0</td>\n",
              "      <td>0</td>\n",
              "      <td>0</td>\n",
              "      <td>0</td>\n",
              "      <td>0</td>\n",
              "      <td>0</td>\n",
              "      <td>0</td>\n",
              "      <td>0</td>\n",
              "    </tr>\n",
              "    <tr>\n",
              "      <th>5326</th>\n",
              "      <td>0</td>\n",
              "      <td>0</td>\n",
              "      <td>0</td>\n",
              "      <td>0</td>\n",
              "      <td>0</td>\n",
              "      <td>0</td>\n",
              "      <td>0</td>\n",
              "      <td>0</td>\n",
              "      <td>0</td>\n",
              "      <td>0</td>\n",
              "      <td>...</td>\n",
              "      <td>0</td>\n",
              "      <td>0</td>\n",
              "      <td>0</td>\n",
              "      <td>0</td>\n",
              "      <td>0</td>\n",
              "      <td>0</td>\n",
              "      <td>0</td>\n",
              "      <td>0</td>\n",
              "      <td>0</td>\n",
              "      <td>0</td>\n",
              "    </tr>\n",
              "    <tr>\n",
              "      <th>5327</th>\n",
              "      <td>0</td>\n",
              "      <td>0</td>\n",
              "      <td>0</td>\n",
              "      <td>0</td>\n",
              "      <td>0</td>\n",
              "      <td>0</td>\n",
              "      <td>0</td>\n",
              "      <td>0</td>\n",
              "      <td>0</td>\n",
              "      <td>0</td>\n",
              "      <td>...</td>\n",
              "      <td>0</td>\n",
              "      <td>0</td>\n",
              "      <td>0</td>\n",
              "      <td>0</td>\n",
              "      <td>0</td>\n",
              "      <td>0</td>\n",
              "      <td>0</td>\n",
              "      <td>0</td>\n",
              "      <td>0</td>\n",
              "      <td>0</td>\n",
              "    </tr>\n",
              "    <tr>\n",
              "      <th>5328</th>\n",
              "      <td>0</td>\n",
              "      <td>0</td>\n",
              "      <td>0</td>\n",
              "      <td>0</td>\n",
              "      <td>0</td>\n",
              "      <td>0</td>\n",
              "      <td>0</td>\n",
              "      <td>0</td>\n",
              "      <td>0</td>\n",
              "      <td>0</td>\n",
              "      <td>...</td>\n",
              "      <td>0</td>\n",
              "      <td>0</td>\n",
              "      <td>0</td>\n",
              "      <td>0</td>\n",
              "      <td>0</td>\n",
              "      <td>0</td>\n",
              "      <td>0</td>\n",
              "      <td>0</td>\n",
              "      <td>0</td>\n",
              "      <td>0</td>\n",
              "    </tr>\n",
              "  </tbody>\n",
              "</table>\n",
              "<p>5329 rows × 18455 columns</p>\n",
              "</div>\n",
              "      <button class=\"colab-df-convert\" onclick=\"convertToInteractive('df-da03513d-dc31-48aa-95c7-9dd8efcbf915')\"\n",
              "              title=\"Convert this dataframe to an interactive table.\"\n",
              "              style=\"display:none;\">\n",
              "        \n",
              "  <svg xmlns=\"http://www.w3.org/2000/svg\" height=\"24px\"viewBox=\"0 0 24 24\"\n",
              "       width=\"24px\">\n",
              "    <path d=\"M0 0h24v24H0V0z\" fill=\"none\"/>\n",
              "    <path d=\"M18.56 5.44l.94 2.06.94-2.06 2.06-.94-2.06-.94-.94-2.06-.94 2.06-2.06.94zm-11 1L8.5 8.5l.94-2.06 2.06-.94-2.06-.94L8.5 2.5l-.94 2.06-2.06.94zm10 10l.94 2.06.94-2.06 2.06-.94-2.06-.94-.94-2.06-.94 2.06-2.06.94z\"/><path d=\"M17.41 7.96l-1.37-1.37c-.4-.4-.92-.59-1.43-.59-.52 0-1.04.2-1.43.59L10.3 9.45l-7.72 7.72c-.78.78-.78 2.05 0 2.83L4 21.41c.39.39.9.59 1.41.59.51 0 1.02-.2 1.41-.59l7.78-7.78 2.81-2.81c.8-.78.8-2.07 0-2.86zM5.41 20L4 18.59l7.72-7.72 1.47 1.35L5.41 20z\"/>\n",
              "  </svg>\n",
              "      </button>\n",
              "      \n",
              "  <style>\n",
              "    .colab-df-container {\n",
              "      display:flex;\n",
              "      flex-wrap:wrap;\n",
              "      gap: 12px;\n",
              "    }\n",
              "\n",
              "    .colab-df-convert {\n",
              "      background-color: #E8F0FE;\n",
              "      border: none;\n",
              "      border-radius: 50%;\n",
              "      cursor: pointer;\n",
              "      display: none;\n",
              "      fill: #1967D2;\n",
              "      height: 32px;\n",
              "      padding: 0 0 0 0;\n",
              "      width: 32px;\n",
              "    }\n",
              "\n",
              "    .colab-df-convert:hover {\n",
              "      background-color: #E2EBFA;\n",
              "      box-shadow: 0px 1px 2px rgba(60, 64, 67, 0.3), 0px 1px 3px 1px rgba(60, 64, 67, 0.15);\n",
              "      fill: #174EA6;\n",
              "    }\n",
              "\n",
              "    [theme=dark] .colab-df-convert {\n",
              "      background-color: #3B4455;\n",
              "      fill: #D2E3FC;\n",
              "    }\n",
              "\n",
              "    [theme=dark] .colab-df-convert:hover {\n",
              "      background-color: #434B5C;\n",
              "      box-shadow: 0px 1px 3px 1px rgba(0, 0, 0, 0.15);\n",
              "      filter: drop-shadow(0px 1px 2px rgba(0, 0, 0, 0.3));\n",
              "      fill: #FFFFFF;\n",
              "    }\n",
              "  </style>\n",
              "\n",
              "      <script>\n",
              "        const buttonEl =\n",
              "          document.querySelector('#df-da03513d-dc31-48aa-95c7-9dd8efcbf915 button.colab-df-convert');\n",
              "        buttonEl.style.display =\n",
              "          google.colab.kernel.accessAllowed ? 'block' : 'none';\n",
              "\n",
              "        async function convertToInteractive(key) {\n",
              "          const element = document.querySelector('#df-da03513d-dc31-48aa-95c7-9dd8efcbf915');\n",
              "          const dataTable =\n",
              "            await google.colab.kernel.invokeFunction('convertToInteractive',\n",
              "                                                     [key], {});\n",
              "          if (!dataTable) return;\n",
              "\n",
              "          const docLinkHtml = 'Like what you see? Visit the ' +\n",
              "            '<a target=\"_blank\" href=https://colab.research.google.com/notebooks/data_table.ipynb>data table notebook</a>'\n",
              "            + ' to learn more about interactive tables.';\n",
              "          element.innerHTML = '';\n",
              "          dataTable['output_type'] = 'display_data';\n",
              "          await google.colab.output.renderOutput(dataTable, element);\n",
              "          const docLink = document.createElement('div');\n",
              "          docLink.innerHTML = docLinkHtml;\n",
              "          element.appendChild(docLink);\n",
              "        }\n",
              "      </script>\n",
              "    </div>\n",
              "  </div>\n",
              "  "
            ]
          },
          "metadata": {},
          "execution_count": 15
        }
      ]
    },
    {
      "cell_type": "markdown",
      "metadata": {
        "id": "A4waLlnC3HvM"
      },
      "source": [
        "## Задание 5 (1 балл)\n",
        "\n",
        "В предыдущем пункте у вас должна была получиться достаточно большая матрица.\n",
        "Если вы взгляните на текст, то увидете, что там есть множество специальных символов, ссылок и прочего мусора.\n",
        "\n",
        "Давайте также посмотрим на словарь, который получился в результате построения CountVectorizer, его можно найти в поле vocabulary_ инстанса этого класса. Давайте напишем функцию, которая печает ответы на следующие вопросы:\n",
        "\n",
        "1. Найдите в этом словаре все слова, которые содержат цифры. Сколько таких слов нашлось?\n",
        "\n",
        "2. Найдите все слова, которые содержат символы пунктуации. Сколько таких слов нашлось? \n",
        "\n",
        "3. Сколько хэштегов (токен начинается на #) и упоминаний (токен начинается на @) осталось в словаре?"
      ]
    },
    {
      "cell_type": "code",
      "source": [
        "from string import punctuation\n",
        "\n",
        "def contains_digit(s: str) -> bool:\n",
        "    # checking if the word contains any digits (True if it does, False - otherwise)\n",
        "    return any(char.isdigit() for char in s)\n",
        "\n",
        "def contains_punctuation(s: str) -> bool:\n",
        "    # checking if the word contains any punctuation signs\n",
        "    return any(char in punctuation for char in s)\n",
        "\n",
        "def is_hashtag(s: str) -> bool:\n",
        "    # checking of the word is a hashtag\n",
        "    return s[0] == \"#\"\n",
        "\n",
        "def is_mention(s: str) -> bool:\n",
        "    # checking if the word is a mention\n",
        "    return s[0] == \"@\"\n",
        "\n",
        "def investigate_vocabulary(vocabulary):\n",
        "    # initializing counters for words of each category\n",
        "    count_digit = 0\n",
        "    count_punctuation = 0\n",
        "    count_hash = 0\n",
        "    count_mention = 0\n",
        "\n",
        "    # iterating over the keys and checking each word\n",
        "    for word in vocabulary.keys():\n",
        "      if contains_digit(word): count_digit += 1\n",
        "      if contains_punctuation(word): count_punctuation += 1\n",
        "      if is_hashtag(word): count_hash += 1\n",
        "      if is_mention(word): count_mention += 1\n",
        "\n",
        "    print('With digit:      ', count_digit\n",
        "          )\n",
        "    print('With punctuation:', count_punctuation\n",
        "          )\n",
        "    print('Hashtags:        ', count_hash\n",
        "          )\n",
        "    print('Mentions:        ', count_mention\n",
        "          )"
      ],
      "metadata": {
        "id": "7PhQSWqcHhU8"
      },
      "execution_count": 16,
      "outputs": []
    },
    {
      "cell_type": "code",
      "source": [
        "dummy_vocab = {'th1nk' : 0,\n",
        "               'think333' : 1,\n",
        "               'think.' : 2,\n",
        "               'th!nk' : 3,\n",
        "               'th...nk' : 4,\n",
        "               '#think' : 5,\n",
        "               '@think' : 6,\n",
        "               '@thinking':7,\n",
        "               '@nothink' : 8,\n",
        "               'think' : 9}\n",
        "investigate_vocabulary(dummy_vocab)"
      ],
      "metadata": {
        "colab": {
          "base_uri": "https://localhost:8080/"
        },
        "id": "s8hL5ZcQIdp6",
        "outputId": "16149e4c-f233-49a1-8f0d-85c0600622d0"
      },
      "execution_count": 17,
      "outputs": [
        {
          "output_type": "stream",
          "name": "stdout",
          "text": [
            "With digit:       2\n",
            "With punctuation: 7\n",
            "Hashtags:         1\n",
            "Mentions:         3\n"
          ]
        }
      ]
    },
    {
      "cell_type": "code",
      "source": [
        "# getting vocabulary first:\n",
        "vocab_dict = cnt_vec.vocabulary_\n",
        "\n",
        "# passing the vocab to the function\n",
        "investigate_vocabulary(vocab_dict)\n",
        "\n",
        "# Выводы: результаты довольно интересные. Не нашлось ни одного слова-упоминания \n",
        "# и ни одного хештега."
      ],
      "metadata": {
        "id": "VpW8R_SuKR_l",
        "colab": {
          "base_uri": "https://localhost:8080/"
        },
        "outputId": "fa1e4d7c-0906-4a67-9daf-bba0026678c2"
      },
      "execution_count": 18,
      "outputs": [
        {
          "output_type": "stream",
          "name": "stdout",
          "text": [
            "With digit:       3812\n",
            "With punctuation: 315\n",
            "Hashtags:         0\n",
            "Mentions:         0\n"
          ]
        }
      ]
    },
    {
      "cell_type": "markdown",
      "metadata": {
        "id": "bfNLaxX93HvM"
      },
      "source": [
        "## Задание 6 (0.5 балла)\n",
        "\n",
        "Вспомним, что на семинаре по текстам мы узнали, что в nltk есть специальный токенизатор для текстов - TweetTokenizer. Попробуем применить CountVectorizer с этим токенизатором. Ответьте на все вопросы из предыдущего пункта для TweetTokenizer и сравните результаты."
      ]
    },
    {
      "cell_type": "code",
      "execution_count": 19,
      "metadata": {
        "id": "xnlRoXUS3HvM"
      },
      "outputs": [],
      "source": [
        "from nltk.tokenize import TweetTokenizer\n",
        "tweet_tokenizer = TweetTokenizer()\n",
        "\n",
        "# applying CountVectorizer with a tweet tokenizer \n",
        "cnt_vec_tweet = CountVectorizer(tokenizer=tweet_tokenizer.tokenize)"
      ]
    },
    {
      "cell_type": "code",
      "source": [
        "# creating a new matrix and illustrating the results:\n",
        "X = cnt_vec_tweet.fit_transform(train_new['text'])\n",
        "X.toarray()\n",
        "pd.DataFrame(X.toarray(), columns=cnt_vec_tweet.get_feature_names_out())"
      ],
      "metadata": {
        "id": "8lPMIf6UKccT",
        "colab": {
          "base_uri": "https://localhost:8080/",
          "height": 423
        },
        "outputId": "d7a406c4-aee0-4afa-aa76-08b734886be2"
      },
      "execution_count": 20,
      "outputs": [
        {
          "output_type": "execute_result",
          "data": {
            "text/plain": [
              "      !  #  ##youtube  #034  #039  #06  #09  #1-1st  #1008pla  #140  ...  \\\n",
              "0     0  0          0     0     0    0    0       0         0     0  ...   \n",
              "1     0  0          0     0     0    0    0       0         0     0  ...   \n",
              "2     0  0          0     0     0    0    0       0         0     0  ...   \n",
              "3     0  0          0     0     0    0    0       0         0     0  ...   \n",
              "4     0  0          0     0     0    0    0       0         0     0  ...   \n",
              "...  .. ..        ...   ...   ...  ...  ...     ...       ...   ...  ...   \n",
              "5324  1  0          0     0     0    0    0       0         0     0  ...   \n",
              "5325  0  0          0     0     0    0    0       0         0     0  ...   \n",
              "5326  0  0          0     0     0    0    0       0         0     0  ...   \n",
              "5327  0  0          0     0     0    0    0       0         0     0  ...   \n",
              "5328  1  0          0     0     0    0    0       0         0     0  ...   \n",
              "\n",
              "      ûïthe  ûïwe  ûïwhen  ûïyou  ûò  ûò800000  ûó  ûóher  ûókody  ûótech  \n",
              "0         0     0       0      0   0         0   0      0       0       0  \n",
              "1         0     0       0      0   0         0   0      0       0       0  \n",
              "2         0     0       0      0   0         0   0      0       0       0  \n",
              "3         0     0       0      0   0         0   0      0       0       0  \n",
              "4         0     0       0      0   0         0   0      0       0       0  \n",
              "...     ...   ...     ...    ...  ..       ...  ..    ...     ...     ...  \n",
              "5324      0     0       0      0   0         0   0      0       0       0  \n",
              "5325      0     0       0      0   0         0   0      0       0       0  \n",
              "5326      0     0       0      0   0         0   0      0       0       0  \n",
              "5327      0     0       0      0   0         0   0      0       0       0  \n",
              "5328      0     0       0      0   0         0   0      0       0       0  \n",
              "\n",
              "[5329 rows x 19670 columns]"
            ],
            "text/html": [
              "\n",
              "  <div id=\"df-23fdc186-e414-4011-afb3-5949d3be9ebe\">\n",
              "    <div class=\"colab-df-container\">\n",
              "      <div>\n",
              "<style scoped>\n",
              "    .dataframe tbody tr th:only-of-type {\n",
              "        vertical-align: middle;\n",
              "    }\n",
              "\n",
              "    .dataframe tbody tr th {\n",
              "        vertical-align: top;\n",
              "    }\n",
              "\n",
              "    .dataframe thead th {\n",
              "        text-align: right;\n",
              "    }\n",
              "</style>\n",
              "<table border=\"1\" class=\"dataframe\">\n",
              "  <thead>\n",
              "    <tr style=\"text-align: right;\">\n",
              "      <th></th>\n",
              "      <th>!</th>\n",
              "      <th>#</th>\n",
              "      <th>##youtube</th>\n",
              "      <th>#034</th>\n",
              "      <th>#039</th>\n",
              "      <th>#06</th>\n",
              "      <th>#09</th>\n",
              "      <th>#1-1st</th>\n",
              "      <th>#1008pla</th>\n",
              "      <th>#140</th>\n",
              "      <th>...</th>\n",
              "      <th>ûïthe</th>\n",
              "      <th>ûïwe</th>\n",
              "      <th>ûïwhen</th>\n",
              "      <th>ûïyou</th>\n",
              "      <th>ûò</th>\n",
              "      <th>ûò800000</th>\n",
              "      <th>ûó</th>\n",
              "      <th>ûóher</th>\n",
              "      <th>ûókody</th>\n",
              "      <th>ûótech</th>\n",
              "    </tr>\n",
              "  </thead>\n",
              "  <tbody>\n",
              "    <tr>\n",
              "      <th>0</th>\n",
              "      <td>0</td>\n",
              "      <td>0</td>\n",
              "      <td>0</td>\n",
              "      <td>0</td>\n",
              "      <td>0</td>\n",
              "      <td>0</td>\n",
              "      <td>0</td>\n",
              "      <td>0</td>\n",
              "      <td>0</td>\n",
              "      <td>0</td>\n",
              "      <td>...</td>\n",
              "      <td>0</td>\n",
              "      <td>0</td>\n",
              "      <td>0</td>\n",
              "      <td>0</td>\n",
              "      <td>0</td>\n",
              "      <td>0</td>\n",
              "      <td>0</td>\n",
              "      <td>0</td>\n",
              "      <td>0</td>\n",
              "      <td>0</td>\n",
              "    </tr>\n",
              "    <tr>\n",
              "      <th>1</th>\n",
              "      <td>0</td>\n",
              "      <td>0</td>\n",
              "      <td>0</td>\n",
              "      <td>0</td>\n",
              "      <td>0</td>\n",
              "      <td>0</td>\n",
              "      <td>0</td>\n",
              "      <td>0</td>\n",
              "      <td>0</td>\n",
              "      <td>0</td>\n",
              "      <td>...</td>\n",
              "      <td>0</td>\n",
              "      <td>0</td>\n",
              "      <td>0</td>\n",
              "      <td>0</td>\n",
              "      <td>0</td>\n",
              "      <td>0</td>\n",
              "      <td>0</td>\n",
              "      <td>0</td>\n",
              "      <td>0</td>\n",
              "      <td>0</td>\n",
              "    </tr>\n",
              "    <tr>\n",
              "      <th>2</th>\n",
              "      <td>0</td>\n",
              "      <td>0</td>\n",
              "      <td>0</td>\n",
              "      <td>0</td>\n",
              "      <td>0</td>\n",
              "      <td>0</td>\n",
              "      <td>0</td>\n",
              "      <td>0</td>\n",
              "      <td>0</td>\n",
              "      <td>0</td>\n",
              "      <td>...</td>\n",
              "      <td>0</td>\n",
              "      <td>0</td>\n",
              "      <td>0</td>\n",
              "      <td>0</td>\n",
              "      <td>0</td>\n",
              "      <td>0</td>\n",
              "      <td>0</td>\n",
              "      <td>0</td>\n",
              "      <td>0</td>\n",
              "      <td>0</td>\n",
              "    </tr>\n",
              "    <tr>\n",
              "      <th>3</th>\n",
              "      <td>0</td>\n",
              "      <td>0</td>\n",
              "      <td>0</td>\n",
              "      <td>0</td>\n",
              "      <td>0</td>\n",
              "      <td>0</td>\n",
              "      <td>0</td>\n",
              "      <td>0</td>\n",
              "      <td>0</td>\n",
              "      <td>0</td>\n",
              "      <td>...</td>\n",
              "      <td>0</td>\n",
              "      <td>0</td>\n",
              "      <td>0</td>\n",
              "      <td>0</td>\n",
              "      <td>0</td>\n",
              "      <td>0</td>\n",
              "      <td>0</td>\n",
              "      <td>0</td>\n",
              "      <td>0</td>\n",
              "      <td>0</td>\n",
              "    </tr>\n",
              "    <tr>\n",
              "      <th>4</th>\n",
              "      <td>0</td>\n",
              "      <td>0</td>\n",
              "      <td>0</td>\n",
              "      <td>0</td>\n",
              "      <td>0</td>\n",
              "      <td>0</td>\n",
              "      <td>0</td>\n",
              "      <td>0</td>\n",
              "      <td>0</td>\n",
              "      <td>0</td>\n",
              "      <td>...</td>\n",
              "      <td>0</td>\n",
              "      <td>0</td>\n",
              "      <td>0</td>\n",
              "      <td>0</td>\n",
              "      <td>0</td>\n",
              "      <td>0</td>\n",
              "      <td>0</td>\n",
              "      <td>0</td>\n",
              "      <td>0</td>\n",
              "      <td>0</td>\n",
              "    </tr>\n",
              "    <tr>\n",
              "      <th>...</th>\n",
              "      <td>...</td>\n",
              "      <td>...</td>\n",
              "      <td>...</td>\n",
              "      <td>...</td>\n",
              "      <td>...</td>\n",
              "      <td>...</td>\n",
              "      <td>...</td>\n",
              "      <td>...</td>\n",
              "      <td>...</td>\n",
              "      <td>...</td>\n",
              "      <td>...</td>\n",
              "      <td>...</td>\n",
              "      <td>...</td>\n",
              "      <td>...</td>\n",
              "      <td>...</td>\n",
              "      <td>...</td>\n",
              "      <td>...</td>\n",
              "      <td>...</td>\n",
              "      <td>...</td>\n",
              "      <td>...</td>\n",
              "      <td>...</td>\n",
              "    </tr>\n",
              "    <tr>\n",
              "      <th>5324</th>\n",
              "      <td>1</td>\n",
              "      <td>0</td>\n",
              "      <td>0</td>\n",
              "      <td>0</td>\n",
              "      <td>0</td>\n",
              "      <td>0</td>\n",
              "      <td>0</td>\n",
              "      <td>0</td>\n",
              "      <td>0</td>\n",
              "      <td>0</td>\n",
              "      <td>...</td>\n",
              "      <td>0</td>\n",
              "      <td>0</td>\n",
              "      <td>0</td>\n",
              "      <td>0</td>\n",
              "      <td>0</td>\n",
              "      <td>0</td>\n",
              "      <td>0</td>\n",
              "      <td>0</td>\n",
              "      <td>0</td>\n",
              "      <td>0</td>\n",
              "    </tr>\n",
              "    <tr>\n",
              "      <th>5325</th>\n",
              "      <td>0</td>\n",
              "      <td>0</td>\n",
              "      <td>0</td>\n",
              "      <td>0</td>\n",
              "      <td>0</td>\n",
              "      <td>0</td>\n",
              "      <td>0</td>\n",
              "      <td>0</td>\n",
              "      <td>0</td>\n",
              "      <td>0</td>\n",
              "      <td>...</td>\n",
              "      <td>0</td>\n",
              "      <td>0</td>\n",
              "      <td>0</td>\n",
              "      <td>0</td>\n",
              "      <td>0</td>\n",
              "      <td>0</td>\n",
              "      <td>0</td>\n",
              "      <td>0</td>\n",
              "      <td>0</td>\n",
              "      <td>0</td>\n",
              "    </tr>\n",
              "    <tr>\n",
              "      <th>5326</th>\n",
              "      <td>0</td>\n",
              "      <td>0</td>\n",
              "      <td>0</td>\n",
              "      <td>0</td>\n",
              "      <td>0</td>\n",
              "      <td>0</td>\n",
              "      <td>0</td>\n",
              "      <td>0</td>\n",
              "      <td>0</td>\n",
              "      <td>0</td>\n",
              "      <td>...</td>\n",
              "      <td>0</td>\n",
              "      <td>0</td>\n",
              "      <td>0</td>\n",
              "      <td>0</td>\n",
              "      <td>0</td>\n",
              "      <td>0</td>\n",
              "      <td>0</td>\n",
              "      <td>0</td>\n",
              "      <td>0</td>\n",
              "      <td>0</td>\n",
              "    </tr>\n",
              "    <tr>\n",
              "      <th>5327</th>\n",
              "      <td>0</td>\n",
              "      <td>0</td>\n",
              "      <td>0</td>\n",
              "      <td>0</td>\n",
              "      <td>0</td>\n",
              "      <td>0</td>\n",
              "      <td>0</td>\n",
              "      <td>0</td>\n",
              "      <td>0</td>\n",
              "      <td>0</td>\n",
              "      <td>...</td>\n",
              "      <td>0</td>\n",
              "      <td>0</td>\n",
              "      <td>0</td>\n",
              "      <td>0</td>\n",
              "      <td>0</td>\n",
              "      <td>0</td>\n",
              "      <td>0</td>\n",
              "      <td>0</td>\n",
              "      <td>0</td>\n",
              "      <td>0</td>\n",
              "    </tr>\n",
              "    <tr>\n",
              "      <th>5328</th>\n",
              "      <td>1</td>\n",
              "      <td>0</td>\n",
              "      <td>0</td>\n",
              "      <td>0</td>\n",
              "      <td>0</td>\n",
              "      <td>0</td>\n",
              "      <td>0</td>\n",
              "      <td>0</td>\n",
              "      <td>0</td>\n",
              "      <td>0</td>\n",
              "      <td>...</td>\n",
              "      <td>0</td>\n",
              "      <td>0</td>\n",
              "      <td>0</td>\n",
              "      <td>0</td>\n",
              "      <td>0</td>\n",
              "      <td>0</td>\n",
              "      <td>0</td>\n",
              "      <td>0</td>\n",
              "      <td>0</td>\n",
              "      <td>0</td>\n",
              "    </tr>\n",
              "  </tbody>\n",
              "</table>\n",
              "<p>5329 rows × 19670 columns</p>\n",
              "</div>\n",
              "      <button class=\"colab-df-convert\" onclick=\"convertToInteractive('df-23fdc186-e414-4011-afb3-5949d3be9ebe')\"\n",
              "              title=\"Convert this dataframe to an interactive table.\"\n",
              "              style=\"display:none;\">\n",
              "        \n",
              "  <svg xmlns=\"http://www.w3.org/2000/svg\" height=\"24px\"viewBox=\"0 0 24 24\"\n",
              "       width=\"24px\">\n",
              "    <path d=\"M0 0h24v24H0V0z\" fill=\"none\"/>\n",
              "    <path d=\"M18.56 5.44l.94 2.06.94-2.06 2.06-.94-2.06-.94-.94-2.06-.94 2.06-2.06.94zm-11 1L8.5 8.5l.94-2.06 2.06-.94-2.06-.94L8.5 2.5l-.94 2.06-2.06.94zm10 10l.94 2.06.94-2.06 2.06-.94-2.06-.94-.94-2.06-.94 2.06-2.06.94z\"/><path d=\"M17.41 7.96l-1.37-1.37c-.4-.4-.92-.59-1.43-.59-.52 0-1.04.2-1.43.59L10.3 9.45l-7.72 7.72c-.78.78-.78 2.05 0 2.83L4 21.41c.39.39.9.59 1.41.59.51 0 1.02-.2 1.41-.59l7.78-7.78 2.81-2.81c.8-.78.8-2.07 0-2.86zM5.41 20L4 18.59l7.72-7.72 1.47 1.35L5.41 20z\"/>\n",
              "  </svg>\n",
              "      </button>\n",
              "      \n",
              "  <style>\n",
              "    .colab-df-container {\n",
              "      display:flex;\n",
              "      flex-wrap:wrap;\n",
              "      gap: 12px;\n",
              "    }\n",
              "\n",
              "    .colab-df-convert {\n",
              "      background-color: #E8F0FE;\n",
              "      border: none;\n",
              "      border-radius: 50%;\n",
              "      cursor: pointer;\n",
              "      display: none;\n",
              "      fill: #1967D2;\n",
              "      height: 32px;\n",
              "      padding: 0 0 0 0;\n",
              "      width: 32px;\n",
              "    }\n",
              "\n",
              "    .colab-df-convert:hover {\n",
              "      background-color: #E2EBFA;\n",
              "      box-shadow: 0px 1px 2px rgba(60, 64, 67, 0.3), 0px 1px 3px 1px rgba(60, 64, 67, 0.15);\n",
              "      fill: #174EA6;\n",
              "    }\n",
              "\n",
              "    [theme=dark] .colab-df-convert {\n",
              "      background-color: #3B4455;\n",
              "      fill: #D2E3FC;\n",
              "    }\n",
              "\n",
              "    [theme=dark] .colab-df-convert:hover {\n",
              "      background-color: #434B5C;\n",
              "      box-shadow: 0px 1px 3px 1px rgba(0, 0, 0, 0.15);\n",
              "      filter: drop-shadow(0px 1px 2px rgba(0, 0, 0, 0.3));\n",
              "      fill: #FFFFFF;\n",
              "    }\n",
              "  </style>\n",
              "\n",
              "      <script>\n",
              "        const buttonEl =\n",
              "          document.querySelector('#df-23fdc186-e414-4011-afb3-5949d3be9ebe button.colab-df-convert');\n",
              "        buttonEl.style.display =\n",
              "          google.colab.kernel.accessAllowed ? 'block' : 'none';\n",
              "\n",
              "        async function convertToInteractive(key) {\n",
              "          const element = document.querySelector('#df-23fdc186-e414-4011-afb3-5949d3be9ebe');\n",
              "          const dataTable =\n",
              "            await google.colab.kernel.invokeFunction('convertToInteractive',\n",
              "                                                     [key], {});\n",
              "          if (!dataTable) return;\n",
              "\n",
              "          const docLinkHtml = 'Like what you see? Visit the ' +\n",
              "            '<a target=\"_blank\" href=https://colab.research.google.com/notebooks/data_table.ipynb>data table notebook</a>'\n",
              "            + ' to learn more about interactive tables.';\n",
              "          element.innerHTML = '';\n",
              "          dataTable['output_type'] = 'display_data';\n",
              "          await google.colab.output.renderOutput(dataTable, element);\n",
              "          const docLink = document.createElement('div');\n",
              "          docLink.innerHTML = docLinkHtml;\n",
              "          element.appendChild(docLink);\n",
              "        }\n",
              "      </script>\n",
              "    </div>\n",
              "  </div>\n",
              "  "
            ]
          },
          "metadata": {},
          "execution_count": 20
        }
      ]
    },
    {
      "cell_type": "code",
      "source": [
        "# getting vocabulary first:\n",
        "vocab_dict = cnt_vec_tweet.vocabulary_\n",
        "\n",
        "investigate_vocabulary(vocab_dict\n",
        "                       )"
      ],
      "metadata": {
        "id": "7oR5kNKVLLpm",
        "colab": {
          "base_uri": "https://localhost:8080/"
        },
        "outputId": "fbec00b5-0fb3-4f39-c678-de66c554a336"
      },
      "execution_count": 21,
      "outputs": [
        {
          "output_type": "stream",
          "name": "stdout",
          "text": [
            "With digit:       3939\n",
            "With punctuation: 7338\n",
            "Hashtags:         1470\n",
            "Mentions:         1679\n"
          ]
        }
      ]
    },
    {
      "cell_type": "markdown",
      "source": [
        "**Сравнение:** Как видно из результатов, при использовании CountVectorizer без указания токенизатора, он использует свой встроенный токенизатор, разбивающий текст на токены таким образом, что хештеги (#) и упоминания (@) не учитываются. Использование же TweetTokenizer позволяет учесть наличие упоминаний, хештегов и других специальных символов (в качестве отдельных токенов), что, безусловно, может оказаться очень полезным при анализе твитов и других текстов социальных сетей."
      ],
      "metadata": {
        "id": "Wetr80-ILULV"
      }
    },
    {
      "cell_type": "markdown",
      "metadata": {
        "id": "6_k_-i1x3HvM"
      },
      "source": [
        "## Задание 7 (2 балла)\n",
        "\n",
        "В scikit-learn мы можем оценивать процесс подсчета матрицы через CountVectorizer. У CountVectorizer, как и у других наследников \\_VectorizerMixin, есть аргумент tokenizer и preprocessor. preprocessor применится в самом начале к каждой строке вашего датасета, tokenizer же должен принять строку и вернуть токены.\n",
        "Давайте напишем кастомный токенайзер, которые сделает все, что нам нужно: \n",
        "\n",
        "0. Приведет все буквы к нижнему регистру\n",
        "1. Разобьет текст на токены с помощью TweetTokenizer из пакета nltk\n",
        "2. Удалит все токены содержащие не латинские буквы, кроме смайликов (будем считать ими токены содержащие только пунктуацию и, как минимум, одну скобочку) и хэштегов, которые после начальной # содержат только латинские буквы.\n",
        "3. Удалит все токены, которые перечислены в nltk.corpus.stopwords.words('english')\n",
        "4. Проведет стемминг с помощью SnowballStemmer\n",
        "\n"
      ]
    },
    {
      "cell_type": "code",
      "source": [
        "from nltk.text import TokenSearcher\n",
        "from os import remove\n",
        "import re\n",
        "from nltk.stem.snowball import SnowballStemmer\n",
        "import nltk\n",
        "nltk.download(\"stopwords\", quiet=True)\n",
        "from nltk.corpus import stopwords\n",
        "\n",
        "def contains_only_latin_letters(s: str) -> bool:\n",
        "    # Проверка, содержит ли слово только латинские буквы\n",
        "    # checking for only lating letters using isaplha():\n",
        "    return bool(re.match('^[a-z]+$', s))\n",
        "  \n",
        "\n",
        "    # can also use checking if the word contains only latin letter using regex:\n",
        "    #if re.match(\"^[a-zA-Z]+$\", s):\n",
        "    #  return True\n",
        "    #else: \n",
        "     # return False\n",
        "\n",
        "def is_emoji(s: str) -> bool:\n",
        "    # Проверка, является ли слово смайликом\n",
        "    # checking if it's an emoji using regex:\n",
        "    return bool(re.match(\"[()]+[^\\w\\s]*|[^\\w\\s]*[()]+\", s))\n",
        "  \n",
        "\n",
        "def is_hashtag(s: str) -> bool:\n",
        "    # Проверка, является ли слово хэштегом\n",
        "    # checking if the first char is '#' and others are latin:\n",
        "    return s[0] == \"#\" and len(s) > 1 and contains_only_latin_letters(s[1:])\n",
        "\n",
        "def custom_tokenizer(s: str) -> List[str]:    \n",
        "    ''' Кастомный токенайзер'''\n",
        "    # stop words for further removal\n",
        "    stop_words = stopwords.words('english')\n",
        "\n",
        "    # making all characters lowercase:\n",
        "    lower_case = s.lower()\n",
        "\n",
        "    # parsing the string into tokens using TweetTokenizer:\n",
        "    tokenizer = TweetTokenizer()\n",
        "    tokens = tokenizer.tokenize(lower_case)\n",
        "\n",
        "    clean_tokens = []\n",
        "    for token in tokens:\n",
        "      # checking for only latin letters, hashtags and emojies\n",
        "      if contains_only_latin_letters(token) or is_emoji(token) or is_hashtag(token):\n",
        "          # checking for stop words\n",
        "          if token not in stop_words:\n",
        "              # if all conditions true, appending token\n",
        "              clean_tokens.append(token)\n",
        "    tokens = clean_tokens\n",
        "\n",
        "    # stemming:\n",
        "    stemmer = SnowballStemmer('english')\n",
        "    stemmed_tokens = [stemmer.stem(token) for token in tokens]\n",
        "\n",
        "    return stemmed_tokens"
      ],
      "metadata": {
        "id": "qhwmi7DEMD25"
      },
      "execution_count": 22,
      "outputs": []
    },
    {
      "cell_type": "code",
      "source": [
        "custom_tokenizer('She LOVES painting :-) #art')"
      ],
      "metadata": {
        "colab": {
          "base_uri": "https://localhost:8080/"
        },
        "id": "vYzPZzf8O6vj",
        "outputId": "92f108b3-e513-438a-d959-f345c8937bf1"
      },
      "execution_count": 23,
      "outputs": [
        {
          "output_type": "execute_result",
          "data": {
            "text/plain": [
              "['love', 'paint', ':-)', '#art']"
            ]
          },
          "metadata": {},
          "execution_count": 23
        }
      ]
    },
    {
      "cell_type": "markdown",
      "source": [
        "Продемонстрируйте работу вашей функции на первых десяти текстах в обучающей выборке."
      ],
      "metadata": {
        "id": "2S_-ThAf5It4"
      }
    },
    {
      "cell_type": "code",
      "source": [
        "# getting the first 10 texts from the train dataframe:\n",
        "first_10_texts = train_new['text'].iloc[:10]\n",
        "\n",
        "# getting the tokens:\n",
        "for text in first_10_texts:\n",
        "  processed_tokens = custom_tokenizer(text)\n",
        "  print(processed_tokens)"
      ],
      "metadata": {
        "id": "A1fh3_itPz7D",
        "colab": {
          "base_uri": "https://localhost:8080/"
        },
        "outputId": "ba417b95-3970-4eea-9182-73a04194efb8"
      },
      "execution_count": 24,
      "outputs": [
        {
          "output_type": "stream",
          "name": "stdout",
          "text": [
            "['bridg', 'ash', 'australia', 'collaps', 'trent', 'bridg', 'among', 'worst', 'histori', 'england', 'bundl', 'australia']\n",
            "['hail', 'carol', 'stream', 'illinoi', 'great', 'michigan', 'techniqu', 'camp', 'thank', '#goblu', '#wrestleon']\n",
            "['polic', 'houston', 'cnn', 'tennesse', 'movi', 'theater', 'shoot', 'suspect', 'kill', 'polic']\n",
            "['riot', 'still', 'riot', 'coupl', 'hour', 'left', 'class']\n",
            "['wound', 'lake', 'highland', 'crack', 'path', 'wipe', 'morn', 'beach', 'run', 'surfac', 'wound', 'left', 'elbow', 'right', 'knee']\n",
            "['airplan', 'somewher', 'expert', 'franc', 'begin', 'examin', 'airplan', 'debri', 'found', 'reunion', 'island', 'french', 'air', 'accid', 'expert', '#mlb']\n",
            "['bloodi', 'isol', 'citi', 'world', 'perth', 'came', 'kill', 'indian', 'fun', 'video', 'smirk', 'remorseless', 'pakistani', 'killer', 'show', 'boast']\n",
            "['burn', 'except', 'idk', 'realli', 'burn']\n",
            "['destroy', '(', 'ask', ')', 'destroy', 'hous']\n",
            "['wound', 'maracay', 'nirgua', 'venezuela', 'polic', 'offic', 'wound', 'suspect', 'dead', 'exchang', 'shot']\n"
          ]
        }
      ]
    },
    {
      "cell_type": "markdown",
      "metadata": {
        "id": "a5lNZ4tb3HvN"
      },
      "source": [
        "## Задание 8 (1 балл)\n",
        "\n",
        "1. Примените CountVectorizer с реализованным выше токенизатором к обучающим и тестовым выборкам.\n"
      ]
    },
    {
      "cell_type": "code",
      "source": [
        "vectorizer = CountVectorizer(tokenizer = custom_tokenizer\n",
        "                             )\n",
        "# applying vectorizer to the train part:\n",
        "X_train = vectorizer.fit_transform(train_new['text'])\n",
        "train_matrix = pd.DataFrame(X_train.toarray(), columns=vectorizer.get_feature_names_out())\n",
        "\n",
        "# applying vectorizer to the test part:\n",
        "X_test = vectorizer.transform(test['text'])\n",
        "test_matrix = pd.DataFrame(X_test.toarray(), columns=vectorizer.get_feature_names_out())\n",
        "\n",
        "# printing out the results:\n",
        "print(train_matrix, test_matrix, sep='\\n')"
      ],
      "metadata": {
        "id": "LDqixz7QQEbn",
        "colab": {
          "base_uri": "https://localhost:8080/"
        },
        "outputId": "fb4bca78-2215-451f-86cc-31894890097c"
      },
      "execution_count": 44,
      "outputs": [
        {
          "output_type": "stream",
          "name": "stdout",
          "text": [
            "      #abcnew  #abha  #ableg  #abomb  #abstorm  #accid  #achedin  #act  \\\n",
            "0           0      0       0       0         0       0         0     0   \n",
            "1           0      0       0       0         0       0         0     0   \n",
            "2           0      0       0       0         0       0         0     0   \n",
            "3           0      0       0       0         0       0         0     0   \n",
            "4           0      0       0       0         0       0         0     0   \n",
            "...       ...    ...     ...     ...       ...     ...       ...   ...   \n",
            "5324        0      0       0       0         0       0         0     0   \n",
            "5325        0      0       0       0         0       0         0     0   \n",
            "5326        0      0       0       0         0       0         0     0   \n",
            "5327        0      0       0       0         0       0         0     0   \n",
            "5328        0      0       0       0         0       0         0     0   \n",
            "\n",
            "      #actionmoviestaughtus  #adani  ...  zip  zipper  zmne  zombi  zone  \\\n",
            "0                         0       0  ...    0       0     0      0     0   \n",
            "1                         0       0  ...    0       0     0      0     0   \n",
            "2                         0       0  ...    0       0     0      0     0   \n",
            "3                         0       0  ...    0       0     0      0     0   \n",
            "4                         0       0  ...    0       0     0      0     0   \n",
            "...                     ...     ...  ...  ...     ...   ...    ...   ...   \n",
            "5324                      0       0  ...    0       0     0      0     0   \n",
            "5325                      0       0  ...    0       0     0      0     0   \n",
            "5326                      0       0  ...    0       0     0      0     0   \n",
            "5327                      0       0  ...    0       0     0      0     0   \n",
            "5328                      0       0  ...    0       0     0      0     0   \n",
            "\n",
            "      zonewolf  zouma  zss  zumiez  zzzz  \n",
            "0            0      0    0       0     0  \n",
            "1            0      0    0       0     0  \n",
            "2            0      0    0       0     0  \n",
            "3            0      0    0       0     0  \n",
            "4            0      0    0       0     0  \n",
            "...        ...    ...  ...     ...   ...  \n",
            "5324         0      0    0       0     0  \n",
            "5325         0      0    0       0     0  \n",
            "5326         0      0    0       0     0  \n",
            "5327         0      0    0       0     0  \n",
            "5328         0      0    0       0     0  \n",
            "\n",
            "[5329 rows x 10483 columns]\n",
            "      #abcnew  #abha  #ableg  #abomb  #abstorm  #accid  #achedin  #act  \\\n",
            "0           0      0       0       0         0       0         0     0   \n",
            "1           0      0       0       0         0       0         0     0   \n",
            "2           0      0       0       0         0       0         0     0   \n",
            "3           0      0       0       0         0       0         0     0   \n",
            "4           0      0       0       0         0       0         0     0   \n",
            "...       ...    ...     ...     ...       ...     ...       ...   ...   \n",
            "2279        0      0       0       0         0       0         0     0   \n",
            "2280        0      0       0       0         0       0         0     0   \n",
            "2281        0      0       0       0         0       0         0     0   \n",
            "2282        0      0       0       0         0       0         0     0   \n",
            "2283        0      0       0       0         0       0         0     0   \n",
            "\n",
            "      #actionmoviestaughtus  #adani  ...  zip  zipper  zmne  zombi  zone  \\\n",
            "0                         0       0  ...    0       0     0      0     0   \n",
            "1                         0       0  ...    0       0     0      0     0   \n",
            "2                         0       0  ...    0       0     0      0     0   \n",
            "3                         0       0  ...    0       0     0      0     0   \n",
            "4                         0       0  ...    0       0     0      0     0   \n",
            "...                     ...     ...  ...  ...     ...   ...    ...   ...   \n",
            "2279                      0       0  ...    0       0     0      0     0   \n",
            "2280                      0       0  ...    0       0     0      0     0   \n",
            "2281                      0       0  ...    0       0     0      0     0   \n",
            "2282                      0       0  ...    0       0     0      0     0   \n",
            "2283                      0       0  ...    0       0     0      0     0   \n",
            "\n",
            "      zonewolf  zouma  zss  zumiez  zzzz  \n",
            "0            0      0    0       0     0  \n",
            "1            0      0    0       0     0  \n",
            "2            0      0    0       0     0  \n",
            "3            0      0    0       0     0  \n",
            "4            0      0    0       0     0  \n",
            "...        ...    ...  ...     ...   ...  \n",
            "2279         0      0    0       0     0  \n",
            "2280         0      0    0       0     0  \n",
            "2281         0      0    0       0     0  \n",
            "2282         0      0    0       0     0  \n",
            "2283         0      0    0       0     0  \n",
            "\n",
            "[2284 rows x 10483 columns]\n"
          ]
        }
      ]
    },
    {
      "cell_type": "markdown",
      "source": [
        "2. Обучите LogisticRegression на полученных признаках.\n"
      ],
      "metadata": {
        "id": "YcetwuEi5ds9"
      }
    },
    {
      "cell_type": "code",
      "source": [
        "from sklearn.linear_model import LogisticRegression\n",
        "from sklearn.metrics import classification_report, roc_auc_score\n",
        "# creating an instance of a classifier:\n",
        "log_reg = LogisticRegression()\n",
        "\n",
        "# fitting the data:\n",
        "log_reg.fit(X_train, train_new['target'])\n",
        "\n",
        "# predicting the test 'target' values:\n",
        "predictions = log_reg.predict(X_test)"
      ],
      "metadata": {
        "id": "BVj03QV2QbWl"
      },
      "execution_count": 45,
      "outputs": []
    },
    {
      "cell_type": "markdown",
      "source": [
        "3. Посчитайте метрику f1-score на тестовых данных."
      ],
      "metadata": {
        "id": "6Ch6uz2P5e-T"
      }
    },
    {
      "cell_type": "code",
      "source": [
        "from sklearn.metrics import f1_score\n",
        "# getting all the metrics results:\n",
        "#print(classification_report(test['target'], predictions))\n",
        "\n",
        "# printing out F1 score:\n",
        "f1 = f1_score(test['target'], predictions)\n",
        "print(\"F1 score:\", f1)"
      ],
      "metadata": {
        "colab": {
          "base_uri": "https://localhost:8080/"
        },
        "id": "osyC0pdT3cSD",
        "outputId": "bd266da1-d69c-4b0d-b5da-ee2c2be92a5a"
      },
      "execution_count": 46,
      "outputs": [
        {
          "output_type": "stream",
          "name": "stdout",
          "text": [
            "F1 score: 0.7030674846625766\n"
          ]
        }
      ]
    },
    {
      "cell_type": "markdown",
      "metadata": {
        "id": "aFIEYOMZ3HvN"
      },
      "source": [
        "## Задание 9 (1 балл)\n",
        "\n",
        "1. Повторите 8 задание, но с tf-idf векторизатором. Как изменилось качество?\n"
      ]
    },
    {
      "cell_type": "code",
      "source": [
        "from sklearn.feature_extraction.text import TfidfVectorizer\n",
        "\n",
        "# 1\n",
        "\n",
        "# creating an instance of a vectorizer (with a custom tokenizer)\n",
        "tf_idf_vec = TfidfVectorizer(tokenizer = custom_tokenizer) \n",
        "\n",
        "# applying vectorizer to the train and test parts:\n",
        "X_train_tfidf = tf_idf_vec.fit_transform(train_new['text'])\n",
        "X_test_tfidf = tf_idf_vec.transform(test['text'])\n",
        "\n",
        "# creating an instance of a classifier and fitting the data:\n",
        "log_reg_tf = LogisticRegression()\n",
        "log_reg_tf.fit(X_train_tfidf, train_new['target'])\n",
        "\n",
        "# predicting the values and getting the F1 result:\n",
        "predictions_tf = log_reg_tf.predict(X_test_tfidf)\n",
        "f1_tf = f1_score(test['target'], predictions_tf)\n",
        "print(\"F1 score:\", f1_tf)"
      ],
      "metadata": {
        "colab": {
          "base_uri": "https://localhost:8080/"
        },
        "id": "cDqs61hl3ve3",
        "outputId": "4de45a9b-1005-4f9d-a560-b1111a5d8751"
      },
      "execution_count": 47,
      "outputs": [
        {
          "output_type": "stream",
          "name": "stdout",
          "text": [
            "F1 score: 0.7407407407407407\n"
          ]
        }
      ]
    },
    {
      "cell_type": "code",
      "source": [
        "# having a look at the matrices:\n",
        "train_matrix_tf = pd.DataFrame(X_train_tfidf.toarray(), columns=tf_idf_vec.get_feature_names_out())\n",
        "test_matrix_tf = pd.DataFrame(X_test_tfidf.toarray(), columns = tf_idf_vec.get_feature_names_out())\n",
        "\n",
        "print(train_matrix_tf, test_matrix_tf, sep='/n')"
      ],
      "metadata": {
        "colab": {
          "base_uri": "https://localhost:8080/"
        },
        "id": "zULO2RE9wiP5",
        "outputId": "012e10ab-d872-4902-c397-89de94cbced9"
      },
      "execution_count": 48,
      "outputs": [
        {
          "output_type": "stream",
          "name": "stdout",
          "text": [
            "      #abcnew  #abha  #ableg  #abomb  #abstorm  #accid  #achedin  #act  \\\n",
            "0         0.0    0.0     0.0     0.0       0.0     0.0       0.0   0.0   \n",
            "1         0.0    0.0     0.0     0.0       0.0     0.0       0.0   0.0   \n",
            "2         0.0    0.0     0.0     0.0       0.0     0.0       0.0   0.0   \n",
            "3         0.0    0.0     0.0     0.0       0.0     0.0       0.0   0.0   \n",
            "4         0.0    0.0     0.0     0.0       0.0     0.0       0.0   0.0   \n",
            "...       ...    ...     ...     ...       ...     ...       ...   ...   \n",
            "5324      0.0    0.0     0.0     0.0       0.0     0.0       0.0   0.0   \n",
            "5325      0.0    0.0     0.0     0.0       0.0     0.0       0.0   0.0   \n",
            "5326      0.0    0.0     0.0     0.0       0.0     0.0       0.0   0.0   \n",
            "5327      0.0    0.0     0.0     0.0       0.0     0.0       0.0   0.0   \n",
            "5328      0.0    0.0     0.0     0.0       0.0     0.0       0.0   0.0   \n",
            "\n",
            "      #actionmoviestaughtus  #adani  ...  zip  zipper  zmne  zombi  zone  \\\n",
            "0                       0.0     0.0  ...  0.0     0.0   0.0    0.0   0.0   \n",
            "1                       0.0     0.0  ...  0.0     0.0   0.0    0.0   0.0   \n",
            "2                       0.0     0.0  ...  0.0     0.0   0.0    0.0   0.0   \n",
            "3                       0.0     0.0  ...  0.0     0.0   0.0    0.0   0.0   \n",
            "4                       0.0     0.0  ...  0.0     0.0   0.0    0.0   0.0   \n",
            "...                     ...     ...  ...  ...     ...   ...    ...   ...   \n",
            "5324                    0.0     0.0  ...  0.0     0.0   0.0    0.0   0.0   \n",
            "5325                    0.0     0.0  ...  0.0     0.0   0.0    0.0   0.0   \n",
            "5326                    0.0     0.0  ...  0.0     0.0   0.0    0.0   0.0   \n",
            "5327                    0.0     0.0  ...  0.0     0.0   0.0    0.0   0.0   \n",
            "5328                    0.0     0.0  ...  0.0     0.0   0.0    0.0   0.0   \n",
            "\n",
            "      zonewolf  zouma  zss  zumiez  zzzz  \n",
            "0          0.0    0.0  0.0     0.0   0.0  \n",
            "1          0.0    0.0  0.0     0.0   0.0  \n",
            "2          0.0    0.0  0.0     0.0   0.0  \n",
            "3          0.0    0.0  0.0     0.0   0.0  \n",
            "4          0.0    0.0  0.0     0.0   0.0  \n",
            "...        ...    ...  ...     ...   ...  \n",
            "5324       0.0    0.0  0.0     0.0   0.0  \n",
            "5325       0.0    0.0  0.0     0.0   0.0  \n",
            "5326       0.0    0.0  0.0     0.0   0.0  \n",
            "5327       0.0    0.0  0.0     0.0   0.0  \n",
            "5328       0.0    0.0  0.0     0.0   0.0  \n",
            "\n",
            "[5329 rows x 10483 columns]/n      #abcnew  #abha  #ableg  #abomb  #abstorm  #accid  #achedin  #act  \\\n",
            "0         0.0    0.0     0.0     0.0       0.0     0.0       0.0   0.0   \n",
            "1         0.0    0.0     0.0     0.0       0.0     0.0       0.0   0.0   \n",
            "2         0.0    0.0     0.0     0.0       0.0     0.0       0.0   0.0   \n",
            "3         0.0    0.0     0.0     0.0       0.0     0.0       0.0   0.0   \n",
            "4         0.0    0.0     0.0     0.0       0.0     0.0       0.0   0.0   \n",
            "...       ...    ...     ...     ...       ...     ...       ...   ...   \n",
            "2279      0.0    0.0     0.0     0.0       0.0     0.0       0.0   0.0   \n",
            "2280      0.0    0.0     0.0     0.0       0.0     0.0       0.0   0.0   \n",
            "2281      0.0    0.0     0.0     0.0       0.0     0.0       0.0   0.0   \n",
            "2282      0.0    0.0     0.0     0.0       0.0     0.0       0.0   0.0   \n",
            "2283      0.0    0.0     0.0     0.0       0.0     0.0       0.0   0.0   \n",
            "\n",
            "      #actionmoviestaughtus  #adani  ...  zip  zipper  zmne  zombi  zone  \\\n",
            "0                       0.0     0.0  ...  0.0     0.0   0.0    0.0   0.0   \n",
            "1                       0.0     0.0  ...  0.0     0.0   0.0    0.0   0.0   \n",
            "2                       0.0     0.0  ...  0.0     0.0   0.0    0.0   0.0   \n",
            "3                       0.0     0.0  ...  0.0     0.0   0.0    0.0   0.0   \n",
            "4                       0.0     0.0  ...  0.0     0.0   0.0    0.0   0.0   \n",
            "...                     ...     ...  ...  ...     ...   ...    ...   ...   \n",
            "2279                    0.0     0.0  ...  0.0     0.0   0.0    0.0   0.0   \n",
            "2280                    0.0     0.0  ...  0.0     0.0   0.0    0.0   0.0   \n",
            "2281                    0.0     0.0  ...  0.0     0.0   0.0    0.0   0.0   \n",
            "2282                    0.0     0.0  ...  0.0     0.0   0.0    0.0   0.0   \n",
            "2283                    0.0     0.0  ...  0.0     0.0   0.0    0.0   0.0   \n",
            "\n",
            "      zonewolf  zouma  zss  zumiez  zzzz  \n",
            "0          0.0    0.0  0.0     0.0   0.0  \n",
            "1          0.0    0.0  0.0     0.0   0.0  \n",
            "2          0.0    0.0  0.0     0.0   0.0  \n",
            "3          0.0    0.0  0.0     0.0   0.0  \n",
            "4          0.0    0.0  0.0     0.0   0.0  \n",
            "...        ...    ...  ...     ...   ...  \n",
            "2279       0.0    0.0  0.0     0.0   0.0  \n",
            "2280       0.0    0.0  0.0     0.0   0.0  \n",
            "2281       0.0    0.0  0.0     0.0   0.0  \n",
            "2282       0.0    0.0  0.0     0.0   0.0  \n",
            "2283       0.0    0.0  0.0     0.0   0.0  \n",
            "\n",
            "[2284 rows x 10483 columns]\n"
          ]
        }
      ]
    },
    {
      "cell_type": "markdown",
      "source": [
        "\n",
        "1. **Ответ:** Анализируя полученные результаты, замечаем, что F1 score с использованием TF-IDF векторизатором оказался выше, чем при использовании CountVectorizer. В рассматриваемом мною случае разница составляет примерно 0,4. Несмотря на то что размеры матриц совпадают для обоих случаев, качество работы TF-IDF векторизатора оказывается выше."
      ],
      "metadata": {
        "id": "SXaNclTZSFjO"
      }
    },
    {
      "cell_type": "markdown",
      "source": [
        "2. Мы можем еще сильнее уменьшить размер нашей матрицы, если отбросим значения df близкие к единице. Скорее всего такие слова не несут много информации о категории, так как встречаются достаточно часто. Ограничьте максимальный df в параметрах TfIdfVectorizer, поставьте верхнюю границу равную 0.9. Как изменился размер матрицы, как изменилось качество?\n"
      ],
      "metadata": {
        "id": "CPtk0lCA5POY"
      }
    },
    {
      "cell_type": "code",
      "source": [
        "# 2\n",
        "# initializing a new vectorizer with the upper bound of df parameter:\n",
        "tf_vec_bound = TfidfVectorizer(tokenizer = custom_tokenizer, max_df = 0.9)\n",
        "\n",
        "# applying vectorizer to the train and test parts:\n",
        "X_train_idf_bound = tf_vec_bound.fit_transform(train_new['text'])\n",
        "X_test_idf_bound = tf_vec_bound.transform(test['text'])\n",
        "\n",
        "# creating an instance of a regressor and fitting the data:\n",
        "log_idf_bound = LogisticRegression()\n",
        "log_idf_bound.fit(X_train_idf_bound, train_new['target'])\n",
        "\n",
        "# predicting the 'target' values and printing out the results:\n",
        "predictions_idf_bound = log_idf_bound.predict(X_test_idf_bound)\n",
        "f1_idf_bound = f1_score(test['target'], predictions_idf_bound)\n",
        "print(\"F1 score:\", f1_idf_bound)"
      ],
      "metadata": {
        "colab": {
          "base_uri": "https://localhost:8080/"
        },
        "id": "EU-MRXyRSHLm",
        "outputId": "0fca892a-610c-406d-de90-18476a8dddd1"
      },
      "execution_count": 49,
      "outputs": [
        {
          "output_type": "stream",
          "name": "stdout",
          "text": [
            "F1 score: 0.7407407407407407\n"
          ]
        }
      ]
    },
    {
      "cell_type": "code",
      "source": [
        "# having a look at the matrices:\n",
        "train_matrix_tf_bound = pd.DataFrame(X_train_idf_bound.toarray(), columns=tf_vec_bound.get_feature_names_out())\n",
        "test_matrix_tf_bound = pd.DataFrame(X_test_idf_bound.toarray(), columns = tf_vec_bound.get_feature_names_out())\n",
        "\n",
        "print(train_matrix_tf_bound, test_matrix_tf_bound, sep='/n')"
      ],
      "metadata": {
        "colab": {
          "base_uri": "https://localhost:8080/"
        },
        "id": "pJzkcdYNxKVu",
        "outputId": "04061ee6-6439-4f1b-ce72-c099821f409f"
      },
      "execution_count": 50,
      "outputs": [
        {
          "output_type": "stream",
          "name": "stdout",
          "text": [
            "      #abcnew  #abha  #ableg  #abomb  #abstorm  #accid  #achedin  #act  \\\n",
            "0         0.0    0.0     0.0     0.0       0.0     0.0       0.0   0.0   \n",
            "1         0.0    0.0     0.0     0.0       0.0     0.0       0.0   0.0   \n",
            "2         0.0    0.0     0.0     0.0       0.0     0.0       0.0   0.0   \n",
            "3         0.0    0.0     0.0     0.0       0.0     0.0       0.0   0.0   \n",
            "4         0.0    0.0     0.0     0.0       0.0     0.0       0.0   0.0   \n",
            "...       ...    ...     ...     ...       ...     ...       ...   ...   \n",
            "5324      0.0    0.0     0.0     0.0       0.0     0.0       0.0   0.0   \n",
            "5325      0.0    0.0     0.0     0.0       0.0     0.0       0.0   0.0   \n",
            "5326      0.0    0.0     0.0     0.0       0.0     0.0       0.0   0.0   \n",
            "5327      0.0    0.0     0.0     0.0       0.0     0.0       0.0   0.0   \n",
            "5328      0.0    0.0     0.0     0.0       0.0     0.0       0.0   0.0   \n",
            "\n",
            "      #actionmoviestaughtus  #adani  ...  zip  zipper  zmne  zombi  zone  \\\n",
            "0                       0.0     0.0  ...  0.0     0.0   0.0    0.0   0.0   \n",
            "1                       0.0     0.0  ...  0.0     0.0   0.0    0.0   0.0   \n",
            "2                       0.0     0.0  ...  0.0     0.0   0.0    0.0   0.0   \n",
            "3                       0.0     0.0  ...  0.0     0.0   0.0    0.0   0.0   \n",
            "4                       0.0     0.0  ...  0.0     0.0   0.0    0.0   0.0   \n",
            "...                     ...     ...  ...  ...     ...   ...    ...   ...   \n",
            "5324                    0.0     0.0  ...  0.0     0.0   0.0    0.0   0.0   \n",
            "5325                    0.0     0.0  ...  0.0     0.0   0.0    0.0   0.0   \n",
            "5326                    0.0     0.0  ...  0.0     0.0   0.0    0.0   0.0   \n",
            "5327                    0.0     0.0  ...  0.0     0.0   0.0    0.0   0.0   \n",
            "5328                    0.0     0.0  ...  0.0     0.0   0.0    0.0   0.0   \n",
            "\n",
            "      zonewolf  zouma  zss  zumiez  zzzz  \n",
            "0          0.0    0.0  0.0     0.0   0.0  \n",
            "1          0.0    0.0  0.0     0.0   0.0  \n",
            "2          0.0    0.0  0.0     0.0   0.0  \n",
            "3          0.0    0.0  0.0     0.0   0.0  \n",
            "4          0.0    0.0  0.0     0.0   0.0  \n",
            "...        ...    ...  ...     ...   ...  \n",
            "5324       0.0    0.0  0.0     0.0   0.0  \n",
            "5325       0.0    0.0  0.0     0.0   0.0  \n",
            "5326       0.0    0.0  0.0     0.0   0.0  \n",
            "5327       0.0    0.0  0.0     0.0   0.0  \n",
            "5328       0.0    0.0  0.0     0.0   0.0  \n",
            "\n",
            "[5329 rows x 10483 columns]/n      #abcnew  #abha  #ableg  #abomb  #abstorm  #accid  #achedin  #act  \\\n",
            "0         0.0    0.0     0.0     0.0       0.0     0.0       0.0   0.0   \n",
            "1         0.0    0.0     0.0     0.0       0.0     0.0       0.0   0.0   \n",
            "2         0.0    0.0     0.0     0.0       0.0     0.0       0.0   0.0   \n",
            "3         0.0    0.0     0.0     0.0       0.0     0.0       0.0   0.0   \n",
            "4         0.0    0.0     0.0     0.0       0.0     0.0       0.0   0.0   \n",
            "...       ...    ...     ...     ...       ...     ...       ...   ...   \n",
            "2279      0.0    0.0     0.0     0.0       0.0     0.0       0.0   0.0   \n",
            "2280      0.0    0.0     0.0     0.0       0.0     0.0       0.0   0.0   \n",
            "2281      0.0    0.0     0.0     0.0       0.0     0.0       0.0   0.0   \n",
            "2282      0.0    0.0     0.0     0.0       0.0     0.0       0.0   0.0   \n",
            "2283      0.0    0.0     0.0     0.0       0.0     0.0       0.0   0.0   \n",
            "\n",
            "      #actionmoviestaughtus  #adani  ...  zip  zipper  zmne  zombi  zone  \\\n",
            "0                       0.0     0.0  ...  0.0     0.0   0.0    0.0   0.0   \n",
            "1                       0.0     0.0  ...  0.0     0.0   0.0    0.0   0.0   \n",
            "2                       0.0     0.0  ...  0.0     0.0   0.0    0.0   0.0   \n",
            "3                       0.0     0.0  ...  0.0     0.0   0.0    0.0   0.0   \n",
            "4                       0.0     0.0  ...  0.0     0.0   0.0    0.0   0.0   \n",
            "...                     ...     ...  ...  ...     ...   ...    ...   ...   \n",
            "2279                    0.0     0.0  ...  0.0     0.0   0.0    0.0   0.0   \n",
            "2280                    0.0     0.0  ...  0.0     0.0   0.0    0.0   0.0   \n",
            "2281                    0.0     0.0  ...  0.0     0.0   0.0    0.0   0.0   \n",
            "2282                    0.0     0.0  ...  0.0     0.0   0.0    0.0   0.0   \n",
            "2283                    0.0     0.0  ...  0.0     0.0   0.0    0.0   0.0   \n",
            "\n",
            "      zonewolf  zouma  zss  zumiez  zzzz  \n",
            "0          0.0    0.0  0.0     0.0   0.0  \n",
            "1          0.0    0.0  0.0     0.0   0.0  \n",
            "2          0.0    0.0  0.0     0.0   0.0  \n",
            "3          0.0    0.0  0.0     0.0   0.0  \n",
            "4          0.0    0.0  0.0     0.0   0.0  \n",
            "...        ...    ...  ...     ...   ...  \n",
            "2279       0.0    0.0  0.0     0.0   0.0  \n",
            "2280       0.0    0.0  0.0     0.0   0.0  \n",
            "2281       0.0    0.0  0.0     0.0   0.0  \n",
            "2282       0.0    0.0  0.0     0.0   0.0  \n",
            "2283       0.0    0.0  0.0     0.0   0.0  \n",
            "\n",
            "[2284 rows x 10483 columns]\n"
          ]
        }
      ]
    },
    {
      "cell_type": "markdown",
      "source": [
        "2. **Ответ:** Размеры матриц остались неизменными. Кроме того, качество работы TF-IDF Vectorizer при указании верхней границы параметра df не повлияло на качество работы классификатора.\n",
        "**ВАЖНО:** в заданиях выше при использовании TF-IDF Vectorizer я сначала использовала кастомный токенизатор, однако затем решила поэкспериментировать и убрала его из параметров. Значение F1 на тесте сразу увеличилось до 0.75. То есть для увеличения качества в данном примере можно отказаться от использования custom tokenizer."
      ],
      "metadata": {
        "id": "4Two_O3rSVmh"
      }
    },
    {
      "cell_type": "markdown",
      "source": [
        "3. Также мы можем уменьшить размер матрицы, удаляя слова со слишком маленьким df. Удалось ли добиться улучшения качества? "
      ],
      "metadata": {
        "id": "VhyjbI5X5QnG"
      }
    },
    {
      "cell_type": "code",
      "source": [
        "# 3\n",
        "# initializing a new vectorizer with the upper bound of df parameter:\n",
        "tf_vec_lower = TfidfVectorizer(tokenizer = custom_tokenizer, min_df = 0.01) #min_df = 0.2, 0.3, 0.4\n",
        "\n",
        "# applying vectorizer to the train and test parts:\n",
        "X_train_idf_lower = tf_vec_lower.fit_transform(train_new['text'])\n",
        "X_test_idf_lower = tf_vec_lower.transform(test['text'])\n",
        "\n",
        "# creating an instance of a regressor and fitting the data:\n",
        "log_idf_lower = LogisticRegression()\n",
        "log_idf_lower.fit(X_train_idf_lower, train_new['target'])\n",
        "\n",
        "# predicting the 'target' values and printing out the results:\n",
        "predictions_idf_lower = log_idf_lower.predict(X_test_idf_lower)\n",
        "f1_idf_lower = f1_score(test['target'], predictions_idf_lower)\n",
        "print(\"F1 score:\", f1_idf_lower)"
      ],
      "metadata": {
        "colab": {
          "base_uri": "https://localhost:8080/"
        },
        "id": "9mNpIxv6SfKc",
        "outputId": "4d7d5c6d-bdfa-474a-ed80-9e89066145d9"
      },
      "execution_count": 35,
      "outputs": [
        {
          "output_type": "stream",
          "name": "stdout",
          "text": [
            "F1 score: 0.6353224834237492\n"
          ]
        }
      ]
    },
    {
      "cell_type": "code",
      "source": [
        "# having a look at the matrices:\n",
        "train_matrix_tf_lower = pd.DataFrame(X_train_idf_lower.toarray(), columns=tf_vec_lower.get_feature_names_out())\n",
        "test_matrix_tf_lower = pd.DataFrame(X_test_idf_lower.toarray(), columns = tf_vec_lower.get_feature_names_out())\n",
        "\n",
        "print(train_matrix_tf_lower, test_matrix_tf_lower, sep='/n')"
      ],
      "metadata": {
        "colab": {
          "base_uri": "https://localhost:8080/"
        },
        "id": "WOtiHF5z0vBF",
        "outputId": "190b7d2e-872d-46b7-97bb-6b0697cbab8b"
      },
      "execution_count": 36,
      "outputs": [
        {
          "output_type": "stream",
          "name": "stdout",
          "text": [
            "      #new         (        )  accid    attack  back  bag  bodi  bomb  build  \\\n",
            "0      0.0  0.000000  0.00000    0.0  0.000000   0.0  0.0   0.0   0.0    0.0   \n",
            "1      0.0  0.000000  0.00000    0.0  0.000000   0.0  0.0   0.0   0.0    0.0   \n",
            "2      0.0  0.000000  0.00000    0.0  0.000000   0.0  0.0   0.0   0.0    0.0   \n",
            "3      0.0  0.000000  0.00000    0.0  0.000000   0.0  0.0   0.0   0.0    0.0   \n",
            "4      0.0  0.000000  0.00000    0.0  0.000000   0.0  0.0   0.0   0.0    0.0   \n",
            "...    ...       ...      ...    ...       ...   ...  ...   ...   ...    ...   \n",
            "5324   0.0  0.000000  0.00000    0.0  0.000000   0.0  0.0   0.0   0.0    0.0   \n",
            "5325   0.0  0.000000  0.00000    0.0  0.479063   0.0  0.0   0.0   0.0    0.0   \n",
            "5326   0.0  0.000000  0.00000    0.0  0.000000   0.0  0.0   0.0   0.0    0.0   \n",
            "5327   0.0  0.000000  0.00000    0.0  0.000000   0.0  0.0   0.0   0.0    0.0   \n",
            "5328   0.0  0.346261  0.34842    0.0  0.000000   0.0  0.0   0.0   0.0    0.0   \n",
            "\n",
            "      ...  wave  way  weapon  wildfir  work  world  would  wreck      year  \\\n",
            "0     ...   0.0  0.0     0.0      0.0   0.0    0.0    0.0    0.0  0.000000   \n",
            "1     ...   0.0  0.0     0.0      0.0   0.0    0.0    0.0    0.0  0.000000   \n",
            "2     ...   0.0  0.0     0.0      0.0   0.0    0.0    0.0    0.0  0.000000   \n",
            "3     ...   0.0  0.0     0.0      0.0   0.0    0.0    0.0    0.0  0.000000   \n",
            "4     ...   0.0  0.0     0.0      0.0   0.0    0.0    0.0    0.0  0.000000   \n",
            "...   ...   ...  ...     ...      ...   ...    ...    ...    ...       ...   \n",
            "5324  ...   0.0  0.0     0.0      0.0   0.0    0.0    0.0    0.0  0.000000   \n",
            "5325  ...   0.0  0.0     0.0      0.0   0.0    0.0    0.0    0.0  0.477294   \n",
            "5326  ...   0.0  0.0     0.0      0.0   0.0    0.0    0.0    0.0  0.000000   \n",
            "5327  ...   0.0  0.0     0.0      0.0   0.0    0.0    0.0    0.0  0.000000   \n",
            "5328  ...   0.0  0.0     0.0      0.0   0.0    0.0    0.0    0.0  0.409363   \n",
            "\n",
            "      york  \n",
            "0      0.0  \n",
            "1      0.0  \n",
            "2      0.0  \n",
            "3      0.0  \n",
            "4      0.0  \n",
            "...    ...  \n",
            "5324   0.0  \n",
            "5325   0.0  \n",
            "5326   0.0  \n",
            "5327   0.0  \n",
            "5328   0.0  \n",
            "\n",
            "[5329 rows x 127 columns]/n      #new         (    )  accid  attack      back  bag  bodi  bomb  build  \\\n",
            "0      0.0  0.000000  0.0    0.0     0.0  0.000000  0.0   0.0   0.0    0.0   \n",
            "1      0.0  0.000000  0.0    0.0     0.0  0.000000  0.0   0.0   0.0    0.0   \n",
            "2      0.0  0.000000  0.0    0.0     0.0  0.000000  0.0   0.0   0.0    0.0   \n",
            "3      0.0  0.000000  0.0    0.0     0.0  0.586247  0.0   0.0   0.0    0.0   \n",
            "4      0.0  0.663379  0.0    0.0     0.0  0.000000  0.0   0.0   0.0    0.0   \n",
            "...    ...       ...  ...    ...     ...       ...  ...   ...   ...    ...   \n",
            "2279   0.0  0.000000  0.0    0.0     0.0  0.000000  0.0   0.0   0.0    0.0   \n",
            "2280   0.0  0.000000  0.0    0.0     0.0  0.000000  0.0   0.0   0.0    0.0   \n",
            "2281   0.0  0.000000  0.0    0.0     0.0  0.000000  0.0   0.0   0.0    0.0   \n",
            "2282   0.0  0.000000  0.0    0.0     0.0  0.000000  0.0   0.0   0.0    0.0   \n",
            "2283   0.0  0.000000  0.0    0.0     0.0  0.000000  0.0   0.0   0.0    0.0   \n",
            "\n",
            "      ...  wave  way    weapon  wildfir  work  world  would  wreck  year  york  \n",
            "0     ...   0.0  0.0  0.637703      0.0   0.0    0.0    0.0    0.0   0.0   0.0  \n",
            "1     ...   0.0  0.0  0.000000      0.0   0.0    0.0    0.0    0.0   0.0   0.0  \n",
            "2     ...   0.0  0.0  0.000000      0.0   0.0    0.0    0.0    0.0   0.0   0.0  \n",
            "3     ...   0.0  0.0  0.000000      0.0   0.0    0.0    0.0    0.0   0.0   0.0  \n",
            "4     ...   0.0  0.0  0.000000      0.0   0.0    0.0    0.0    0.0   0.0   0.0  \n",
            "...   ...   ...  ...       ...      ...   ...    ...    ...    ...   ...   ...  \n",
            "2279  ...   0.0  0.0  0.000000      0.0   0.0    0.0    0.0    0.0   0.0   0.0  \n",
            "2280  ...   0.0  0.0  0.000000      0.0   0.0    0.0    0.0    0.0   0.0   0.0  \n",
            "2281  ...   0.0  0.0  0.000000      0.0   0.0    0.0    0.0    0.0   0.0   0.0  \n",
            "2282  ...   0.0  0.0  0.000000      0.0   0.0    0.0    0.0    0.0   0.0   0.0  \n",
            "2283  ...   0.0  0.0  0.000000      0.0   0.0    0.0    0.0    0.0   0.0   0.0  \n",
            "\n",
            "[2284 rows x 127 columns]\n"
          ]
        }
      ]
    },
    {
      "cell_type": "markdown",
      "source": [
        "3. **Ответ:** Пробуя различные значения параметра *min_df*, получаем максимальное значение F1 в ~0.6, что значительно меньше, чем в случае без указания нижней границы параметра. С использованием кастомного токенизатора, осуществляется слишком сильный pruning, поэтому здесь снова более выгодном оказывается использование дефолтного токенизатора. Матрицы при этом значительно уменьшились. Размеры матриц уменьшились: в частности, значительно сократилось количество столбцов."
      ],
      "metadata": {
        "id": "imeD8skxSqdg"
      }
    },
    {
      "cell_type": "markdown",
      "metadata": {
        "id": "1l1sx4nB3HvN"
      },
      "source": [
        "## Задание 10 (1 балл)\n",
        "\n",
        "Еще один популярный трюк, который позволит уменьшить количество признаков называется hashing trick. Его суть в том, то мы случайно группируем признаки ииии  ..... складываем их! А потом удаляем исходные признаки. В итоге все наши признаки это просто суммы исходных. Звучит странно, но это отлично работает. Давайте проверим этот трюк в нашем сеттинге.\n",
        "Также при таком подходе вам не нужно хранить словарь token->index, что тоже иногда полезно.\n",
        "\n",
        "1. Повторите задание 8 с HashingVectorizer, укажите количество фичей равное 5000.\n"
      ]
    },
    {
      "cell_type": "code",
      "source": [
        "from sklearn.feature_extraction.text import HashingVectorizer\n",
        "\n",
        "# initializing a HashingVectorizer object with 5000 features:\n",
        "hashing_vec = HashingVectorizer(tokenizer = custom_tokenizer, n_features = 5000)\n",
        "\n",
        "# applying vectorizer to the train and test parts:\n",
        "X_train_hash = hashing_vec.fit_transform(train_new['text'])\n",
        "X_test_hash = hashing_vec.transform(test['text'])\n",
        "\n",
        "# creating and training a model\n",
        "log_hash = LogisticRegression()\n",
        "log_hash.fit(X_train_hash, train_new['target'])\n",
        "\n",
        "# predicting the 'target' values and printing out the results:\n",
        "predictions = log_hash.predict(X_test_hash)\n",
        "f1_hash = f1_score(test['target'], predictions)\n",
        "\n",
        "print(f'F1 score: {f1_hash}')"
      ],
      "metadata": {
        "colab": {
          "base_uri": "https://localhost:8080/"
        },
        "id": "8qSoW894RXxz",
        "outputId": "a0542b53-c471-4295-c453-a3736c3e0854"
      },
      "execution_count": 40,
      "outputs": [
        {
          "output_type": "stream",
          "name": "stdout",
          "text": [
            "F1 score: 0.713780918727915\n"
          ]
        }
      ]
    },
    {
      "cell_type": "markdown",
      "source": [
        "2. Какой из подходов показал самый высокий результат?"
      ],
      "metadata": {
        "id": "1C3I4ceg6AG-"
      }
    },
    {
      "cell_type": "markdown",
      "source": [
        "2. **Ответ:** оптимальным в данном кейсе оказалось использование TF-IDF векторизатора. При этом стоит отметить, что установление верхней границы для параметра df не улучшило показатель по метрике 'F1 мера' (установление кастомной нижней границы, напротив, значительно ухудшило качество предиктов). В целом, и это будет видно в следующем задании, очень интересно, что в некоторых случаях выгодно отказаться от кастомного токенизатора, поскольку он, судя по всему, иногда упускает некоторую информацию, которая позволяет делать более точные предикты по твитам (но это упущение несущественное, поскольку значение F1 падает несильно)."
      ],
      "metadata": {
        "id": "_bIfyVlOS9Lu"
      }
    },
    {
      "cell_type": "markdown",
      "metadata": {
        "id": "zylJ6l0R3HvN"
      },
      "source": [
        "## Задание 11 (1 балл)\n",
        "\n",
        "В этом задании нужно добиться f1 меры хотя в 0.75 на тестовых данных."
      ]
    },
    {
      "cell_type": "code",
      "source": [
        "# to improve the quality of the predictions, we're going to use\n",
        "# TF-IDF vectorizer with a built-in tokenizer:\n",
        "\n",
        "tf_vec = TfidfVectorizer()\n",
        "X_train_tf = tf_vec.fit_transform(train_new['text'])\n",
        "X_test_tf = tf_vec.transform(test['text'])\n",
        "\n",
        "# employing a logistic regressor\n",
        "log_tf = LogisticRegression()\n",
        "log_tf.fit(X_train_tf, train_new['target'])\n",
        "\n",
        "# making predictions and calculating F1 score:\n",
        "predict_tf = log_tf.predict(X_test_tf)\n",
        "f1_tf = f1_score(predict_tf, test['target'])\n",
        "\n",
        "print(f'F1 score: {f1_tf}')"
      ],
      "metadata": {
        "id": "GSTVApFeS-OY",
        "colab": {
          "base_uri": "https://localhost:8080/"
        },
        "outputId": "c74a9986-af63-40ef-95fc-a3800fa03555"
      },
      "execution_count": 51,
      "outputs": [
        {
          "output_type": "stream",
          "name": "stdout",
          "text": [
            "F1 score: 0.7508342602892102\n"
          ]
        }
      ]
    }
  ],
  "metadata": {
    "kernelspec": {
      "display_name": "Python 3 (ipykernel)",
      "language": "python",
      "name": "python3"
    },
    "language_info": {
      "codemirror_mode": {
        "name": "ipython",
        "version": 3
      },
      "file_extension": ".py",
      "mimetype": "text/x-python",
      "name": "python",
      "nbconvert_exporter": "python",
      "pygments_lexer": "ipython3",
      "version": "3.8.5"
    },
    "colab": {
      "provenance": [],
      "include_colab_link": true
    }
  },
  "nbformat": 4,
  "nbformat_minor": 0
}