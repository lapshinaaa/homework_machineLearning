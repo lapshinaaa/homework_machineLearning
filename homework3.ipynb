{
  "cells": [
    {
      "cell_type": "markdown",
      "metadata": {
        "id": "view-in-github",
        "colab_type": "text"
      },
      "source": [
        "<a href=\"https://colab.research.google.com/github/lapshinaaa/homework_machineLearning/blob/main/homework3.ipynb\" target=\"_parent\"><img src=\"https://colab.research.google.com/assets/colab-badge.svg\" alt=\"Open In Colab\"/></a>"
      ]
    },
    {
      "cell_type": "markdown",
      "metadata": {
        "id": "O6_OCTFzu8lE"
      },
      "source": [
        "## Домашнее задание 3 (10 баллов)"
      ]
    },
    {
      "cell_type": "markdown",
      "metadata": {
        "id": "rIc6VNYLu8lK"
      },
      "source": [
        "### О задании"
      ]
    },
    {
      "cell_type": "markdown",
      "metadata": {
        "id": "xRsXxtgNu8lM"
      },
      "source": [
        "В этом домашнем задании вы получите опыт подготовки данных и EDA (Exploratory Data Analysis), приблизившись к реальной работе с данными с помощью уже знакомых вам инструментов: numpy, pandas, matplotlib и seaborn."
      ]
    },
    {
      "cell_type": "markdown",
      "metadata": {
        "id": "01c_ZXgNu8ld"
      },
      "source": [
        "Вы будет работать с задачей кредитного скоринга (оценка надёжности клиента). Предоставляются данные о 1000 клиентов, про которых известно около 20 признаков и положительная или отрицательная оценка в качестве кредитуемого. Эти данные нужно будет подготовить, исследовать (в том числе с помощью средств визуализации) и даже попробовать предложить какую-нибудь формулу для условной оценки надёжности клиентов исходя из предоставленных данных. Описание данных:\n",
        "https://www.rdocumentation.org/packages/evtree/versions/1.0-8/topics/GermanCredit\n",
        "\n",
        "Каждый построенный график необходимо красиво оформить - для этого требуется как минимум указать его название, а также отметить, что изображено по каждой из осей.\n",
        "Также по каждому графику ожидается небольшой комментарий с выводами.\n",
        "\n",
        "*Функции, которые могут пригодиться при оформлении графиков: `.show()`, `.title()`, `.xlabel()`, `.ylabel()`*"
      ]
    },
    {
      "cell_type": "code",
      "execution_count": null,
      "metadata": {
        "id": "kbKMD992u8ld"
      },
      "outputs": [],
      "source": [
        "import pandas as pd\n",
        "import numpy as np"
      ]
    },
    {
      "cell_type": "markdown",
      "metadata": {
        "id": "PoKE3PySu8ld"
      },
      "source": [
        "### Задание 1 (0.0 балла)"
      ]
    },
    {
      "cell_type": "markdown",
      "metadata": {
        "id": "sMh8vvlNu8ld"
      },
      "source": [
        "Прочитайте средствами pandas файл с данными по ссылке https://raw.githubusercontent.com/hse-ds/iad-intro-ds/master/2022/homeworks/hw03-EDA/german_credit.csv. Выведите базовое представление таблицы (первые 5 и последние 5 строк, размер)."
      ]
    },
    {
      "cell_type": "code",
      "execution_count": 55,
      "metadata": {
        "id": "cRtVjoMlu8le",
        "colab": {
          "base_uri": "https://localhost:8080/"
        },
        "outputId": "9c9befc4-a257-4dac-e36e-d26783aa5163"
      },
      "outputs": [
        {
          "output_type": "stream",
          "name": "stdout",
          "text": [
            "--2023-02-27 19:43:29--  https://github.com/hse-ds/iad-intro-ds/raw/master/2023/homeworks/hw03-plots/german_credit.csv\n",
            "Resolving github.com (github.com)... 192.30.255.112\n",
            "Connecting to github.com (github.com)|192.30.255.112|:443... connected.\n",
            "HTTP request sent, awaiting response... 302 Found\n",
            "Location: https://raw.githubusercontent.com/hse-ds/iad-intro-ds/master/2023/homeworks/hw03-plots/german_credit.csv [following]\n",
            "--2023-02-27 19:43:29--  https://raw.githubusercontent.com/hse-ds/iad-intro-ds/master/2023/homeworks/hw03-plots/german_credit.csv\n",
            "Resolving raw.githubusercontent.com (raw.githubusercontent.com)... 185.199.110.133, 185.199.108.133, 185.199.109.133, ...\n",
            "Connecting to raw.githubusercontent.com (raw.githubusercontent.com)|185.199.110.133|:443... connected.\n",
            "HTTP request sent, awaiting response... 200 OK\n",
            "Length: 275201 (269K) [text/plain]\n",
            "Saving to: ‘german_credit.csv.4’\n",
            "\n",
            "german_credit.csv.4 100%[===================>] 268.75K  --.-KB/s    in 0.02s   \n",
            "\n",
            "2023-02-27 19:43:29 (10.7 MB/s) - ‘german_credit.csv.4’ saved [275201/275201]\n",
            "\n"
          ]
        }
      ],
      "source": [
        "!wget \"https://github.com/hse-ds/iad-intro-ds/raw/master/2023/homeworks/hw03-plots/german_credit.csv\""
      ]
    },
    {
      "cell_type": "code",
      "source": [
        "data = pd.read_csv(\"german_credit.csv\")\n",
        "\n",
        "data.head(5)\n",
        "#data.tail(5)\n",
        "#data.shape  output: (1000, 21)"
      ],
      "metadata": {
        "colab": {
          "base_uri": "https://localhost:8080/",
          "height": 473
        },
        "id": "_ECwR0iByo9R",
        "outputId": "4569305c-aaf6-463f-b5aa-f602c7ed1d73"
      },
      "execution_count": 67,
      "outputs": [
        {
          "output_type": "execute_result",
          "data": {
            "text/plain": [
              "                status  duration                               credit_history  \\\n",
              "0  no checking account        18      all credits at this bank paid back duly   \n",
              "1  no checking account         9      all credits at this bank paid back duly   \n",
              "2           ... < 0 DM        12  no credits taken/all credits paid back duly   \n",
              "3  no checking account        12      all credits at this bank paid back duly   \n",
              "4  no checking account        12      all credits at this bank paid back duly   \n",
              "\n",
              "      purpose  amount                     savings employment_duration  \\\n",
              "0  car (used)    1049  unknown/no savings account              < 1 yr   \n",
              "1      others    2799  unknown/no savings account    1 <= ... < 4 yrs   \n",
              "2  retraining     841               ... <  100 DM    4 <= ... < 7 yrs   \n",
              "3      others    2122  unknown/no savings account    1 <= ... < 4 yrs   \n",
              "4      others    2171  unknown/no savings account    1 <= ... < 4 yrs   \n",
              "\n",
              "  installment_rate                   personal_status_sex other_debtors  ...  \\\n",
              "0             < 20  female : non-single or male : single          none  ...   \n",
              "1   25 <= ... < 35                male : married/widowed          none  ...   \n",
              "2   25 <= ... < 35  female : non-single or male : single          none  ...   \n",
              "3   20 <= ... < 25                male : married/widowed          none  ...   \n",
              "4             < 20                male : married/widowed          none  ...   \n",
              "\n",
              "                property age  other_installment_plans   housing  \\\n",
              "0           car or other  21                     none  for free   \n",
              "1  unknown / no property  36                     none  for free   \n",
              "2  unknown / no property  23                     none  for free   \n",
              "3  unknown / no property  39                     none  for free   \n",
              "4           car or other  38                     bank      rent   \n",
              "\n",
              "  number_credits                        job people_liable telephone  \\\n",
              "0              1  skilled employee/official        0 to 2        no   \n",
              "1            2-3  skilled employee/official     3 or more        no   \n",
              "2              1       unskilled - resident        0 to 2        no   \n",
              "3            2-3       unskilled - resident     3 or more        no   \n",
              "4            2-3       unskilled - resident        0 to 2        no   \n",
              "\n",
              "  foreign_worker credit_risk  \n",
              "0             no        good  \n",
              "1             no        good  \n",
              "2             no        good  \n",
              "3            yes        good  \n",
              "4            yes        good  \n",
              "\n",
              "[5 rows x 21 columns]"
            ],
            "text/html": [
              "\n",
              "  <div id=\"df-c92cf188-8de7-4ccf-b939-d6426c5995ad\">\n",
              "    <div class=\"colab-df-container\">\n",
              "      <div>\n",
              "<style scoped>\n",
              "    .dataframe tbody tr th:only-of-type {\n",
              "        vertical-align: middle;\n",
              "    }\n",
              "\n",
              "    .dataframe tbody tr th {\n",
              "        vertical-align: top;\n",
              "    }\n",
              "\n",
              "    .dataframe thead th {\n",
              "        text-align: right;\n",
              "    }\n",
              "</style>\n",
              "<table border=\"1\" class=\"dataframe\">\n",
              "  <thead>\n",
              "    <tr style=\"text-align: right;\">\n",
              "      <th></th>\n",
              "      <th>status</th>\n",
              "      <th>duration</th>\n",
              "      <th>credit_history</th>\n",
              "      <th>purpose</th>\n",
              "      <th>amount</th>\n",
              "      <th>savings</th>\n",
              "      <th>employment_duration</th>\n",
              "      <th>installment_rate</th>\n",
              "      <th>personal_status_sex</th>\n",
              "      <th>other_debtors</th>\n",
              "      <th>...</th>\n",
              "      <th>property</th>\n",
              "      <th>age</th>\n",
              "      <th>other_installment_plans</th>\n",
              "      <th>housing</th>\n",
              "      <th>number_credits</th>\n",
              "      <th>job</th>\n",
              "      <th>people_liable</th>\n",
              "      <th>telephone</th>\n",
              "      <th>foreign_worker</th>\n",
              "      <th>credit_risk</th>\n",
              "    </tr>\n",
              "  </thead>\n",
              "  <tbody>\n",
              "    <tr>\n",
              "      <th>0</th>\n",
              "      <td>no checking account</td>\n",
              "      <td>18</td>\n",
              "      <td>all credits at this bank paid back duly</td>\n",
              "      <td>car (used)</td>\n",
              "      <td>1049</td>\n",
              "      <td>unknown/no savings account</td>\n",
              "      <td>&lt; 1 yr</td>\n",
              "      <td>&lt; 20</td>\n",
              "      <td>female : non-single or male : single</td>\n",
              "      <td>none</td>\n",
              "      <td>...</td>\n",
              "      <td>car or other</td>\n",
              "      <td>21</td>\n",
              "      <td>none</td>\n",
              "      <td>for free</td>\n",
              "      <td>1</td>\n",
              "      <td>skilled employee/official</td>\n",
              "      <td>0 to 2</td>\n",
              "      <td>no</td>\n",
              "      <td>no</td>\n",
              "      <td>good</td>\n",
              "    </tr>\n",
              "    <tr>\n",
              "      <th>1</th>\n",
              "      <td>no checking account</td>\n",
              "      <td>9</td>\n",
              "      <td>all credits at this bank paid back duly</td>\n",
              "      <td>others</td>\n",
              "      <td>2799</td>\n",
              "      <td>unknown/no savings account</td>\n",
              "      <td>1 &lt;= ... &lt; 4 yrs</td>\n",
              "      <td>25 &lt;= ... &lt; 35</td>\n",
              "      <td>male : married/widowed</td>\n",
              "      <td>none</td>\n",
              "      <td>...</td>\n",
              "      <td>unknown / no property</td>\n",
              "      <td>36</td>\n",
              "      <td>none</td>\n",
              "      <td>for free</td>\n",
              "      <td>2-3</td>\n",
              "      <td>skilled employee/official</td>\n",
              "      <td>3 or more</td>\n",
              "      <td>no</td>\n",
              "      <td>no</td>\n",
              "      <td>good</td>\n",
              "    </tr>\n",
              "    <tr>\n",
              "      <th>2</th>\n",
              "      <td>... &lt; 0 DM</td>\n",
              "      <td>12</td>\n",
              "      <td>no credits taken/all credits paid back duly</td>\n",
              "      <td>retraining</td>\n",
              "      <td>841</td>\n",
              "      <td>... &lt;  100 DM</td>\n",
              "      <td>4 &lt;= ... &lt; 7 yrs</td>\n",
              "      <td>25 &lt;= ... &lt; 35</td>\n",
              "      <td>female : non-single or male : single</td>\n",
              "      <td>none</td>\n",
              "      <td>...</td>\n",
              "      <td>unknown / no property</td>\n",
              "      <td>23</td>\n",
              "      <td>none</td>\n",
              "      <td>for free</td>\n",
              "      <td>1</td>\n",
              "      <td>unskilled - resident</td>\n",
              "      <td>0 to 2</td>\n",
              "      <td>no</td>\n",
              "      <td>no</td>\n",
              "      <td>good</td>\n",
              "    </tr>\n",
              "    <tr>\n",
              "      <th>3</th>\n",
              "      <td>no checking account</td>\n",
              "      <td>12</td>\n",
              "      <td>all credits at this bank paid back duly</td>\n",
              "      <td>others</td>\n",
              "      <td>2122</td>\n",
              "      <td>unknown/no savings account</td>\n",
              "      <td>1 &lt;= ... &lt; 4 yrs</td>\n",
              "      <td>20 &lt;= ... &lt; 25</td>\n",
              "      <td>male : married/widowed</td>\n",
              "      <td>none</td>\n",
              "      <td>...</td>\n",
              "      <td>unknown / no property</td>\n",
              "      <td>39</td>\n",
              "      <td>none</td>\n",
              "      <td>for free</td>\n",
              "      <td>2-3</td>\n",
              "      <td>unskilled - resident</td>\n",
              "      <td>3 or more</td>\n",
              "      <td>no</td>\n",
              "      <td>yes</td>\n",
              "      <td>good</td>\n",
              "    </tr>\n",
              "    <tr>\n",
              "      <th>4</th>\n",
              "      <td>no checking account</td>\n",
              "      <td>12</td>\n",
              "      <td>all credits at this bank paid back duly</td>\n",
              "      <td>others</td>\n",
              "      <td>2171</td>\n",
              "      <td>unknown/no savings account</td>\n",
              "      <td>1 &lt;= ... &lt; 4 yrs</td>\n",
              "      <td>&lt; 20</td>\n",
              "      <td>male : married/widowed</td>\n",
              "      <td>none</td>\n",
              "      <td>...</td>\n",
              "      <td>car or other</td>\n",
              "      <td>38</td>\n",
              "      <td>bank</td>\n",
              "      <td>rent</td>\n",
              "      <td>2-3</td>\n",
              "      <td>unskilled - resident</td>\n",
              "      <td>0 to 2</td>\n",
              "      <td>no</td>\n",
              "      <td>yes</td>\n",
              "      <td>good</td>\n",
              "    </tr>\n",
              "  </tbody>\n",
              "</table>\n",
              "<p>5 rows × 21 columns</p>\n",
              "</div>\n",
              "      <button class=\"colab-df-convert\" onclick=\"convertToInteractive('df-c92cf188-8de7-4ccf-b939-d6426c5995ad')\"\n",
              "              title=\"Convert this dataframe to an interactive table.\"\n",
              "              style=\"display:none;\">\n",
              "        \n",
              "  <svg xmlns=\"http://www.w3.org/2000/svg\" height=\"24px\"viewBox=\"0 0 24 24\"\n",
              "       width=\"24px\">\n",
              "    <path d=\"M0 0h24v24H0V0z\" fill=\"none\"/>\n",
              "    <path d=\"M18.56 5.44l.94 2.06.94-2.06 2.06-.94-2.06-.94-.94-2.06-.94 2.06-2.06.94zm-11 1L8.5 8.5l.94-2.06 2.06-.94-2.06-.94L8.5 2.5l-.94 2.06-2.06.94zm10 10l.94 2.06.94-2.06 2.06-.94-2.06-.94-.94-2.06-.94 2.06-2.06.94z\"/><path d=\"M17.41 7.96l-1.37-1.37c-.4-.4-.92-.59-1.43-.59-.52 0-1.04.2-1.43.59L10.3 9.45l-7.72 7.72c-.78.78-.78 2.05 0 2.83L4 21.41c.39.39.9.59 1.41.59.51 0 1.02-.2 1.41-.59l7.78-7.78 2.81-2.81c.8-.78.8-2.07 0-2.86zM5.41 20L4 18.59l7.72-7.72 1.47 1.35L5.41 20z\"/>\n",
              "  </svg>\n",
              "      </button>\n",
              "      \n",
              "  <style>\n",
              "    .colab-df-container {\n",
              "      display:flex;\n",
              "      flex-wrap:wrap;\n",
              "      gap: 12px;\n",
              "    }\n",
              "\n",
              "    .colab-df-convert {\n",
              "      background-color: #E8F0FE;\n",
              "      border: none;\n",
              "      border-radius: 50%;\n",
              "      cursor: pointer;\n",
              "      display: none;\n",
              "      fill: #1967D2;\n",
              "      height: 32px;\n",
              "      padding: 0 0 0 0;\n",
              "      width: 32px;\n",
              "    }\n",
              "\n",
              "    .colab-df-convert:hover {\n",
              "      background-color: #E2EBFA;\n",
              "      box-shadow: 0px 1px 2px rgba(60, 64, 67, 0.3), 0px 1px 3px 1px rgba(60, 64, 67, 0.15);\n",
              "      fill: #174EA6;\n",
              "    }\n",
              "\n",
              "    [theme=dark] .colab-df-convert {\n",
              "      background-color: #3B4455;\n",
              "      fill: #D2E3FC;\n",
              "    }\n",
              "\n",
              "    [theme=dark] .colab-df-convert:hover {\n",
              "      background-color: #434B5C;\n",
              "      box-shadow: 0px 1px 3px 1px rgba(0, 0, 0, 0.15);\n",
              "      filter: drop-shadow(0px 1px 2px rgba(0, 0, 0, 0.3));\n",
              "      fill: #FFFFFF;\n",
              "    }\n",
              "  </style>\n",
              "\n",
              "      <script>\n",
              "        const buttonEl =\n",
              "          document.querySelector('#df-c92cf188-8de7-4ccf-b939-d6426c5995ad button.colab-df-convert');\n",
              "        buttonEl.style.display =\n",
              "          google.colab.kernel.accessAllowed ? 'block' : 'none';\n",
              "\n",
              "        async function convertToInteractive(key) {\n",
              "          const element = document.querySelector('#df-c92cf188-8de7-4ccf-b939-d6426c5995ad');\n",
              "          const dataTable =\n",
              "            await google.colab.kernel.invokeFunction('convertToInteractive',\n",
              "                                                     [key], {});\n",
              "          if (!dataTable) return;\n",
              "\n",
              "          const docLinkHtml = 'Like what you see? Visit the ' +\n",
              "            '<a target=\"_blank\" href=https://colab.research.google.com/notebooks/data_table.ipynb>data table notebook</a>'\n",
              "            + ' to learn more about interactive tables.';\n",
              "          element.innerHTML = '';\n",
              "          dataTable['output_type'] = 'display_data';\n",
              "          await google.colab.output.renderOutput(dataTable, element);\n",
              "          const docLink = document.createElement('div');\n",
              "          docLink.innerHTML = docLinkHtml;\n",
              "          element.appendChild(docLink);\n",
              "        }\n",
              "      </script>\n",
              "    </div>\n",
              "  </div>\n",
              "  "
            ]
          },
          "metadata": {},
          "execution_count": 67
        }
      ]
    },
    {
      "cell_type": "markdown",
      "metadata": {
        "id": "JBbxRdOQu8le"
      },
      "source": [
        "### Задание 2 (0.5 балла)"
      ]
    },
    {
      "cell_type": "markdown",
      "metadata": {
        "id": "hIPt1r6ju8le"
      },
      "source": [
        "Определите, есть ли пропуски в данных. Разделите признаки на количественные, бинарные, порядковые и категориальные."
      ]
    },
    {
      "cell_type": "code",
      "execution_count": null,
      "metadata": {
        "id": "jD04ZLhdM6DT",
        "colab": {
          "base_uri": "https://localhost:8080/"
        },
        "outputId": "b8ff8e55-c86c-4397-89bf-cd9fdf38b9fc"
      },
      "outputs": [
        {
          "output_type": "execute_result",
          "data": {
            "text/plain": [
              "status                     0\n",
              "duration                   0\n",
              "credit_history             0\n",
              "purpose                    0\n",
              "amount                     0\n",
              "savings                    0\n",
              "employment_duration        0\n",
              "installment_rate           0\n",
              "personal_status_sex        0\n",
              "other_debtors              0\n",
              "present_residence          0\n",
              "property                   0\n",
              "age                        0\n",
              "other_installment_plans    0\n",
              "housing                    0\n",
              "number_credits             0\n",
              "job                        0\n",
              "people_liable              0\n",
              "telephone                  0\n",
              "foreign_worker             0\n",
              "credit_risk                0\n",
              "dtype: int64"
            ]
          },
          "metadata": {},
          "execution_count": 9
        }
      ],
      "source": [
        "# check for missing values\n",
        "data.isna().sum()   # -> no missing values found\n",
        "\n",
        "# numeric data (числовые признаки): duration, amount, age\n",
        "\n",
        "# binary data (бинарные признаки): telephone (yes/no), foreign_worker (yes/no), credit_risk (good/bad) (это также можно не относить сюда, так как это ЦЕЛЕВАЯ переменная)\n",
        "\n",
        "# ordinal data (порядковые признаки): status, savings, employment_duration, installment_rate, present_residence, number_credits, people_liable\n",
        "\n",
        "# categorical data (категориальные признаки): credit_history, purpose, personal_status_sex, other_debtors, property, other_installment_plans, housing, job\n"
      ]
    },
    {
      "cell_type": "markdown",
      "metadata": {
        "id": "SqPrAHdKRTIE"
      },
      "source": [
        "### Задание 3 (0.5 балла)"
      ]
    },
    {
      "cell_type": "markdown",
      "metadata": {
        "id": "KlMiEcHBRXhD"
      },
      "source": [
        "Выведите среднюю сумму кредита (колонка amount) в каждой категории (колонка purpose), воспользовавшись методом groupby."
      ]
    },
    {
      "cell_type": "code",
      "execution_count": null,
      "metadata": {
        "id": "oXE_DvksRbpn",
        "colab": {
          "base_uri": "https://localhost:8080/"
        },
        "outputId": "54aaee01-25fe-4d4d-8d6e-25ad7156a2d4"
      },
      "outputs": [
        {
          "output_type": "execute_result",
          "data": {
            "text/plain": [
              "purpose\n",
              "business               8209.333333\n",
              "car (new)              5370.223301\n",
              "car (used)             3066.983425\n",
              "domestic appliances    2728.090909\n",
              "furniture/equipment    2487.685714\n",
              "others                 3062.948718\n",
              "radio/television       1498.000000\n",
              "repairs                3180.400000\n",
              "retraining             4158.041237\n",
              "vacation               1205.888889\n",
              "Name: amount, dtype: float64"
            ]
          },
          "metadata": {},
          "execution_count": 4
        }
      ],
      "source": [
        "data.groupby('purpose')['amount'].apply(np.mean)"
      ]
    },
    {
      "cell_type": "markdown",
      "metadata": {
        "id": "mG3ALQRdu8le"
      },
      "source": [
        "### Задание 4 (0.5 балла)\n"
      ]
    },
    {
      "cell_type": "markdown",
      "metadata": {
        "id": "dlb3bBzTu8lf"
      },
      "source": [
        "Какой процент клиентов моложе 30 лет (колонка age) снимает жилье (колонка housing)? А какой процент клиентов старше 40 лет снимает жилье?"
      ]
    },
    {
      "cell_type": "code",
      "execution_count": null,
      "metadata": {
        "id": "MbGsJVWQu8lf",
        "colab": {
          "base_uri": "https://localhost:8080/"
        },
        "outputId": "3d83aca2-6d2d-426d-c392-b2852dc6aba5"
      },
      "outputs": [
        {
          "output_type": "stream",
          "name": "stdout",
          "text": [
            "66.66666666666666\n",
            "68.01470588235294\n"
          ]
        }
      ],
      "source": [
        "# first question:\n",
        "print((data[(data['age'] < 30) & (data['housing'] == 'rent')].shape[0] / data[data['age'] < 30].shape[0]) * 100)\n",
        "\n",
        "# second question:\n",
        "print((data[(data['age'] > 40) & (data['housing'] == 'rent')].shape[0] / data[data['age'] > 40].shape[0]) * 100)"
      ]
    },
    {
      "cell_type": "markdown",
      "metadata": {
        "id": "-JG_63_nu8lf"
      },
      "source": [
        "### Задание 5 (0.5 балла)"
      ]
    },
    {
      "cell_type": "markdown",
      "metadata": {
        "id": "aEC7Jj5eu8lf"
      },
      "source": [
        " У скольких иностранцев (foreign_worker) число кредитов (number_credits) больше 3?"
      ]
    },
    {
      "cell_type": "code",
      "execution_count": null,
      "metadata": {
        "id": "ScD09Oa4u8lf",
        "colab": {
          "base_uri": "https://localhost:8080/"
        },
        "outputId": "77baa7ad-a2fb-4b6b-a6a7-3359a2449acd"
      },
      "outputs": [
        {
          "output_type": "execute_result",
          "data": {
            "text/plain": [
              "1"
            ]
          },
          "metadata": {},
          "execution_count": 57
        }
      ],
      "source": [
        "data.loc[(data['foreign_worker'] == 'yes') & (data['number_credits'] != '1') & (data['number_credits'] != '2-3'), 'foreign_worker'].count()"
      ]
    },
    {
      "cell_type": "markdown",
      "metadata": {
        "id": "KAe_K_upu8lg"
      },
      "source": [
        "### Задание 6 (1 балл)"
      ]
    },
    {
      "cell_type": "code",
      "execution_count": null,
      "metadata": {
        "id": "Q1pVde3gjPNB"
      },
      "outputs": [],
      "source": [
        "import numpy as np\n",
        "import matplotlib.pyplot as plt\n",
        "%matplotlib inline"
      ]
    },
    {
      "cell_type": "markdown",
      "metadata": {
        "id": "aW45ioAJjWMo"
      },
      "source": [
        "Используя numpy и matplotlib, начнём с тренировки: постройте график функций $sin(x)$ и $cos(x)$ от $-\\pi$ до $\\pi$ из 100 точек c легендой и сеткой. Используйте для линий разные цвета, одна из них пусть будет пунктирной. Результат в этом и следующих заданиях на построение графиков должен получиться примерно как на картинке. Содержание подписей не должно обязательно совпадать, однако осмысленные подписи должны присутствовать на графиках."
      ]
    },
    {
      "cell_type": "code",
      "execution_count": null,
      "metadata": {
        "colab": {
          "base_uri": "https://localhost:8080/",
          "height": 295
        },
        "id": "8rMlt0nbu8lg",
        "outputId": "100b2d98-0260-403d-edc0-61358713796f"
      },
      "outputs": [
        {
          "output_type": "display_data",
          "data": {
            "text/plain": [
              "<Figure size 432x288 with 1 Axes>"
            ],
            "image/png": "[encoded data removed]"
          },
          "metadata": {
            "needs_background": "light"
          }
        }
      ],
      "source": [
        "plt.title(\"sin(x), cos(x) functions\")\n",
        "\n",
        "x = np.linspace(-np.pi, np.pi, 100)\n",
        "sinx = np.sin(x)\n",
        "cosx = np.cos(x)\n",
        "\n",
        "plt.plot(x, sinx, label = 'y = sin(x)', color = 'orchid')\n",
        "plt.plot(x, cosx, linestyle='dashed', label = 'y = cos(x)', color = 'gold')\n",
        "\n",
        "# naming the axes\n",
        "plt.xlabel(\"x\")\n",
        "plt.ylabel(\"f(x)\")\n",
        "\n",
        "plt.legend()\n",
        "plt.grid(True)\n",
        "plt.show()"
      ]
    },
    {
      "cell_type": "markdown",
      "metadata": {
        "id": "toFoOig2u8lh"
      },
      "source": [
        "### Задание 7 (1 балл)"
      ]
    },
    {
      "cell_type": "markdown",
      "metadata": {
        "id": "9I3yl5dEu8lh"
      },
      "source": [
        "Рассмотрим сравнительное количество положительных и отрицательных кейсов в зависимости от размера текущего счёта. Постройте зеркальные горизонтальные гистограммы."
      ]
    },
    {
      "cell_type": "code",
      "execution_count": null,
      "metadata": {
        "id": "sqXmg0V3u8li",
        "outputId": "9fe4c493-a15d-4ca5-d346-fddddbacac71",
        "colab": {
          "base_uri": "https://localhost:8080/",
          "height": 356
        }
      },
      "outputs": [
        {
          "output_type": "display_data",
          "data": {
            "text/plain": [
              "<Figure size 1152x360 with 2 Axes>"
            ],
            "image/png": "[encoded data removed]"
          },
          "metadata": {
            "needs_background": "light"
          }
        }
      ],
      "source": [
        "# grouping the data for good and bad cases\n",
        "good_grouped = data[data['credit_risk'] == 'good'].groupby(['status', 'credit_risk']).size().unstack()\n",
        "bad_grouped = data[data['credit_risk'] == 'bad'].groupby(['status', 'credit_risk']).size().unstack()\n",
        "\n",
        "# two subplots for good and bad cases\n",
        "fig, ax = plt.subplots(ncols=2, figsize=(16, 5), sharey=True)\n",
        "fig.suptitle(\"Status of checking account\", fontsize=16)\n",
        "\n",
        "# plotting all the data for good cases\n",
        "good_grouped.plot(kind='barh', stacked=True, ax=ax[0], color='green', legend=False, width=0.8)\n",
        "ax[0].set_title('Good Risk')\n",
        "\n",
        "# set the x-axis limits of the second plot to be the same as the first one\n",
        "ax[1].set_xlim(ax[0].get_xlim())\n",
        "ax[0].invert_xaxis() # inverting the x-axis (they have to mirror each other)\n",
        "\n",
        "# plotting all the data for bad cases\n",
        "bad_grouped.plot(kind='barh', stacked=True, ax=ax[1], color='red', legend=False, width=0.8)\n",
        "ax[1].set_title('Bad Risk')\n",
        "\n",
        "# adjusting the visibility of the y-ticks and tick labels for the right subplot (sharey parameter removed the y ticks for the second subplot)\n",
        "ax[1].tick_params(axis='y', labelright=True, right = True)\n",
        "\n",
        "ax[0].set_ylabel(None)\n",
        "ax[1].set_ylabel(None)\n",
        "\n",
        "plt.show()\n",
        "\n",
        "# Выводы: наибольшее количество успешных кейсов наблюдается при наличии у заявителя\n",
        "# более чем 200 марок/месяц в качестве зарплаты на протяжении года. При отсутствии каких-либо данных об аккаунте заявителя\n",
        "# наблюдается самый большой риск невозвращения средств."
      ]
    },
    {
      "cell_type": "markdown",
      "metadata": {
        "id": "bfJALnuMu8li"
      },
      "source": [
        "### Задание 8  (0.5 балла)"
      ]
    },
    {
      "cell_type": "code",
      "execution_count": null,
      "metadata": {
        "id": "Yi_RIvTx00EE"
      },
      "outputs": [],
      "source": [
        "import seaborn as sns"
      ]
    },
    {
      "cell_type": "markdown",
      "metadata": {
        "id": "mFbzcUiwu8li"
      },
      "source": [
        "Теперь постройте гистограмму для сравнения количества положительных и отрицательных кейсов в зависимости от размера сберегательного счёта с помощью seaborn. Какой способ вам больше нравится с точки зрения трудоёмкости написания кода? А с точки зрения восприятия результата?"
      ]
    },
    {
      "cell_type": "code",
      "execution_count": null,
      "metadata": {
        "colab": {
          "base_uri": "https://localhost:8080/",
          "height": 350
        },
        "id": "ZFe21FDJu8li",
        "outputId": "10b4ab82-31ac-4788-c622-93f3c62e096d"
      },
      "outputs": [
        {
          "output_type": "display_data",
          "data": {
            "text/plain": [
              "<Figure size 864x360 with 1 Axes>"
            ],
            "image/png": "[encoded data removed]"
          },
          "metadata": {
            "needs_background": "light"
          }
        }
      ],
      "source": [
        "# create subplots with a custom size\n",
        "fig, ax = plt.subplots(figsize=(12, 5))\n",
        "\n",
        "colors = {'good': 'green', 'bad': 'red'} #  defining the colors for each subplot\n",
        "\n",
        "# plotting count of savings for each credit risk value\n",
        "sns.countplot(x='savings', hue='credit_risk', data=data, palette =colors, ax=ax)\n",
        "\n",
        "# setting plot title and axis labels\n",
        "plt.title('Credit risk by savings')\n",
        "plt.xlabel('Savings')\n",
        "plt.ylabel('Count')\n",
        "\n",
        "plt.show()\n",
        "\n",
        "# При отсутствии каких-либо сбережений наблюдается самый высокий риск невозвращения кредита. \n",
        "# Кроме того, при наличии у заявителя на счету более 1000 марок, риск возвращения средств очень высок."
      ]
    },
    {
      "cell_type": "markdown",
      "metadata": {
        "id": "86JCla6mu8li"
      },
      "source": [
        "### Задание 9  (1 балл)"
      ]
    },
    {
      "cell_type": "markdown",
      "metadata": {
        "id": "KDWT_Zx4u8lj"
      },
      "source": [
        "seaborn легко позволяет добавить ещё больше информации на один график. Для каждого размера сберегательного счёта мы можем оценить не только количество положительных и отрицательных кейсов, но и их распределение по возрасту, например. Постройте подходящую для этого визуализацию."
      ]
    },
    {
      "cell_type": "code",
      "execution_count": null,
      "metadata": {
        "colab": {
          "base_uri": "https://localhost:8080/",
          "height": 458
        },
        "id": "_jyzuliwu8lj",
        "outputId": "d2f34468-7c76-4625-efef-4c356bad77ca"
      },
      "outputs": [
        {
          "output_type": "display_data",
          "data": {
            "text/plain": [
              "<Figure size 1008x504 with 1 Axes>"
            ],
            "image/png": "[encoded data removed]"
          },
          "metadata": {
            "needs_background": "light"
          }
        }
      ],
      "source": [
        "# create subplots with a custom size\n",
        "fig, ax = plt.subplots(figsize=(14, 7))\n",
        "\n",
        "colors = {'good': 'green', 'bad': 'red'} #  defining the colors for each subplot\n",
        "\n",
        "sns.violinplot(x='savings', y='age', hue='credit_risk', data=data, palette =colors, ax=ax, split=True)\n",
        "\n",
        "# setting plot title and axis labels\n",
        "plt.title('Credit Risk by Savings and Age')\n",
        "plt.xlabel('Savings')\n",
        "plt.ylabel('Age')\n",
        "\n",
        "plt.show()\n",
        "\n",
        "# Анализируя график, можно отметить, что наилучший риск возврата кредита наблюдается у заявителей в возрасте\n",
        "# 20-45 лет. С увеличением возраста и уменьшением денег на счету, уменьшается вероятность возврата средств кредитуемым. "
      ]
    },
    {
      "cell_type": "markdown",
      "metadata": {
        "id": "Q6ZBM9nqu8lj"
      },
      "source": [
        "### Задание 10  (0.5 балла)"
      ]
    },
    {
      "cell_type": "markdown",
      "metadata": {
        "id": "9w1ch-1cu8lj"
      },
      "source": [
        "Заканчивая с гистограммами, посмотрим на распределение положительных и отрицательных кейсов по возрастам, разместив их друг над другом. Добавим распределение всех взятых кредитов."
      ]
    },
    {
      "cell_type": "code",
      "execution_count": null,
      "metadata": {
        "colab": {
          "base_uri": "https://localhost:8080/",
          "height": 813
        },
        "id": "_hWi9-MVEQf0",
        "outputId": "6f5324fe-495e-411e-da21-a9ed98c4b290"
      },
      "outputs": [
        {
          "output_type": "display_data",
          "data": {
            "text/plain": [
              "<Figure size 576x864 with 3 Axes>"
            ],
            "image/png": "[encoded data removed]"
          },
          "metadata": {
            "needs_background": "light"
          }
        }
      ],
      "source": [
        "# filtering data by credit risk\n",
        "good_risk = data[data['credit_risk'] == 'good']\n",
        "bad_risk = data[data['credit_risk'] == 'bad']\n",
        "\n",
        "fig, axs = plt.subplots(nrows=3, figsize=(8, 12))\n",
        "\n",
        "# plotting histograms for good credit risk  (using [] method so that if needed iteration can be performed)\n",
        "axs[0].hist(good_risk['age'], color='green', range=(20, 70), label='Good credits age distribution')\n",
        "axs[0].set_xlabel('Age')\n",
        "axs[0].set_ylabel('Count')\n",
        "axs[0].set_ylim([0, 200])\n",
        "\n",
        "# plotting histograms for bad credit risk\n",
        "axs[1].hist(bad_risk['age'], color='red',range=(20, 70), label='Bad credits age distribution')\n",
        "axs[1].set_xlabel('Age')\n",
        "axs[1].set_ylabel('Count')\n",
        "axs[1].set_ylim([0, 200])\n",
        "\n",
        "# plotting histograms for overall age distribution\n",
        "axs[2].hist(data['age'], range=(20, 70), label='Overall age distribution')\n",
        "axs[2].set_xlabel('Age')\n",
        "axs[2].set_ylabel('Count')\n",
        "\n",
        "fig.legend()\n",
        "fig.subplots_adjust(top=0.95)  # the spacing above the first subplot was too big, so I manually fixed it\n",
        "\n",
        "plt.show()\n"
      ]
    },
    {
      "cell_type": "markdown",
      "metadata": {
        "id": "PVrJUff5u8lj"
      },
      "source": [
        "### Задание 11  (0.5 балла)"
      ]
    },
    {
      "cell_type": "markdown",
      "metadata": {
        "id": "Vh20VqxOu8lk"
      },
      "source": [
        "Не менее полезной иногда может быть диаграмма рассеяния. Постройте такую диаграмму с продолжительностью и размерами кредитов в качестве осей. Обозначьте положительные и отрицательные кейсы разными цветами."
      ]
    },
    {
      "cell_type": "code",
      "execution_count": null,
      "metadata": {
        "colab": {
          "base_uri": "https://localhost:8080/",
          "height": 442
        },
        "id": "PEAmiINUu8lk",
        "outputId": "93f6cd31-1ef2-4979-f8e6-785b8f5c82bc"
      },
      "outputs": [
        {
          "output_type": "display_data",
          "data": {
            "text/plain": [
              "<Figure size 864x504 with 1 Axes>"
            ],
            "image/png": "[encoded data removed]"
          },
          "metadata": {
            "needs_background": "light"
          }
        }
      ],
      "source": [
        "# separate the data by credit risk\n",
        "good_data = data[data['credit_risk'] == 'good']\n",
        "bad_data = data[data['credit_risk'] == 'bad']\n",
        "\n",
        "# create a new figure with a larger size\n",
        "plt.figure(figsize=(12,7))\n",
        "\n",
        "# create a scatter plot for good and bad credit risk data\n",
        "plt.scatter(good_data['amount'], good_data['duration'], color='green', label='Good cases')\n",
        "plt.scatter(bad_data['amount'], bad_data['duration'], color='red', label='Bad cases')\n",
        "\n",
        "# set the x and y labels\n",
        "plt.xlabel('Credit amount')\n",
        "plt.ylabel('Duration')\n",
        "\n",
        "\n",
        "plt.legend()\n",
        "plt.show()\n"
      ]
    },
    {
      "cell_type": "markdown",
      "metadata": {
        "id": "mePIgqPqu8lk"
      },
      "source": [
        "### Задание 12  (1 балл)"
      ]
    },
    {
      "cell_type": "markdown",
      "metadata": {
        "id": "HWD2qUbLu8lk"
      },
      "source": [
        "Продвинемся глубже. Постройте 3D версию диаграммы рассеяния, добавив ось с возрастом."
      ]
    },
    {
      "cell_type": "code",
      "execution_count": null,
      "metadata": {
        "colab": {
          "base_uri": "https://localhost:8080/",
          "height": 466
        },
        "id": "SU2bmkPIu8lk",
        "outputId": "bc7976bb-bcbb-489e-ec89-7e8c6d0356df"
      },
      "outputs": [
        {
          "output_type": "display_data",
          "data": {
            "text/plain": [
              "<Figure size 720x576 with 1 Axes>"
            ],
            "image/png": "[encoded data removed]"
          },
          "metadata": {
            "needs_background": "light"
          }
        }
      ],
      "source": [
        "from mpl_toolkits import mplot3d\n",
        "\n",
        "fig = plt.figure(figsize=(10, 8))\n",
        "ax = plt.axes(projection='3d') # preparing a 3D space for a scatter plot\n",
        "\n",
        "# separate the data by credit risk\n",
        "good_data = data[data['credit_risk'] == 'good']\n",
        "bad_data = data[data['credit_risk'] == 'bad']\n",
        "\n",
        "\n",
        "# create a scatter plot for good credit risk data\n",
        "ax.scatter(good_data['amount'], good_data['duration'], good_data['age'], color='green', label='Good cases')\n",
        "\n",
        "# create a scatter plot for bad credit risk data\n",
        "ax.scatter(bad_data['amount'], bad_data['duration'], bad_data['age'], color='red', label='Bad cases')\n",
        "\n",
        "# setting all the necessary labels\n",
        "ax.set_xlabel('Credit amount')\n",
        "ax.set_ylabel('Duration')\n",
        "ax.set_zlabel('Age')\n",
        "\n",
        "ax.legend()\n",
        "plt.show()\n"
      ]
    },
    {
      "cell_type": "markdown",
      "metadata": {
        "id": "8Zxx_kxSYa_l"
      },
      "source": [
        "### Задание 13  (0.5 балла)"
      ]
    },
    {
      "cell_type": "markdown",
      "metadata": {
        "id": "5YBhNGg6Yjuw"
      },
      "source": [
        "Представьте все порядковые и бинарные признаки в виде числовых значений {0, ..., n - 1}, где n это количество значений признака. Избавьтесь от категориальных признаков."
      ]
    },
    {
      "cell_type": "code",
      "source": [
        "# replacing values in binary columns with {0, 1} values (drop_first = True drops one of the resulting binary indicator variables for each categorical feature):\n",
        "data = pd.get_dummies(data, columns=[\"foreign_worker\", 'telephone', 'credit_risk'], drop_first=True)\n",
        "data.head()  # demonstrating the result"
      ],
      "metadata": {
        "colab": {
          "base_uri": "https://localhost:8080/",
          "height": 525
        },
        "id": "2ExNJRzRS8Eg",
        "outputId": "1d898cfb-8f1f-46b9-c835-7fd08916d3b7"
      },
      "execution_count": 68,
      "outputs": [
        {
          "output_type": "execute_result",
          "data": {
            "text/plain": [
              "                status  duration                               credit_history  \\\n",
              "0  no checking account        18      all credits at this bank paid back duly   \n",
              "1  no checking account         9      all credits at this bank paid back duly   \n",
              "2           ... < 0 DM        12  no credits taken/all credits paid back duly   \n",
              "3  no checking account        12      all credits at this bank paid back duly   \n",
              "4  no checking account        12      all credits at this bank paid back duly   \n",
              "\n",
              "      purpose  amount                     savings employment_duration  \\\n",
              "0  car (used)    1049  unknown/no savings account              < 1 yr   \n",
              "1      others    2799  unknown/no savings account    1 <= ... < 4 yrs   \n",
              "2  retraining     841               ... <  100 DM    4 <= ... < 7 yrs   \n",
              "3      others    2122  unknown/no savings account    1 <= ... < 4 yrs   \n",
              "4      others    2171  unknown/no savings account    1 <= ... < 4 yrs   \n",
              "\n",
              "  installment_rate                   personal_status_sex other_debtors  ...  \\\n",
              "0             < 20  female : non-single or male : single          none  ...   \n",
              "1   25 <= ... < 35                male : married/widowed          none  ...   \n",
              "2   25 <= ... < 35  female : non-single or male : single          none  ...   \n",
              "3   20 <= ... < 25                male : married/widowed          none  ...   \n",
              "4             < 20                male : married/widowed          none  ...   \n",
              "\n",
              "                property age  other_installment_plans   housing  \\\n",
              "0           car or other  21                     none  for free   \n",
              "1  unknown / no property  36                     none  for free   \n",
              "2  unknown / no property  23                     none  for free   \n",
              "3  unknown / no property  39                     none  for free   \n",
              "4           car or other  38                     bank      rent   \n",
              "\n",
              "  number_credits                        job people_liable foreign_worker_yes  \\\n",
              "0              1  skilled employee/official        0 to 2                  0   \n",
              "1            2-3  skilled employee/official     3 or more                  0   \n",
              "2              1       unskilled - resident        0 to 2                  0   \n",
              "3            2-3       unskilled - resident     3 or more                  1   \n",
              "4            2-3       unskilled - resident        0 to 2                  1   \n",
              "\n",
              "   telephone_yes (under customer name)  credit_risk_good  \n",
              "0                                    0                 1  \n",
              "1                                    0                 1  \n",
              "2                                    0                 1  \n",
              "3                                    0                 1  \n",
              "4                                    0                 1  \n",
              "\n",
              "[5 rows x 21 columns]"
            ],
            "text/html": [
              "\n",
              "  <div id=\"df-2131092f-7c50-400c-a34f-4aed02651a78\">\n",
              "    <div class=\"colab-df-container\">\n",
              "      <div>\n",
              "<style scoped>\n",
              "    .dataframe tbody tr th:only-of-type {\n",
              "        vertical-align: middle;\n",
              "    }\n",
              "\n",
              "    .dataframe tbody tr th {\n",
              "        vertical-align: top;\n",
              "    }\n",
              "\n",
              "    .dataframe thead th {\n",
              "        text-align: right;\n",
              "    }\n",
              "</style>\n",
              "<table border=\"1\" class=\"dataframe\">\n",
              "  <thead>\n",
              "    <tr style=\"text-align: right;\">\n",
              "      <th></th>\n",
              "      <th>status</th>\n",
              "      <th>duration</th>\n",
              "      <th>credit_history</th>\n",
              "      <th>purpose</th>\n",
              "      <th>amount</th>\n",
              "      <th>savings</th>\n",
              "      <th>employment_duration</th>\n",
              "      <th>installment_rate</th>\n",
              "      <th>personal_status_sex</th>\n",
              "      <th>other_debtors</th>\n",
              "      <th>...</th>\n",
              "      <th>property</th>\n",
              "      <th>age</th>\n",
              "      <th>other_installment_plans</th>\n",
              "      <th>housing</th>\n",
              "      <th>number_credits</th>\n",
              "      <th>job</th>\n",
              "      <th>people_liable</th>\n",
              "      <th>foreign_worker_yes</th>\n",
              "      <th>telephone_yes (under customer name)</th>\n",
              "      <th>credit_risk_good</th>\n",
              "    </tr>\n",
              "  </thead>\n",
              "  <tbody>\n",
              "    <tr>\n",
              "      <th>0</th>\n",
              "      <td>no checking account</td>\n",
              "      <td>18</td>\n",
              "      <td>all credits at this bank paid back duly</td>\n",
              "      <td>car (used)</td>\n",
              "      <td>1049</td>\n",
              "      <td>unknown/no savings account</td>\n",
              "      <td>&lt; 1 yr</td>\n",
              "      <td>&lt; 20</td>\n",
              "      <td>female : non-single or male : single</td>\n",
              "      <td>none</td>\n",
              "      <td>...</td>\n",
              "      <td>car or other</td>\n",
              "      <td>21</td>\n",
              "      <td>none</td>\n",
              "      <td>for free</td>\n",
              "      <td>1</td>\n",
              "      <td>skilled employee/official</td>\n",
              "      <td>0 to 2</td>\n",
              "      <td>0</td>\n",
              "      <td>0</td>\n",
              "      <td>1</td>\n",
              "    </tr>\n",
              "    <tr>\n",
              "      <th>1</th>\n",
              "      <td>no checking account</td>\n",
              "      <td>9</td>\n",
              "      <td>all credits at this bank paid back duly</td>\n",
              "      <td>others</td>\n",
              "      <td>2799</td>\n",
              "      <td>unknown/no savings account</td>\n",
              "      <td>1 &lt;= ... &lt; 4 yrs</td>\n",
              "      <td>25 &lt;= ... &lt; 35</td>\n",
              "      <td>male : married/widowed</td>\n",
              "      <td>none</td>\n",
              "      <td>...</td>\n",
              "      <td>unknown / no property</td>\n",
              "      <td>36</td>\n",
              "      <td>none</td>\n",
              "      <td>for free</td>\n",
              "      <td>2-3</td>\n",
              "      <td>skilled employee/official</td>\n",
              "      <td>3 or more</td>\n",
              "      <td>0</td>\n",
              "      <td>0</td>\n",
              "      <td>1</td>\n",
              "    </tr>\n",
              "    <tr>\n",
              "      <th>2</th>\n",
              "      <td>... &lt; 0 DM</td>\n",
              "      <td>12</td>\n",
              "      <td>no credits taken/all credits paid back duly</td>\n",
              "      <td>retraining</td>\n",
              "      <td>841</td>\n",
              "      <td>... &lt;  100 DM</td>\n",
              "      <td>4 &lt;= ... &lt; 7 yrs</td>\n",
              "      <td>25 &lt;= ... &lt; 35</td>\n",
              "      <td>female : non-single or male : single</td>\n",
              "      <td>none</td>\n",
              "      <td>...</td>\n",
              "      <td>unknown / no property</td>\n",
              "      <td>23</td>\n",
              "      <td>none</td>\n",
              "      <td>for free</td>\n",
              "      <td>1</td>\n",
              "      <td>unskilled - resident</td>\n",
              "      <td>0 to 2</td>\n",
              "      <td>0</td>\n",
              "      <td>0</td>\n",
              "      <td>1</td>\n",
              "    </tr>\n",
              "    <tr>\n",
              "      <th>3</th>\n",
              "      <td>no checking account</td>\n",
              "      <td>12</td>\n",
              "      <td>all credits at this bank paid back duly</td>\n",
              "      <td>others</td>\n",
              "      <td>2122</td>\n",
              "      <td>unknown/no savings account</td>\n",
              "      <td>1 &lt;= ... &lt; 4 yrs</td>\n",
              "      <td>20 &lt;= ... &lt; 25</td>\n",
              "      <td>male : married/widowed</td>\n",
              "      <td>none</td>\n",
              "      <td>...</td>\n",
              "      <td>unknown / no property</td>\n",
              "      <td>39</td>\n",
              "      <td>none</td>\n",
              "      <td>for free</td>\n",
              "      <td>2-3</td>\n",
              "      <td>unskilled - resident</td>\n",
              "      <td>3 or more</td>\n",
              "      <td>1</td>\n",
              "      <td>0</td>\n",
              "      <td>1</td>\n",
              "    </tr>\n",
              "    <tr>\n",
              "      <th>4</th>\n",
              "      <td>no checking account</td>\n",
              "      <td>12</td>\n",
              "      <td>all credits at this bank paid back duly</td>\n",
              "      <td>others</td>\n",
              "      <td>2171</td>\n",
              "      <td>unknown/no savings account</td>\n",
              "      <td>1 &lt;= ... &lt; 4 yrs</td>\n",
              "      <td>&lt; 20</td>\n",
              "      <td>male : married/widowed</td>\n",
              "      <td>none</td>\n",
              "      <td>...</td>\n",
              "      <td>car or other</td>\n",
              "      <td>38</td>\n",
              "      <td>bank</td>\n",
              "      <td>rent</td>\n",
              "      <td>2-3</td>\n",
              "      <td>unskilled - resident</td>\n",
              "      <td>0 to 2</td>\n",
              "      <td>1</td>\n",
              "      <td>0</td>\n",
              "      <td>1</td>\n",
              "    </tr>\n",
              "  </tbody>\n",
              "</table>\n",
              "<p>5 rows × 21 columns</p>\n",
              "</div>\n",
              "      <button class=\"colab-df-convert\" onclick=\"convertToInteractive('df-2131092f-7c50-400c-a34f-4aed02651a78')\"\n",
              "              title=\"Convert this dataframe to an interactive table.\"\n",
              "              style=\"display:none;\">\n",
              "        \n",
              "  <svg xmlns=\"http://www.w3.org/2000/svg\" height=\"24px\"viewBox=\"0 0 24 24\"\n",
              "       width=\"24px\">\n",
              "    <path d=\"M0 0h24v24H0V0z\" fill=\"none\"/>\n",
              "    <path d=\"M18.56 5.44l.94 2.06.94-2.06 2.06-.94-2.06-.94-.94-2.06-.94 2.06-2.06.94zm-11 1L8.5 8.5l.94-2.06 2.06-.94-2.06-.94L8.5 2.5l-.94 2.06-2.06.94zm10 10l.94 2.06.94-2.06 2.06-.94-2.06-.94-.94-2.06-.94 2.06-2.06.94z\"/><path d=\"M17.41 7.96l-1.37-1.37c-.4-.4-.92-.59-1.43-.59-.52 0-1.04.2-1.43.59L10.3 9.45l-7.72 7.72c-.78.78-.78 2.05 0 2.83L4 21.41c.39.39.9.59 1.41.59.51 0 1.02-.2 1.41-.59l7.78-7.78 2.81-2.81c.8-.78.8-2.07 0-2.86zM5.41 20L4 18.59l7.72-7.72 1.47 1.35L5.41 20z\"/>\n",
              "  </svg>\n",
              "      </button>\n",
              "      \n",
              "  <style>\n",
              "    .colab-df-container {\n",
              "      display:flex;\n",
              "      flex-wrap:wrap;\n",
              "      gap: 12px;\n",
              "    }\n",
              "\n",
              "    .colab-df-convert {\n",
              "      background-color: #E8F0FE;\n",
              "      border: none;\n",
              "      border-radius: 50%;\n",
              "      cursor: pointer;\n",
              "      display: none;\n",
              "      fill: #1967D2;\n",
              "      height: 32px;\n",
              "      padding: 0 0 0 0;\n",
              "      width: 32px;\n",
              "    }\n",
              "\n",
              "    .colab-df-convert:hover {\n",
              "      background-color: #E2EBFA;\n",
              "      box-shadow: 0px 1px 2px rgba(60, 64, 67, 0.3), 0px 1px 3px 1px rgba(60, 64, 67, 0.15);\n",
              "      fill: #174EA6;\n",
              "    }\n",
              "\n",
              "    [theme=dark] .colab-df-convert {\n",
              "      background-color: #3B4455;\n",
              "      fill: #D2E3FC;\n",
              "    }\n",
              "\n",
              "    [theme=dark] .colab-df-convert:hover {\n",
              "      background-color: #434B5C;\n",
              "      box-shadow: 0px 1px 3px 1px rgba(0, 0, 0, 0.15);\n",
              "      filter: drop-shadow(0px 1px 2px rgba(0, 0, 0, 0.3));\n",
              "      fill: #FFFFFF;\n",
              "    }\n",
              "  </style>\n",
              "\n",
              "      <script>\n",
              "        const buttonEl =\n",
              "          document.querySelector('#df-2131092f-7c50-400c-a34f-4aed02651a78 button.colab-df-convert');\n",
              "        buttonEl.style.display =\n",
              "          google.colab.kernel.accessAllowed ? 'block' : 'none';\n",
              "\n",
              "        async function convertToInteractive(key) {\n",
              "          const element = document.querySelector('#df-2131092f-7c50-400c-a34f-4aed02651a78');\n",
              "          const dataTable =\n",
              "            await google.colab.kernel.invokeFunction('convertToInteractive',\n",
              "                                                     [key], {});\n",
              "          if (!dataTable) return;\n",
              "\n",
              "          const docLinkHtml = 'Like what you see? Visit the ' +\n",
              "            '<a target=\"_blank\" href=https://colab.research.google.com/notebooks/data_table.ipynb>data table notebook</a>'\n",
              "            + ' to learn more about interactive tables.';\n",
              "          element.innerHTML = '';\n",
              "          dataTable['output_type'] = 'display_data';\n",
              "          await google.colab.output.renderOutput(dataTable, element);\n",
              "          const docLink = document.createElement('div');\n",
              "          docLink.innerHTML = docLinkHtml;\n",
              "          element.appendChild(docLink);\n",
              "        }\n",
              "      </script>\n",
              "    </div>\n",
              "  </div>\n",
              "  "
            ]
          },
          "metadata": {},
          "execution_count": 68
        }
      ]
    },
    {
      "cell_type": "code",
      "source": [
        "# replacing values in the columns with ordinal data:\n",
        "from sklearn.preprocessing import OrdinalEncoder\n",
        "\n",
        "# specifying the columns with ordinal data:\n",
        "ordinal_columns = data[['status', 'savings', 'employment_duration', 'installment_rate', 'present_residence', 'number_credits', 'people_liable']]\n",
        "\n",
        "# creating an instance of OrdinalEncoder and fitting it to the ordinal data (that I manually selected previously)\n",
        "encoder = OrdinalEncoder()\n",
        "encoder.fit(ordinal_columns)\n",
        "\n",
        "# transforming the ordinal data using the encoder\n",
        "encoded_data = encoder.transform(ordinal_columns)\n",
        "\n",
        "# creating a new data frame with the encoded data and the non-ordinal columns\n",
        "data = pd.concat([data.drop(columns=ordinal_columns.columns), pd.DataFrame(encoded_data, columns=ordinal_columns.columns)], axis=1)\n",
        "\n",
        "data.head()"
      ],
      "metadata": {
        "colab": {
          "base_uri": "https://localhost:8080/",
          "height": 525
        },
        "id": "PUQdJhngsZ-E",
        "outputId": "dae856de-843d-405a-e01c-461f7dcad593"
      },
      "execution_count": 69,
      "outputs": [
        {
          "output_type": "execute_result",
          "data": {
            "text/plain": [
              "   duration                               credit_history     purpose  amount  \\\n",
              "0        18      all credits at this bank paid back duly  car (used)    1049   \n",
              "1         9      all credits at this bank paid back duly      others    2799   \n",
              "2        12  no credits taken/all credits paid back duly  retraining     841   \n",
              "3        12      all credits at this bank paid back duly      others    2122   \n",
              "4        12      all credits at this bank paid back duly      others    2171   \n",
              "\n",
              "                    personal_status_sex other_debtors               property  \\\n",
              "0  female : non-single or male : single          none           car or other   \n",
              "1                male : married/widowed          none  unknown / no property   \n",
              "2  female : non-single or male : single          none  unknown / no property   \n",
              "3                male : married/widowed          none  unknown / no property   \n",
              "4                male : married/widowed          none           car or other   \n",
              "\n",
              "   age other_installment_plans   housing  ... foreign_worker_yes  \\\n",
              "0   21                    none  for free  ...                  0   \n",
              "1   36                    none  for free  ...                  0   \n",
              "2   23                    none  for free  ...                  0   \n",
              "3   39                    none  for free  ...                  1   \n",
              "4   38                    bank      rent  ...                  1   \n",
              "\n",
              "   telephone_yes (under customer name)  credit_risk_good  status  savings  \\\n",
              "0                                    0                 1     3.0      4.0   \n",
              "1                                    0                 1     3.0      4.0   \n",
              "2                                    0                 1     0.0      0.0   \n",
              "3                                    0                 1     3.0      4.0   \n",
              "4                                    0                 1     3.0      4.0   \n",
              "\n",
              "   employment_duration  installment_rate  present_residence  number_credits  \\\n",
              "0                  2.0               2.0                3.0             0.0   \n",
              "1                  0.0               1.0                0.0             1.0   \n",
              "2                  1.0               1.0                3.0             0.0   \n",
              "3                  0.0               0.0                0.0             1.0   \n",
              "4                  0.0               2.0                3.0             1.0   \n",
              "\n",
              "   people_liable  \n",
              "0            0.0  \n",
              "1            1.0  \n",
              "2            0.0  \n",
              "3            1.0  \n",
              "4            0.0  \n",
              "\n",
              "[5 rows x 21 columns]"
            ],
            "text/html": [
              "\n",
              "  <div id=\"df-dc410758-4ac3-4992-9bec-745d58ee44a8\">\n",
              "    <div class=\"colab-df-container\">\n",
              "      <div>\n",
              "<style scoped>\n",
              "    .dataframe tbody tr th:only-of-type {\n",
              "        vertical-align: middle;\n",
              "    }\n",
              "\n",
              "    .dataframe tbody tr th {\n",
              "        vertical-align: top;\n",
              "    }\n",
              "\n",
              "    .dataframe thead th {\n",
              "        text-align: right;\n",
              "    }\n",
              "</style>\n",
              "<table border=\"1\" class=\"dataframe\">\n",
              "  <thead>\n",
              "    <tr style=\"text-align: right;\">\n",
              "      <th></th>\n",
              "      <th>duration</th>\n",
              "      <th>credit_history</th>\n",
              "      <th>purpose</th>\n",
              "      <th>amount</th>\n",
              "      <th>personal_status_sex</th>\n",
              "      <th>other_debtors</th>\n",
              "      <th>property</th>\n",
              "      <th>age</th>\n",
              "      <th>other_installment_plans</th>\n",
              "      <th>housing</th>\n",
              "      <th>...</th>\n",
              "      <th>foreign_worker_yes</th>\n",
              "      <th>telephone_yes (under customer name)</th>\n",
              "      <th>credit_risk_good</th>\n",
              "      <th>status</th>\n",
              "      <th>savings</th>\n",
              "      <th>employment_duration</th>\n",
              "      <th>installment_rate</th>\n",
              "      <th>present_residence</th>\n",
              "      <th>number_credits</th>\n",
              "      <th>people_liable</th>\n",
              "    </tr>\n",
              "  </thead>\n",
              "  <tbody>\n",
              "    <tr>\n",
              "      <th>0</th>\n",
              "      <td>18</td>\n",
              "      <td>all credits at this bank paid back duly</td>\n",
              "      <td>car (used)</td>\n",
              "      <td>1049</td>\n",
              "      <td>female : non-single or male : single</td>\n",
              "      <td>none</td>\n",
              "      <td>car or other</td>\n",
              "      <td>21</td>\n",
              "      <td>none</td>\n",
              "      <td>for free</td>\n",
              "      <td>...</td>\n",
              "      <td>0</td>\n",
              "      <td>0</td>\n",
              "      <td>1</td>\n",
              "      <td>3.0</td>\n",
              "      <td>4.0</td>\n",
              "      <td>2.0</td>\n",
              "      <td>2.0</td>\n",
              "      <td>3.0</td>\n",
              "      <td>0.0</td>\n",
              "      <td>0.0</td>\n",
              "    </tr>\n",
              "    <tr>\n",
              "      <th>1</th>\n",
              "      <td>9</td>\n",
              "      <td>all credits at this bank paid back duly</td>\n",
              "      <td>others</td>\n",
              "      <td>2799</td>\n",
              "      <td>male : married/widowed</td>\n",
              "      <td>none</td>\n",
              "      <td>unknown / no property</td>\n",
              "      <td>36</td>\n",
              "      <td>none</td>\n",
              "      <td>for free</td>\n",
              "      <td>...</td>\n",
              "      <td>0</td>\n",
              "      <td>0</td>\n",
              "      <td>1</td>\n",
              "      <td>3.0</td>\n",
              "      <td>4.0</td>\n",
              "      <td>0.0</td>\n",
              "      <td>1.0</td>\n",
              "      <td>0.0</td>\n",
              "      <td>1.0</td>\n",
              "      <td>1.0</td>\n",
              "    </tr>\n",
              "    <tr>\n",
              "      <th>2</th>\n",
              "      <td>12</td>\n",
              "      <td>no credits taken/all credits paid back duly</td>\n",
              "      <td>retraining</td>\n",
              "      <td>841</td>\n",
              "      <td>female : non-single or male : single</td>\n",
              "      <td>none</td>\n",
              "      <td>unknown / no property</td>\n",
              "      <td>23</td>\n",
              "      <td>none</td>\n",
              "      <td>for free</td>\n",
              "      <td>...</td>\n",
              "      <td>0</td>\n",
              "      <td>0</td>\n",
              "      <td>1</td>\n",
              "      <td>0.0</td>\n",
              "      <td>0.0</td>\n",
              "      <td>1.0</td>\n",
              "      <td>1.0</td>\n",
              "      <td>3.0</td>\n",
              "      <td>0.0</td>\n",
              "      <td>0.0</td>\n",
              "    </tr>\n",
              "    <tr>\n",
              "      <th>3</th>\n",
              "      <td>12</td>\n",
              "      <td>all credits at this bank paid back duly</td>\n",
              "      <td>others</td>\n",
              "      <td>2122</td>\n",
              "      <td>male : married/widowed</td>\n",
              "      <td>none</td>\n",
              "      <td>unknown / no property</td>\n",
              "      <td>39</td>\n",
              "      <td>none</td>\n",
              "      <td>for free</td>\n",
              "      <td>...</td>\n",
              "      <td>1</td>\n",
              "      <td>0</td>\n",
              "      <td>1</td>\n",
              "      <td>3.0</td>\n",
              "      <td>4.0</td>\n",
              "      <td>0.0</td>\n",
              "      <td>0.0</td>\n",
              "      <td>0.0</td>\n",
              "      <td>1.0</td>\n",
              "      <td>1.0</td>\n",
              "    </tr>\n",
              "    <tr>\n",
              "      <th>4</th>\n",
              "      <td>12</td>\n",
              "      <td>all credits at this bank paid back duly</td>\n",
              "      <td>others</td>\n",
              "      <td>2171</td>\n",
              "      <td>male : married/widowed</td>\n",
              "      <td>none</td>\n",
              "      <td>car or other</td>\n",
              "      <td>38</td>\n",
              "      <td>bank</td>\n",
              "      <td>rent</td>\n",
              "      <td>...</td>\n",
              "      <td>1</td>\n",
              "      <td>0</td>\n",
              "      <td>1</td>\n",
              "      <td>3.0</td>\n",
              "      <td>4.0</td>\n",
              "      <td>0.0</td>\n",
              "      <td>2.0</td>\n",
              "      <td>3.0</td>\n",
              "      <td>1.0</td>\n",
              "      <td>0.0</td>\n",
              "    </tr>\n",
              "  </tbody>\n",
              "</table>\n",
              "<p>5 rows × 21 columns</p>\n",
              "</div>\n",
              "      <button class=\"colab-df-convert\" onclick=\"convertToInteractive('df-dc410758-4ac3-4992-9bec-745d58ee44a8')\"\n",
              "              title=\"Convert this dataframe to an interactive table.\"\n",
              "              style=\"display:none;\">\n",
              "        \n",
              "  <svg xmlns=\"http://www.w3.org/2000/svg\" height=\"24px\"viewBox=\"0 0 24 24\"\n",
              "       width=\"24px\">\n",
              "    <path d=\"M0 0h24v24H0V0z\" fill=\"none\"/>\n",
              "    <path d=\"M18.56 5.44l.94 2.06.94-2.06 2.06-.94-2.06-.94-.94-2.06-.94 2.06-2.06.94zm-11 1L8.5 8.5l.94-2.06 2.06-.94-2.06-.94L8.5 2.5l-.94 2.06-2.06.94zm10 10l.94 2.06.94-2.06 2.06-.94-2.06-.94-.94-2.06-.94 2.06-2.06.94z\"/><path d=\"M17.41 7.96l-1.37-1.37c-.4-.4-.92-.59-1.43-.59-.52 0-1.04.2-1.43.59L10.3 9.45l-7.72 7.72c-.78.78-.78 2.05 0 2.83L4 21.41c.39.39.9.59 1.41.59.51 0 1.02-.2 1.41-.59l7.78-7.78 2.81-2.81c.8-.78.8-2.07 0-2.86zM5.41 20L4 18.59l7.72-7.72 1.47 1.35L5.41 20z\"/>\n",
              "  </svg>\n",
              "      </button>\n",
              "      \n",
              "  <style>\n",
              "    .colab-df-container {\n",
              "      display:flex;\n",
              "      flex-wrap:wrap;\n",
              "      gap: 12px;\n",
              "    }\n",
              "\n",
              "    .colab-df-convert {\n",
              "      background-color: #E8F0FE;\n",
              "      border: none;\n",
              "      border-radius: 50%;\n",
              "      cursor: pointer;\n",
              "      display: none;\n",
              "      fill: #1967D2;\n",
              "      height: 32px;\n",
              "      padding: 0 0 0 0;\n",
              "      width: 32px;\n",
              "    }\n",
              "\n",
              "    .colab-df-convert:hover {\n",
              "      background-color: #E2EBFA;\n",
              "      box-shadow: 0px 1px 2px rgba(60, 64, 67, 0.3), 0px 1px 3px 1px rgba(60, 64, 67, 0.15);\n",
              "      fill: #174EA6;\n",
              "    }\n",
              "\n",
              "    [theme=dark] .colab-df-convert {\n",
              "      background-color: #3B4455;\n",
              "      fill: #D2E3FC;\n",
              "    }\n",
              "\n",
              "    [theme=dark] .colab-df-convert:hover {\n",
              "      background-color: #434B5C;\n",
              "      box-shadow: 0px 1px 3px 1px rgba(0, 0, 0, 0.15);\n",
              "      filter: drop-shadow(0px 1px 2px rgba(0, 0, 0, 0.3));\n",
              "      fill: #FFFFFF;\n",
              "    }\n",
              "  </style>\n",
              "\n",
              "      <script>\n",
              "        const buttonEl =\n",
              "          document.querySelector('#df-dc410758-4ac3-4992-9bec-745d58ee44a8 button.colab-df-convert');\n",
              "        buttonEl.style.display =\n",
              "          google.colab.kernel.accessAllowed ? 'block' : 'none';\n",
              "\n",
              "        async function convertToInteractive(key) {\n",
              "          const element = document.querySelector('#df-dc410758-4ac3-4992-9bec-745d58ee44a8');\n",
              "          const dataTable =\n",
              "            await google.colab.kernel.invokeFunction('convertToInteractive',\n",
              "                                                     [key], {});\n",
              "          if (!dataTable) return;\n",
              "\n",
              "          const docLinkHtml = 'Like what you see? Visit the ' +\n",
              "            '<a target=\"_blank\" href=https://colab.research.google.com/notebooks/data_table.ipynb>data table notebook</a>'\n",
              "            + ' to learn more about interactive tables.';\n",
              "          element.innerHTML = '';\n",
              "          dataTable['output_type'] = 'display_data';\n",
              "          await google.colab.output.renderOutput(dataTable, element);\n",
              "          const docLink = document.createElement('div');\n",
              "          docLink.innerHTML = docLinkHtml;\n",
              "          element.appendChild(docLink);\n",
              "        }\n",
              "      </script>\n",
              "    </div>\n",
              "  </div>\n",
              "  "
            ]
          },
          "metadata": {},
          "execution_count": 69
        }
      ]
    },
    {
      "cell_type": "code",
      "execution_count": 70,
      "metadata": {
        "id": "81_7p_bEYjuw",
        "colab": {
          "base_uri": "https://localhost:8080/"
        },
        "outputId": "aa0d9201-3af9-4f84-9d0b-d8ef608278ce"
      },
      "outputs": [
        {
          "output_type": "stream",
          "name": "stdout",
          "text": [
            "['duration', 'amount', 'age', 'foreign_worker_yes', 'telephone_yes (under customer name)', 'credit_risk_good', 'status', 'savings', 'employment_duration', 'installment_rate', 'present_residence', 'number_credits', 'people_liable']\n"
          ]
        }
      ],
      "source": [
        "# removing all the columns with categorical data \n",
        "\n",
        "data = data.drop(columns = ['credit_history', 'purpose', 'personal_status_sex', 'other_debtors', 'property', 'other_installment_plans', 'housing', 'job'])\n",
        "\n",
        "print(data.columns.tolist()) #  showing that the categorical data was, indeed, removed"
      ]
    },
    {
      "cell_type": "markdown",
      "metadata": {
        "id": "Iz7VTiFpu8lo"
      },
      "source": [
        "### Задание 14  (2 балла)"
      ]
    },
    {
      "cell_type": "markdown",
      "metadata": {
        "id": "Mv52wusiu8lo"
      },
      "source": [
        "По результатам предыдущего задания у вас должна получиться таблица, в которой все признаки так или иначе представлены числовыми значениями. Попробуйте придумать на основе проведённых исследований данных какую-нибудь формулу, связывающую целевую переменную с признаками, не используя готовых инструментов машинного обучения. По желанию вы можете исключить ещё какие-то признаки, или, наоборот, сформировать новые на основе имеющихся. Возможно, вы захотите отмасштабировать большие наборы численных значений некоторых признаков с помощью интервалов. Цель: реализовать функцию, которая будет принимать на вход набор признаков для объекта выборки и возвращать прогноз целевой переменной (0 или 1). Например, вы можете просто сложить все признаки и возращать ноль, если сумма отрицательная, а в противном случае единицу. Но наверняка можно придумать лучше!\n",
        "Данные уже разделены на набор для обучения, который вы можете использовать как угодно, и тестовый, на котором нужно будет проверить вашу точность. Постарайтесь достичь точности хотя бы 0.6."
      ]
    },
    {
      "cell_type": "code",
      "source": [
        "from sklearn.preprocessing import LabelEncoder\n",
        "\n",
        "# rescale the features using intervals so that overfitting (переобучение) doesn't take place:\n",
        "label = LabelEncoder()\n",
        "data[\"AmountBin_Code\"] = label.fit_transform(pd.cut(data[\"amount\"].astype(int), 6))\n",
        "data[\"DurationBin_Code\"] = label.fit_transform(pd.cut(data[\"duration\"].astype(int), 4))\n",
        "data[\"AgeBin_Code\"] = label.fit_transform(pd.cut(data[\"age\"].astype(int), 5))\n",
        "\n",
        "# deleting these columns, including 'teleplone' and 'foreign worker' (because it does not really affect the target variable)\n",
        "data.drop(columns=['duration', 'amount', 'age', 'telephone_yes (under customer name)', 'foreign_worker_yes'], axis=1, inplace=True) \n",
        "\n",
        "data.head(3)"
      ],
      "metadata": {
        "colab": {
          "base_uri": "https://localhost:8080/",
          "height": 143
        },
        "id": "LYQbkLZsJ7-j",
        "outputId": "cac84579-3ca9-4af1-cfab-ffb8382ec21a"
      },
      "execution_count": 73,
      "outputs": [
        {
          "output_type": "execute_result",
          "data": {
            "text/plain": [
              "   credit_risk_good  status  savings  employment_duration  installment_rate  \\\n",
              "0                 1     3.0      4.0                  2.0               2.0   \n",
              "1                 1     3.0      4.0                  0.0               1.0   \n",
              "2                 1     0.0      0.0                  1.0               1.0   \n",
              "\n",
              "   present_residence  number_credits  people_liable  AmountBin_Code  \\\n",
              "0                3.0             0.0            0.0               0   \n",
              "1                0.0             1.0            1.0               0   \n",
              "2                3.0             0.0            0.0               0   \n",
              "\n",
              "   DurationBin_Code  AgeBin_Code  \n",
              "0                 0            0  \n",
              "1                 0            1  \n",
              "2                 0            0  "
            ],
            "text/html": [
              "\n",
              "  <div id=\"df-011981f6-5c6b-42bc-aa00-1f8f0fca9790\">\n",
              "    <div class=\"colab-df-container\">\n",
              "      <div>\n",
              "<style scoped>\n",
              "    .dataframe tbody tr th:only-of-type {\n",
              "        vertical-align: middle;\n",
              "    }\n",
              "\n",
              "    .dataframe tbody tr th {\n",
              "        vertical-align: top;\n",
              "    }\n",
              "\n",
              "    .dataframe thead th {\n",
              "        text-align: right;\n",
              "    }\n",
              "</style>\n",
              "<table border=\"1\" class=\"dataframe\">\n",
              "  <thead>\n",
              "    <tr style=\"text-align: right;\">\n",
              "      <th></th>\n",
              "      <th>credit_risk_good</th>\n",
              "      <th>status</th>\n",
              "      <th>savings</th>\n",
              "      <th>employment_duration</th>\n",
              "      <th>installment_rate</th>\n",
              "      <th>present_residence</th>\n",
              "      <th>number_credits</th>\n",
              "      <th>people_liable</th>\n",
              "      <th>AmountBin_Code</th>\n",
              "      <th>DurationBin_Code</th>\n",
              "      <th>AgeBin_Code</th>\n",
              "    </tr>\n",
              "  </thead>\n",
              "  <tbody>\n",
              "    <tr>\n",
              "      <th>0</th>\n",
              "      <td>1</td>\n",
              "      <td>3.0</td>\n",
              "      <td>4.0</td>\n",
              "      <td>2.0</td>\n",
              "      <td>2.0</td>\n",
              "      <td>3.0</td>\n",
              "      <td>0.0</td>\n",
              "      <td>0.0</td>\n",
              "      <td>0</td>\n",
              "      <td>0</td>\n",
              "      <td>0</td>\n",
              "    </tr>\n",
              "    <tr>\n",
              "      <th>1</th>\n",
              "      <td>1</td>\n",
              "      <td>3.0</td>\n",
              "      <td>4.0</td>\n",
              "      <td>0.0</td>\n",
              "      <td>1.0</td>\n",
              "      <td>0.0</td>\n",
              "      <td>1.0</td>\n",
              "      <td>1.0</td>\n",
              "      <td>0</td>\n",
              "      <td>0</td>\n",
              "      <td>1</td>\n",
              "    </tr>\n",
              "    <tr>\n",
              "      <th>2</th>\n",
              "      <td>1</td>\n",
              "      <td>0.0</td>\n",
              "      <td>0.0</td>\n",
              "      <td>1.0</td>\n",
              "      <td>1.0</td>\n",
              "      <td>3.0</td>\n",
              "      <td>0.0</td>\n",
              "      <td>0.0</td>\n",
              "      <td>0</td>\n",
              "      <td>0</td>\n",
              "      <td>0</td>\n",
              "    </tr>\n",
              "  </tbody>\n",
              "</table>\n",
              "</div>\n",
              "      <button class=\"colab-df-convert\" onclick=\"convertToInteractive('df-011981f6-5c6b-42bc-aa00-1f8f0fca9790')\"\n",
              "              title=\"Convert this dataframe to an interactive table.\"\n",
              "              style=\"display:none;\">\n",
              "        \n",
              "  <svg xmlns=\"http://www.w3.org/2000/svg\" height=\"24px\"viewBox=\"0 0 24 24\"\n",
              "       width=\"24px\">\n",
              "    <path d=\"M0 0h24v24H0V0z\" fill=\"none\"/>\n",
              "    <path d=\"M18.56 5.44l.94 2.06.94-2.06 2.06-.94-2.06-.94-.94-2.06-.94 2.06-2.06.94zm-11 1L8.5 8.5l.94-2.06 2.06-.94-2.06-.94L8.5 2.5l-.94 2.06-2.06.94zm10 10l.94 2.06.94-2.06 2.06-.94-2.06-.94-.94-2.06-.94 2.06-2.06.94z\"/><path d=\"M17.41 7.96l-1.37-1.37c-.4-.4-.92-.59-1.43-.59-.52 0-1.04.2-1.43.59L10.3 9.45l-7.72 7.72c-.78.78-.78 2.05 0 2.83L4 21.41c.39.39.9.59 1.41.59.51 0 1.02-.2 1.41-.59l7.78-7.78 2.81-2.81c.8-.78.8-2.07 0-2.86zM5.41 20L4 18.59l7.72-7.72 1.47 1.35L5.41 20z\"/>\n",
              "  </svg>\n",
              "      </button>\n",
              "      \n",
              "  <style>\n",
              "    .colab-df-container {\n",
              "      display:flex;\n",
              "      flex-wrap:wrap;\n",
              "      gap: 12px;\n",
              "    }\n",
              "\n",
              "    .colab-df-convert {\n",
              "      background-color: #E8F0FE;\n",
              "      border: none;\n",
              "      border-radius: 50%;\n",
              "      cursor: pointer;\n",
              "      display: none;\n",
              "      fill: #1967D2;\n",
              "      height: 32px;\n",
              "      padding: 0 0 0 0;\n",
              "      width: 32px;\n",
              "    }\n",
              "\n",
              "    .colab-df-convert:hover {\n",
              "      background-color: #E2EBFA;\n",
              "      box-shadow: 0px 1px 2px rgba(60, 64, 67, 0.3), 0px 1px 3px 1px rgba(60, 64, 67, 0.15);\n",
              "      fill: #174EA6;\n",
              "    }\n",
              "\n",
              "    [theme=dark] .colab-df-convert {\n",
              "      background-color: #3B4455;\n",
              "      fill: #D2E3FC;\n",
              "    }\n",
              "\n",
              "    [theme=dark] .colab-df-convert:hover {\n",
              "      background-color: #434B5C;\n",
              "      box-shadow: 0px 1px 3px 1px rgba(0, 0, 0, 0.15);\n",
              "      filter: drop-shadow(0px 1px 2px rgba(0, 0, 0, 0.3));\n",
              "      fill: #FFFFFF;\n",
              "    }\n",
              "  </style>\n",
              "\n",
              "      <script>\n",
              "        const buttonEl =\n",
              "          document.querySelector('#df-011981f6-5c6b-42bc-aa00-1f8f0fca9790 button.colab-df-convert');\n",
              "        buttonEl.style.display =\n",
              "          google.colab.kernel.accessAllowed ? 'block' : 'none';\n",
              "\n",
              "        async function convertToInteractive(key) {\n",
              "          const element = document.querySelector('#df-011981f6-5c6b-42bc-aa00-1f8f0fca9790');\n",
              "          const dataTable =\n",
              "            await google.colab.kernel.invokeFunction('convertToInteractive',\n",
              "                                                     [key], {});\n",
              "          if (!dataTable) return;\n",
              "\n",
              "          const docLinkHtml = 'Like what you see? Visit the ' +\n",
              "            '<a target=\"_blank\" href=https://colab.research.google.com/notebooks/data_table.ipynb>data table notebook</a>'\n",
              "            + ' to learn more about interactive tables.';\n",
              "          element.innerHTML = '';\n",
              "          dataTable['output_type'] = 'display_data';\n",
              "          await google.colab.output.renderOutput(dataTable, element);\n",
              "          const docLink = document.createElement('div');\n",
              "          docLink.innerHTML = docLinkHtml;\n",
              "          element.appendChild(docLink);\n",
              "        }\n",
              "      </script>\n",
              "    </div>\n",
              "  </div>\n",
              "  "
            ]
          },
          "metadata": {},
          "execution_count": 73
        }
      ]
    },
    {
      "cell_type": "code",
      "execution_count": 87,
      "metadata": {
        "id": "V8vjz88qu8lo",
        "colab": {
          "base_uri": "https://localhost:8080/"
        },
        "outputId": "a538a36a-84be-4c8e-a760-4ee56fa82963"
      },
      "outputs": [
        {
          "output_type": "stream",
          "name": "stderr",
          "text": [
            "<ipython-input-87-6c0435a13dd7>:18: FutureWarning: In a future version of pandas all arguments of DataFrame.drop except for the argument 'labels' will be keyword-only\n",
            "  X = data.drop('credit_risk_good', 1).values\n"
          ]
        },
        {
          "output_type": "execute_result",
          "data": {
            "text/plain": [
              "0.656"
            ]
          },
          "metadata": {},
          "execution_count": 87
        }
      ],
      "source": [
        "def predict(Xtest: np.array) -> np.array:\n",
        "    predictions = []\n",
        "  \n",
        "    for row in Xtest: # the algorithm will first calculate the sum of all the values in each row\n",
        "      overall_sum = sum(row)\n",
        "\n",
        "      if overall_sum == 0:\n",
        "        predictions.append(0)\n",
        "\n",
        "      else:\n",
        "        predictions.append(1)\n",
        "\n",
        "    return np.array(predictions)\n",
        "\n",
        "\n",
        "from sklearn.model_selection import train_test_split\n",
        "from sklearn.metrics import accuracy_score\n",
        "X = data.drop('credit_risk_good', 1).values\n",
        "y = data['credit_risk_good'].values\n",
        "X_train, X_test, y_train, y_test = train_test_split(X, y, test_size=0.25, random_state=10)\n",
        "\n",
        "\n",
        "\n",
        "accuracy_score(y_test, predict(X_test))"
      ]
    }
  ],
  "metadata": {
    "colab": {
      "provenance": [],
      "include_colab_link": true
    },
    "kernelspec": {
      "display_name": "Python 3 (ipykernel)",
      "language": "python",
      "name": "python3"
    },
    "language_info": {
      "codemirror_mode": {
        "name": "ipython",
        "version": 3
      },
      "file_extension": ".py",
      "mimetype": "text/x-python",
      "name": "python",
      "nbconvert_exporter": "python",
      "pygments_lexer": "ipython3",
      "version": "3.9.7"
    }
  },
  "nbformat": 4,
  "nbformat_minor": 0
}