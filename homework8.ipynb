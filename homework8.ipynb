{
  "cells": [
    {
      "cell_type": "markdown",
      "metadata": {
        "id": "view-in-github",
        "colab_type": "text"
      },
      "source": [
        "<a href=\"https://colab.research.google.com/github/lapshinaaa/homework_machineLearning/blob/main/homework8.ipynb\" target=\"_parent\"><img src=\"https://colab.research.google.com/assets/colab-badge.svg\" alt=\"Open In Colab\"/></a>"
      ]
    },
    {
      "cell_type": "markdown",
      "id": "047674ee",
      "metadata": {
        "id": "047674ee"
      },
      "source": [
        "# Домашняя работа"
      ]
    },
    {
      "cell_type": "markdown",
      "id": "d8461109",
      "metadata": {
        "id": "d8461109"
      },
      "source": [
        "В этой работы мы будем учиться предсказывать зарплату data scientist-ов в зависимочти от ряда факторов с помощью градиентоного бустинга"
      ]
    },
    {
      "cell_type": "markdown",
      "id": "7a2ab23d",
      "metadata": {
        "id": "7a2ab23d"
      },
      "source": [
        "Цель домашней работы научиться предсказывать зарплаты (salary_in_usd) по ряды факторов"
      ]
    },
    {
      "cell_type": "markdown",
      "id": "1651e8dd",
      "metadata": {
        "id": "1651e8dd"
      },
      "source": [
        "work_year: The number of years of work experience in the field of data science.\n",
        "\n",
        "experience_level: The level of experience, such as Junior, Senior, or Lead.\n",
        "\n",
        "employment_type: The type of employment, such as Full-time or Contract.\n",
        "\n",
        "job_title: The specific job title or role, such as Data Analyst or Data Scientist.\n",
        "\n",
        "salary: The salary amount for the given job.\n",
        "\n",
        "salary_currency: The currency in which the salary is denoted.\n",
        "\n",
        "salary_in_usd: The equivalent salary amount converted to US dollars (USD) for comparison purposes.\n",
        "\n",
        "employee_residence: The country or region where the employee resides.\n",
        "\n",
        "remote_ratio: The percentage of remote work offered in the job.\n",
        "\n",
        "company_location: The location of the company or organization.\n",
        "\n",
        "company_size: The company’s size is categorized as Small, Medium, or Large."
      ]
    },
    {
      "cell_type": "code",
      "execution_count": 1,
      "id": "dbf7595c",
      "metadata": {
        "id": "dbf7595c"
      },
      "outputs": [],
      "source": [
        "import pandas as pd"
      ]
    },
    {
      "cell_type": "code",
      "source": [
        "!wget https://github.com/hse-ds/iad-intro-ds/raw/master/2023/homeworks/hw-08-boosting/ds_salaries.csv"
      ],
      "metadata": {
        "id": "Yt5TtKksbctS",
        "outputId": "e0ae7b7e-78e6-4739-a9cd-f6a6ee539961",
        "colab": {
          "base_uri": "https://localhost:8080/"
        }
      },
      "id": "Yt5TtKksbctS",
      "execution_count": 2,
      "outputs": [
        {
          "output_type": "stream",
          "name": "stdout",
          "text": [
            "--2023-06-21 12:15:28--  https://github.com/hse-ds/iad-intro-ds/raw/master/2023/homeworks/hw-08-boosting/ds_salaries.csv\n",
            "Resolving github.com (github.com)... 140.82.114.3\n",
            "Connecting to github.com (github.com)|140.82.114.3|:443... connected.\n",
            "HTTP request sent, awaiting response... 302 Found\n",
            "Location: https://raw.githubusercontent.com/hse-ds/iad-intro-ds/master/2023/homeworks/hw-08-boosting/ds_salaries.csv [following]\n",
            "--2023-06-21 12:15:28--  https://raw.githubusercontent.com/hse-ds/iad-intro-ds/master/2023/homeworks/hw-08-boosting/ds_salaries.csv\n",
            "Resolving raw.githubusercontent.com (raw.githubusercontent.com)... 185.199.108.133, 185.199.109.133, 185.199.110.133, ...\n",
            "Connecting to raw.githubusercontent.com (raw.githubusercontent.com)|185.199.108.133|:443... connected.\n",
            "HTTP request sent, awaiting response... 200 OK\n",
            "Length: 210076 (205K) [text/plain]\n",
            "Saving to: ‘ds_salaries.csv’\n",
            "\n",
            "ds_salaries.csv     100%[===================>] 205.15K  --.-KB/s    in 0.04s   \n",
            "\n",
            "2023-06-21 12:15:28 (4.90 MB/s) - ‘ds_salaries.csv’ saved [210076/210076]\n",
            "\n"
          ]
        }
      ]
    },
    {
      "cell_type": "code",
      "execution_count": 3,
      "id": "792d14c9",
      "metadata": {
        "id": "792d14c9"
      },
      "outputs": [],
      "source": [
        "df = pd.read_csv(\"ds_salaries.csv\")"
      ]
    },
    {
      "cell_type": "code",
      "execution_count": 4,
      "id": "1758b0e0",
      "metadata": {
        "id": "1758b0e0",
        "outputId": "9a721ed7-6816-4e7d-e51b-bb92e9fdfe84",
        "colab": {
          "base_uri": "https://localhost:8080/",
          "height": 319
        }
      },
      "outputs": [
        {
          "output_type": "execute_result",
          "data": {
            "text/plain": [
              "   work_year experience_level employment_type                 job_title  \\\n",
              "0       2023               SE              FT  Principal Data Scientist   \n",
              "1       2023               MI              CT               ML Engineer   \n",
              "2       2023               MI              CT               ML Engineer   \n",
              "3       2023               SE              FT            Data Scientist   \n",
              "4       2023               SE              FT            Data Scientist   \n",
              "\n",
              "   salary salary_currency  salary_in_usd employee_residence  remote_ratio  \\\n",
              "0   80000             EUR          85847                 ES           100   \n",
              "1   30000             USD          30000                 US           100   \n",
              "2   25500             USD          25500                 US           100   \n",
              "3  175000             USD         175000                 CA           100   \n",
              "4  120000             USD         120000                 CA           100   \n",
              "\n",
              "  company_location company_size  \n",
              "0               ES            L  \n",
              "1               US            S  \n",
              "2               US            S  \n",
              "3               CA            M  \n",
              "4               CA            M  "
            ],
            "text/html": [
              "\n",
              "  <div id=\"df-0110b0a5-8e28-444f-ae50-ec9a9bfdc0a9\">\n",
              "    <div class=\"colab-df-container\">\n",
              "      <div>\n",
              "<style scoped>\n",
              "    .dataframe tbody tr th:only-of-type {\n",
              "        vertical-align: middle;\n",
              "    }\n",
              "\n",
              "    .dataframe tbody tr th {\n",
              "        vertical-align: top;\n",
              "    }\n",
              "\n",
              "    .dataframe thead th {\n",
              "        text-align: right;\n",
              "    }\n",
              "</style>\n",
              "<table border=\"1\" class=\"dataframe\">\n",
              "  <thead>\n",
              "    <tr style=\"text-align: right;\">\n",
              "      <th></th>\n",
              "      <th>work_year</th>\n",
              "      <th>experience_level</th>\n",
              "      <th>employment_type</th>\n",
              "      <th>job_title</th>\n",
              "      <th>salary</th>\n",
              "      <th>salary_currency</th>\n",
              "      <th>salary_in_usd</th>\n",
              "      <th>employee_residence</th>\n",
              "      <th>remote_ratio</th>\n",
              "      <th>company_location</th>\n",
              "      <th>company_size</th>\n",
              "    </tr>\n",
              "  </thead>\n",
              "  <tbody>\n",
              "    <tr>\n",
              "      <th>0</th>\n",
              "      <td>2023</td>\n",
              "      <td>SE</td>\n",
              "      <td>FT</td>\n",
              "      <td>Principal Data Scientist</td>\n",
              "      <td>80000</td>\n",
              "      <td>EUR</td>\n",
              "      <td>85847</td>\n",
              "      <td>ES</td>\n",
              "      <td>100</td>\n",
              "      <td>ES</td>\n",
              "      <td>L</td>\n",
              "    </tr>\n",
              "    <tr>\n",
              "      <th>1</th>\n",
              "      <td>2023</td>\n",
              "      <td>MI</td>\n",
              "      <td>CT</td>\n",
              "      <td>ML Engineer</td>\n",
              "      <td>30000</td>\n",
              "      <td>USD</td>\n",
              "      <td>30000</td>\n",
              "      <td>US</td>\n",
              "      <td>100</td>\n",
              "      <td>US</td>\n",
              "      <td>S</td>\n",
              "    </tr>\n",
              "    <tr>\n",
              "      <th>2</th>\n",
              "      <td>2023</td>\n",
              "      <td>MI</td>\n",
              "      <td>CT</td>\n",
              "      <td>ML Engineer</td>\n",
              "      <td>25500</td>\n",
              "      <td>USD</td>\n",
              "      <td>25500</td>\n",
              "      <td>US</td>\n",
              "      <td>100</td>\n",
              "      <td>US</td>\n",
              "      <td>S</td>\n",
              "    </tr>\n",
              "    <tr>\n",
              "      <th>3</th>\n",
              "      <td>2023</td>\n",
              "      <td>SE</td>\n",
              "      <td>FT</td>\n",
              "      <td>Data Scientist</td>\n",
              "      <td>175000</td>\n",
              "      <td>USD</td>\n",
              "      <td>175000</td>\n",
              "      <td>CA</td>\n",
              "      <td>100</td>\n",
              "      <td>CA</td>\n",
              "      <td>M</td>\n",
              "    </tr>\n",
              "    <tr>\n",
              "      <th>4</th>\n",
              "      <td>2023</td>\n",
              "      <td>SE</td>\n",
              "      <td>FT</td>\n",
              "      <td>Data Scientist</td>\n",
              "      <td>120000</td>\n",
              "      <td>USD</td>\n",
              "      <td>120000</td>\n",
              "      <td>CA</td>\n",
              "      <td>100</td>\n",
              "      <td>CA</td>\n",
              "      <td>M</td>\n",
              "    </tr>\n",
              "  </tbody>\n",
              "</table>\n",
              "</div>\n",
              "      <button class=\"colab-df-convert\" onclick=\"convertToInteractive('df-0110b0a5-8e28-444f-ae50-ec9a9bfdc0a9')\"\n",
              "              title=\"Convert this dataframe to an interactive table.\"\n",
              "              style=\"display:none;\">\n",
              "        \n",
              "  <svg xmlns=\"http://www.w3.org/2000/svg\" height=\"24px\"viewBox=\"0 0 24 24\"\n",
              "       width=\"24px\">\n",
              "    <path d=\"M0 0h24v24H0V0z\" fill=\"none\"/>\n",
              "    <path d=\"M18.56 5.44l.94 2.06.94-2.06 2.06-.94-2.06-.94-.94-2.06-.94 2.06-2.06.94zm-11 1L8.5 8.5l.94-2.06 2.06-.94-2.06-.94L8.5 2.5l-.94 2.06-2.06.94zm10 10l.94 2.06.94-2.06 2.06-.94-2.06-.94-.94-2.06-.94 2.06-2.06.94z\"/><path d=\"M17.41 7.96l-1.37-1.37c-.4-.4-.92-.59-1.43-.59-.52 0-1.04.2-1.43.59L10.3 9.45l-7.72 7.72c-.78.78-.78 2.05 0 2.83L4 21.41c.39.39.9.59 1.41.59.51 0 1.02-.2 1.41-.59l7.78-7.78 2.81-2.81c.8-.78.8-2.07 0-2.86zM5.41 20L4 18.59l7.72-7.72 1.47 1.35L5.41 20z\"/>\n",
              "  </svg>\n",
              "      </button>\n",
              "      \n",
              "  <style>\n",
              "    .colab-df-container {\n",
              "      display:flex;\n",
              "      flex-wrap:wrap;\n",
              "      gap: 12px;\n",
              "    }\n",
              "\n",
              "    .colab-df-convert {\n",
              "      background-color: #E8F0FE;\n",
              "      border: none;\n",
              "      border-radius: 50%;\n",
              "      cursor: pointer;\n",
              "      display: none;\n",
              "      fill: #1967D2;\n",
              "      height: 32px;\n",
              "      padding: 0 0 0 0;\n",
              "      width: 32px;\n",
              "    }\n",
              "\n",
              "    .colab-df-convert:hover {\n",
              "      background-color: #E2EBFA;\n",
              "      box-shadow: 0px 1px 2px rgba(60, 64, 67, 0.3), 0px 1px 3px 1px rgba(60, 64, 67, 0.15);\n",
              "      fill: #174EA6;\n",
              "    }\n",
              "\n",
              "    [theme=dark] .colab-df-convert {\n",
              "      background-color: #3B4455;\n",
              "      fill: #D2E3FC;\n",
              "    }\n",
              "\n",
              "    [theme=dark] .colab-df-convert:hover {\n",
              "      background-color: #434B5C;\n",
              "      box-shadow: 0px 1px 3px 1px rgba(0, 0, 0, 0.15);\n",
              "      filter: drop-shadow(0px 1px 2px rgba(0, 0, 0, 0.3));\n",
              "      fill: #FFFFFF;\n",
              "    }\n",
              "  </style>\n",
              "\n",
              "      <script>\n",
              "        const buttonEl =\n",
              "          document.querySelector('#df-0110b0a5-8e28-444f-ae50-ec9a9bfdc0a9 button.colab-df-convert');\n",
              "        buttonEl.style.display =\n",
              "          google.colab.kernel.accessAllowed ? 'block' : 'none';\n",
              "\n",
              "        async function convertToInteractive(key) {\n",
              "          const element = document.querySelector('#df-0110b0a5-8e28-444f-ae50-ec9a9bfdc0a9');\n",
              "          const dataTable =\n",
              "            await google.colab.kernel.invokeFunction('convertToInteractive',\n",
              "                                                     [key], {});\n",
              "          if (!dataTable) return;\n",
              "\n",
              "          const docLinkHtml = 'Like what you see? Visit the ' +\n",
              "            '<a target=\"_blank\" href=https://colab.research.google.com/notebooks/data_table.ipynb>data table notebook</a>'\n",
              "            + ' to learn more about interactive tables.';\n",
              "          element.innerHTML = '';\n",
              "          dataTable['output_type'] = 'display_data';\n",
              "          await google.colab.output.renderOutput(dataTable, element);\n",
              "          const docLink = document.createElement('div');\n",
              "          docLink.innerHTML = docLinkHtml;\n",
              "          element.appendChild(docLink);\n",
              "        }\n",
              "      </script>\n",
              "    </div>\n",
              "  </div>\n",
              "  "
            ]
          },
          "metadata": {},
          "execution_count": 4
        }
      ],
      "source": [
        "df.head()"
      ]
    },
    {
      "cell_type": "markdown",
      "id": "6696e77a",
      "metadata": {
        "id": "6696e77a"
      },
      "source": [
        "## Задание 1 (0.5 балла)"
      ]
    },
    {
      "cell_type": "markdown",
      "id": "0cb13dc7",
      "metadata": {
        "id": "0cb13dc7"
      },
      "source": [
        "Разделите выборку на train, val, test (80%, 10%, 10%) в качестве таргета выберите salary_in_usd, удалите из признаков (salary) чтобы избежать лика в данных."
      ]
    },
    {
      "cell_type": "code",
      "source": [
        "from sklearn.model_selection import train_test_split\n",
        "\n",
        "# deleting the 'salary' column, defining X and target variable:\n",
        "X = df.drop(['salary', 'salary_in_usd'], axis=1)\n",
        "y = df['salary_in_usd']\n",
        "\n",
        "# splitting the data into train, val and test:\n",
        "X_train, X_test, y_train, y_test = train_test_split(X, y, test_size=0.2, random_state=19)\n",
        "X_val, X_test_test, y_val, y_test_test = train_test_split(X_test, y_test, test_size = 0.5, random_state = 17)\n",
        "\n",
        "X_val"
      ],
      "metadata": {
        "colab": {
          "base_uri": "https://localhost:8080/",
          "height": 423
        },
        "id": "6tENSPgIb6UT",
        "outputId": "16ce40d1-05f0-4b34-8a87-278ed28d5fa5"
      },
      "id": "6tENSPgIb6UT",
      "execution_count": 5,
      "outputs": [
        {
          "output_type": "execute_result",
          "data": {
            "text/plain": [
              "      work_year experience_level employment_type                   job_title  \\\n",
              "3311       2022               EX              FT        Head of Data Science   \n",
              "175        2023               SE              FT                Data Analyst   \n",
              "3676       2021               SE              FT  Machine Learning Scientist   \n",
              "1604       2023               SE              FT   Machine Learning Engineer   \n",
              "1426       2023               SE              FT   Machine Learning Engineer   \n",
              "...         ...              ...             ...                         ...   \n",
              "3039       2022               SE              FT        Data Science Manager   \n",
              "2908       2022               SE              FT                Data Analyst   \n",
              "1614       2023               SE              FT              Data Scientist   \n",
              "3703       2021               MI              FT              Data Scientist   \n",
              "841        2023               MI              FT               Data Engineer   \n",
              "\n",
              "     salary_currency employee_residence  remote_ratio company_location  \\\n",
              "3311             USD                 US           100               US   \n",
              "175              GBP                 CF           100               CF   \n",
              "3676             USD                 US           100               CA   \n",
              "1604             EUR                 LV             0               LV   \n",
              "1426             USD                 US             0               US   \n",
              "...              ...                ...           ...              ...   \n",
              "3039             USD                 US           100               US   \n",
              "2908             USD                 US             0               US   \n",
              "1614             USD                 US           100               US   \n",
              "3703             BRL                 BR             0               BR   \n",
              "841              USD                 US             0               US   \n",
              "\n",
              "     company_size  \n",
              "3311            M  \n",
              "175             M  \n",
              "3676            L  \n",
              "1604            M  \n",
              "1426            M  \n",
              "...           ...  \n",
              "3039            L  \n",
              "2908            L  \n",
              "1614            M  \n",
              "3703            S  \n",
              "841             M  \n",
              "\n",
              "[375 rows x 9 columns]"
            ],
            "text/html": [
              "\n",
              "  <div id=\"df-5c70316a-2756-4ad8-8cf2-c24760da6320\">\n",
              "    <div class=\"colab-df-container\">\n",
              "      <div>\n",
              "<style scoped>\n",
              "    .dataframe tbody tr th:only-of-type {\n",
              "        vertical-align: middle;\n",
              "    }\n",
              "\n",
              "    .dataframe tbody tr th {\n",
              "        vertical-align: top;\n",
              "    }\n",
              "\n",
              "    .dataframe thead th {\n",
              "        text-align: right;\n",
              "    }\n",
              "</style>\n",
              "<table border=\"1\" class=\"dataframe\">\n",
              "  <thead>\n",
              "    <tr style=\"text-align: right;\">\n",
              "      <th></th>\n",
              "      <th>work_year</th>\n",
              "      <th>experience_level</th>\n",
              "      <th>employment_type</th>\n",
              "      <th>job_title</th>\n",
              "      <th>salary_currency</th>\n",
              "      <th>employee_residence</th>\n",
              "      <th>remote_ratio</th>\n",
              "      <th>company_location</th>\n",
              "      <th>company_size</th>\n",
              "    </tr>\n",
              "  </thead>\n",
              "  <tbody>\n",
              "    <tr>\n",
              "      <th>3311</th>\n",
              "      <td>2022</td>\n",
              "      <td>EX</td>\n",
              "      <td>FT</td>\n",
              "      <td>Head of Data Science</td>\n",
              "      <td>USD</td>\n",
              "      <td>US</td>\n",
              "      <td>100</td>\n",
              "      <td>US</td>\n",
              "      <td>M</td>\n",
              "    </tr>\n",
              "    <tr>\n",
              "      <th>175</th>\n",
              "      <td>2023</td>\n",
              "      <td>SE</td>\n",
              "      <td>FT</td>\n",
              "      <td>Data Analyst</td>\n",
              "      <td>GBP</td>\n",
              "      <td>CF</td>\n",
              "      <td>100</td>\n",
              "      <td>CF</td>\n",
              "      <td>M</td>\n",
              "    </tr>\n",
              "    <tr>\n",
              "      <th>3676</th>\n",
              "      <td>2021</td>\n",
              "      <td>SE</td>\n",
              "      <td>FT</td>\n",
              "      <td>Machine Learning Scientist</td>\n",
              "      <td>USD</td>\n",
              "      <td>US</td>\n",
              "      <td>100</td>\n",
              "      <td>CA</td>\n",
              "      <td>L</td>\n",
              "    </tr>\n",
              "    <tr>\n",
              "      <th>1604</th>\n",
              "      <td>2023</td>\n",
              "      <td>SE</td>\n",
              "      <td>FT</td>\n",
              "      <td>Machine Learning Engineer</td>\n",
              "      <td>EUR</td>\n",
              "      <td>LV</td>\n",
              "      <td>0</td>\n",
              "      <td>LV</td>\n",
              "      <td>M</td>\n",
              "    </tr>\n",
              "    <tr>\n",
              "      <th>1426</th>\n",
              "      <td>2023</td>\n",
              "      <td>SE</td>\n",
              "      <td>FT</td>\n",
              "      <td>Machine Learning Engineer</td>\n",
              "      <td>USD</td>\n",
              "      <td>US</td>\n",
              "      <td>0</td>\n",
              "      <td>US</td>\n",
              "      <td>M</td>\n",
              "    </tr>\n",
              "    <tr>\n",
              "      <th>...</th>\n",
              "      <td>...</td>\n",
              "      <td>...</td>\n",
              "      <td>...</td>\n",
              "      <td>...</td>\n",
              "      <td>...</td>\n",
              "      <td>...</td>\n",
              "      <td>...</td>\n",
              "      <td>...</td>\n",
              "      <td>...</td>\n",
              "    </tr>\n",
              "    <tr>\n",
              "      <th>3039</th>\n",
              "      <td>2022</td>\n",
              "      <td>SE</td>\n",
              "      <td>FT</td>\n",
              "      <td>Data Science Manager</td>\n",
              "      <td>USD</td>\n",
              "      <td>US</td>\n",
              "      <td>100</td>\n",
              "      <td>US</td>\n",
              "      <td>L</td>\n",
              "    </tr>\n",
              "    <tr>\n",
              "      <th>2908</th>\n",
              "      <td>2022</td>\n",
              "      <td>SE</td>\n",
              "      <td>FT</td>\n",
              "      <td>Data Analyst</td>\n",
              "      <td>USD</td>\n",
              "      <td>US</td>\n",
              "      <td>0</td>\n",
              "      <td>US</td>\n",
              "      <td>L</td>\n",
              "    </tr>\n",
              "    <tr>\n",
              "      <th>1614</th>\n",
              "      <td>2023</td>\n",
              "      <td>SE</td>\n",
              "      <td>FT</td>\n",
              "      <td>Data Scientist</td>\n",
              "      <td>USD</td>\n",
              "      <td>US</td>\n",
              "      <td>100</td>\n",
              "      <td>US</td>\n",
              "      <td>M</td>\n",
              "    </tr>\n",
              "    <tr>\n",
              "      <th>3703</th>\n",
              "      <td>2021</td>\n",
              "      <td>MI</td>\n",
              "      <td>FT</td>\n",
              "      <td>Data Scientist</td>\n",
              "      <td>BRL</td>\n",
              "      <td>BR</td>\n",
              "      <td>0</td>\n",
              "      <td>BR</td>\n",
              "      <td>S</td>\n",
              "    </tr>\n",
              "    <tr>\n",
              "      <th>841</th>\n",
              "      <td>2023</td>\n",
              "      <td>MI</td>\n",
              "      <td>FT</td>\n",
              "      <td>Data Engineer</td>\n",
              "      <td>USD</td>\n",
              "      <td>US</td>\n",
              "      <td>0</td>\n",
              "      <td>US</td>\n",
              "      <td>M</td>\n",
              "    </tr>\n",
              "  </tbody>\n",
              "</table>\n",
              "<p>375 rows × 9 columns</p>\n",
              "</div>\n",
              "      <button class=\"colab-df-convert\" onclick=\"convertToInteractive('df-5c70316a-2756-4ad8-8cf2-c24760da6320')\"\n",
              "              title=\"Convert this dataframe to an interactive table.\"\n",
              "              style=\"display:none;\">\n",
              "        \n",
              "  <svg xmlns=\"http://www.w3.org/2000/svg\" height=\"24px\"viewBox=\"0 0 24 24\"\n",
              "       width=\"24px\">\n",
              "    <path d=\"M0 0h24v24H0V0z\" fill=\"none\"/>\n",
              "    <path d=\"M18.56 5.44l.94 2.06.94-2.06 2.06-.94-2.06-.94-.94-2.06-.94 2.06-2.06.94zm-11 1L8.5 8.5l.94-2.06 2.06-.94-2.06-.94L8.5 2.5l-.94 2.06-2.06.94zm10 10l.94 2.06.94-2.06 2.06-.94-2.06-.94-.94-2.06-.94 2.06-2.06.94z\"/><path d=\"M17.41 7.96l-1.37-1.37c-.4-.4-.92-.59-1.43-.59-.52 0-1.04.2-1.43.59L10.3 9.45l-7.72 7.72c-.78.78-.78 2.05 0 2.83L4 21.41c.39.39.9.59 1.41.59.51 0 1.02-.2 1.41-.59l7.78-7.78 2.81-2.81c.8-.78.8-2.07 0-2.86zM5.41 20L4 18.59l7.72-7.72 1.47 1.35L5.41 20z\"/>\n",
              "  </svg>\n",
              "      </button>\n",
              "      \n",
              "  <style>\n",
              "    .colab-df-container {\n",
              "      display:flex;\n",
              "      flex-wrap:wrap;\n",
              "      gap: 12px;\n",
              "    }\n",
              "\n",
              "    .colab-df-convert {\n",
              "      background-color: #E8F0FE;\n",
              "      border: none;\n",
              "      border-radius: 50%;\n",
              "      cursor: pointer;\n",
              "      display: none;\n",
              "      fill: #1967D2;\n",
              "      height: 32px;\n",
              "      padding: 0 0 0 0;\n",
              "      width: 32px;\n",
              "    }\n",
              "\n",
              "    .colab-df-convert:hover {\n",
              "      background-color: #E2EBFA;\n",
              "      box-shadow: 0px 1px 2px rgba(60, 64, 67, 0.3), 0px 1px 3px 1px rgba(60, 64, 67, 0.15);\n",
              "      fill: #174EA6;\n",
              "    }\n",
              "\n",
              "    [theme=dark] .colab-df-convert {\n",
              "      background-color: #3B4455;\n",
              "      fill: #D2E3FC;\n",
              "    }\n",
              "\n",
              "    [theme=dark] .colab-df-convert:hover {\n",
              "      background-color: #434B5C;\n",
              "      box-shadow: 0px 1px 3px 1px rgba(0, 0, 0, 0.15);\n",
              "      filter: drop-shadow(0px 1px 2px rgba(0, 0, 0, 0.3));\n",
              "      fill: #FFFFFF;\n",
              "    }\n",
              "  </style>\n",
              "\n",
              "      <script>\n",
              "        const buttonEl =\n",
              "          document.querySelector('#df-5c70316a-2756-4ad8-8cf2-c24760da6320 button.colab-df-convert');\n",
              "        buttonEl.style.display =\n",
              "          google.colab.kernel.accessAllowed ? 'block' : 'none';\n",
              "\n",
              "        async function convertToInteractive(key) {\n",
              "          const element = document.querySelector('#df-5c70316a-2756-4ad8-8cf2-c24760da6320');\n",
              "          const dataTable =\n",
              "            await google.colab.kernel.invokeFunction('convertToInteractive',\n",
              "                                                     [key], {});\n",
              "          if (!dataTable) return;\n",
              "\n",
              "          const docLinkHtml = 'Like what you see? Visit the ' +\n",
              "            '<a target=\"_blank\" href=https://colab.research.google.com/notebooks/data_table.ipynb>data table notebook</a>'\n",
              "            + ' to learn more about interactive tables.';\n",
              "          element.innerHTML = '';\n",
              "          dataTable['output_type'] = 'display_data';\n",
              "          await google.colab.output.renderOutput(dataTable, element);\n",
              "          const docLink = document.createElement('div');\n",
              "          docLink.innerHTML = docLinkHtml;\n",
              "          element.appendChild(docLink);\n",
              "        }\n",
              "      </script>\n",
              "    </div>\n",
              "  </div>\n",
              "  "
            ]
          },
          "metadata": {},
          "execution_count": 5
        }
      ]
    },
    {
      "cell_type": "markdown",
      "id": "f63cb01a",
      "metadata": {
        "id": "f63cb01a"
      },
      "source": [
        "## Задание 2 (0.5 балла)"
      ]
    },
    {
      "cell_type": "markdown",
      "id": "647a5cad",
      "metadata": {
        "id": "647a5cad"
      },
      "source": [
        "Обучите модель линейной регресии и оцените её качество через mape и rmse"
      ]
    },
    {
      "cell_type": "code",
      "source": [
        "from sklearn.linear_model import LinearRegression\n",
        "from sklearn.metrics import mean_absolute_percentage_error, mean_squared_error\n",
        "\n",
        "categorical_columns = X.select_dtypes(include='object').columns # selecting categorical data\n",
        "X_train_drop = X_train.drop(categorical_columns, axis=1)\n",
        "X_val_drop = X_val.drop(categorical_columns, axis=1)\n",
        "X_test_drop = X_test_test.drop(categorical_columns, axis=1)\n",
        "\n",
        "# creating an instance of a model and fitting it\n",
        "linear_regressor = LinearRegression()\n",
        "linear_regressor.fit(X_train_drop, y_train)\n",
        "\n",
        "# getting predictions for test and validation parts of the dataset:\n",
        "y_test_pred = linear_regressor.predict(X_test_drop)\n",
        "y_val_pred = linear_regressor.predict(X_val_drop)\n",
        "\n",
        "# evaluating the model's quality\n",
        "val_mape = mean_absolute_percentage_error(y_val, y_val_pred)\n",
        "val_rmse = mean_squared_error(y_val, y_val_pred, squared=False)\n",
        "\n",
        "test_mape = mean_absolute_percentage_error(y_test_test, y_test_pred)\n",
        "test_rmse = mean_squared_error(y_test_test, y_test_pred, squared=False)\n",
        "\n",
        "print(f\"MAPE score on validation set: {val_mape}\")\n",
        "print(f\"RMSE score on validation set: {val_rmse}\")\n",
        "print(f\"MAPE score on test set: {test_mape}\")\n",
        "print(f\"RMSE score on test set: {test_rmse}\")\n",
        "\n",
        "# NOTE: a model cannot be fitted without the proper handling of categorical\n",
        "# features first. In this task, we can either drop them or encode. Since encoding\n",
        "# is supposed to be performed later, some of the features have been dropped.\n",
        "# Sklearn's linear regressor cannot perform well without the preliminary data preprocessing."
      ],
      "metadata": {
        "colab": {
          "base_uri": "https://localhost:8080/"
        },
        "id": "ZoM1370MghIP",
        "outputId": "9d19efee-a0d1-4887-b0da-c1151aa3edcb"
      },
      "id": "ZoM1370MghIP",
      "execution_count": 6,
      "outputs": [
        {
          "output_type": "stream",
          "name": "stdout",
          "text": [
            "MAPE score on validation set: 0.6694666794357188\n",
            "RMSE score on validation set: 59766.824655346245\n",
            "MAPE score on test set: 0.6514027853443363\n",
            "RMSE score on test set: 63544.73382433843\n"
          ]
        }
      ]
    },
    {
      "cell_type": "markdown",
      "id": "8bf8374f",
      "metadata": {
        "id": "8bf8374f"
      },
      "source": [
        "## Задание 3 (0.5 балла)"
      ]
    },
    {
      "cell_type": "markdown",
      "id": "97440d17",
      "metadata": {
        "id": "97440d17"
      },
      "source": [
        "Обучите модель бустинга выберите любую из трех библиотек catboost, xgboost,\n",
        "lightgbm и оцените её качество через mape и rmse"
      ]
    },
    {
      "cell_type": "code",
      "source": [
        "from xgboost import XGBRegressor\n",
        "\n",
        "# creating an instance of a model and fitting it\n",
        "xg_boost = XGBRegressor()\n",
        "xg_boost.fit(X_train_drop, y_train)\n",
        "\n",
        "# getting predictions for test and validation parts of the dataset:\n",
        "y_test_pred = xg_boost.predict(X_test_drop)\n",
        "y_val_pred = xg_boost.predict(X_val_drop)\n",
        "\n",
        "# evaluating the model's quality\n",
        "val_mape = mean_absolute_percentage_error(y_val, y_val_pred)\n",
        "val_rmse = mean_squared_error(y_val, y_val_pred, squared=False)\n",
        "\n",
        "test_mape = mean_absolute_percentage_error(y_test_test, y_test_pred)\n",
        "test_rmse = mean_squared_error(y_test_test, y_test_pred, squared=False)\n",
        "\n",
        "print(f\"MAPE score on validation set: {val_mape}\")\n",
        "print(f\"RMSE score on validation set: {val_rmse}\")\n",
        "print(f\"MAPE score on test set: {test_mape}\")\n",
        "print(f\"RMSE score on test set: {test_rmse}\")"
      ],
      "metadata": {
        "colab": {
          "base_uri": "https://localhost:8080/"
        },
        "id": "AEsYJiMEk6zV",
        "outputId": "430d3dc6-5d7e-43d8-aca5-8ce530c58ef9"
      },
      "id": "AEsYJiMEk6zV",
      "execution_count": 7,
      "outputs": [
        {
          "output_type": "stream",
          "name": "stdout",
          "text": [
            "MAPE score on validation set: 0.6059462896177483\n",
            "RMSE score on validation set: 57367.10506318914\n",
            "MAPE score on test set: 0.6084349615052234\n",
            "RMSE score on test set: 62991.68013441048\n"
          ]
        }
      ]
    },
    {
      "cell_type": "markdown",
      "id": "17b76f89",
      "metadata": {
        "id": "17b76f89"
      },
      "source": [
        "## Задание 4 (0.5 балла)"
      ]
    },
    {
      "cell_type": "markdown",
      "id": "34452854",
      "metadata": {
        "id": "34452854"
      },
      "source": [
        "Далее предобработайте категориальные признаки с помощью onehot кодирования, labelencoder и счетчиков (mean target encoding) сравните качество моделей с помощью mape и rmse. Необходимо обучить две модели линейную и бустинг. Какие выводы можно сделать? Выберите лучшую из моделей и дальше будем работать с ней"
      ]
    },
    {
      "cell_type": "code",
      "source": [
        "# checking if there are any missing values:\n",
        "df.isnull().sum() # no missing values found"
      ],
      "metadata": {
        "colab": {
          "base_uri": "https://localhost:8080/"
        },
        "id": "KSUGhs2vooSd",
        "outputId": "9bba5f33-7d5e-44ac-cd9c-4222b5aa22c4"
      },
      "id": "KSUGhs2vooSd",
      "execution_count": 8,
      "outputs": [
        {
          "output_type": "execute_result",
          "data": {
            "text/plain": [
              "work_year             0\n",
              "experience_level      0\n",
              "employment_type       0\n",
              "job_title             0\n",
              "salary                0\n",
              "salary_currency       0\n",
              "salary_in_usd         0\n",
              "employee_residence    0\n",
              "remote_ratio          0\n",
              "company_location      0\n",
              "company_size          0\n",
              "dtype: int64"
            ]
          },
          "metadata": {},
          "execution_count": 8
        }
      ]
    },
    {
      "cell_type": "code",
      "source": [
        "# checking how many unique values we have for certain features\n",
        "print(df['employment_type'].unique())\n",
        "print(df['experience_level'].unique())\n",
        "print(df['company_size'].unique())"
      ],
      "metadata": {
        "colab": {
          "base_uri": "https://localhost:8080/"
        },
        "id": "iYnsLXqtu2nk",
        "outputId": "4df2c00d-4ec4-4fae-aad5-620ef92db975"
      },
      "id": "iYnsLXqtu2nk",
      "execution_count": 9,
      "outputs": [
        {
          "output_type": "stream",
          "name": "stdout",
          "text": [
            "['FT' 'CT' 'FL' 'PT']\n",
            "['SE' 'MI' 'EN' 'EX']\n",
            "['L' 'S' 'M']\n"
          ]
        }
      ]
    },
    {
      "cell_type": "code",
      "source": [
        "!pip install category_encoders\n",
        "from category_encoders import TargetEncoder"
      ],
      "metadata": {
        "colab": {
          "base_uri": "https://localhost:8080/"
        },
        "id": "cuKp7gRFw2uM",
        "outputId": "eebe5d96-f5cd-408b-d9fe-0f1cb07afbfd"
      },
      "id": "cuKp7gRFw2uM",
      "execution_count": 10,
      "outputs": [
        {
          "output_type": "stream",
          "name": "stdout",
          "text": [
            "Looking in indexes: https://pypi.org/simple, https://us-python.pkg.dev/colab-wheels/public/simple/\n",
            "Collecting category_encoders\n",
            "  Downloading category_encoders-2.6.1-py2.py3-none-any.whl (81 kB)\n",
            "\u001b[2K     \u001b[90m━━━━━━━━━━━━━━━━━━━━━━━━━━━━━━━━━━━━━━━━\u001b[0m \u001b[32m81.9/81.9 kB\u001b[0m \u001b[31m2.6 MB/s\u001b[0m eta \u001b[36m0:00:00\u001b[0m\n",
            "\u001b[?25hRequirement already satisfied: numpy>=1.14.0 in /usr/local/lib/python3.10/dist-packages (from category_encoders) (1.22.4)\n",
            "Requirement already satisfied: scikit-learn>=0.20.0 in /usr/local/lib/python3.10/dist-packages (from category_encoders) (1.2.2)\n",
            "Requirement already satisfied: scipy>=1.0.0 in /usr/local/lib/python3.10/dist-packages (from category_encoders) (1.10.1)\n",
            "Requirement already satisfied: statsmodels>=0.9.0 in /usr/local/lib/python3.10/dist-packages (from category_encoders) (0.13.5)\n",
            "Requirement already satisfied: pandas>=1.0.5 in /usr/local/lib/python3.10/dist-packages (from category_encoders) (1.5.3)\n",
            "Requirement already satisfied: patsy>=0.5.1 in /usr/local/lib/python3.10/dist-packages (from category_encoders) (0.5.3)\n",
            "Requirement already satisfied: python-dateutil>=2.8.1 in /usr/local/lib/python3.10/dist-packages (from pandas>=1.0.5->category_encoders) (2.8.2)\n",
            "Requirement already satisfied: pytz>=2020.1 in /usr/local/lib/python3.10/dist-packages (from pandas>=1.0.5->category_encoders) (2022.7.1)\n",
            "Requirement already satisfied: six in /usr/local/lib/python3.10/dist-packages (from patsy>=0.5.1->category_encoders) (1.16.0)\n",
            "Requirement already satisfied: joblib>=1.1.1 in /usr/local/lib/python3.10/dist-packages (from scikit-learn>=0.20.0->category_encoders) (1.2.0)\n",
            "Requirement already satisfied: threadpoolctl>=2.0.0 in /usr/local/lib/python3.10/dist-packages (from scikit-learn>=0.20.0->category_encoders) (3.1.0)\n",
            "Requirement already satisfied: packaging>=21.3 in /usr/local/lib/python3.10/dist-packages (from statsmodels>=0.9.0->category_encoders) (23.1)\n",
            "Installing collected packages: category_encoders\n",
            "Successfully installed category_encoders-2.6.1\n"
          ]
        }
      ]
    },
    {
      "cell_type": "code",
      "source": [
        "from sklearn.preprocessing import LabelEncoder\n",
        "from sklearn.preprocessing import OneHotEncoder\n",
        "\n",
        "label_encoder = LabelEncoder()\n",
        "target_encoder = TargetEncoder()\n",
        "one_hot_encoder = OneHotEncoder()\n",
        "\n",
        "# deleting the 'salary' column, defining X and target variable again\n",
        "X = df.drop(['salary', 'salary_in_usd'], axis=1)\n",
        "y = df['salary_in_usd']\n",
        "\n",
        "# encoding categorical features with label encoding and target encoding\n",
        "label_encoding_cols = ['experience_level', 'company_size'] # these features have some kind of order\n",
        "mean_target_features = ['company_location', 'employee_residence',\n",
        "                        'job_title', 'salary_currency'] # these features are more connected with the target variable\n",
        "\n",
        "for feature in label_encoding_cols:\n",
        "    X[feature] = label_encoder.fit_transform(X[feature])\n",
        "\n",
        "X[mean_target_features] = target_encoder.fit_transform(X[mean_target_features], y)\n",
        "\n",
        "# one-hot encoding for features with no order\n",
        "one_hot_encoding_cols = ['employment_type']\n",
        "X_encoded = pd.get_dummies(X, columns=one_hot_encoding_cols, drop_first=True)\n",
        "\n",
        "# splitting the data into corresponding sets\n",
        "X_train, X_val_test, y_train, y_val_test = train_test_split(X_encoded, y, test_size=0.2, random_state=19)\n",
        "X_val, X_test, y_val, y_test = train_test_split(X_val_test, y_val_test, test_size=0.5, random_state=17)"
      ],
      "metadata": {
        "id": "xnyWvbnBpgah"
      },
      "id": "xnyWvbnBpgah",
      "execution_count": 11,
      "outputs": []
    },
    {
      "cell_type": "code",
      "source": [
        "X_train.head()"
      ],
      "metadata": {
        "colab": {
          "base_uri": "https://localhost:8080/",
          "height": 270
        },
        "id": "i0MJTPkg3XSK",
        "outputId": "1e45abc5-ff2e-4adb-d30c-100b67a62167"
      },
      "id": "i0MJTPkg3XSK",
      "execution_count": 12,
      "outputs": [
        {
          "output_type": "execute_result",
          "data": {
            "text/plain": [
              "      work_year  experience_level      job_title  salary_currency  \\\n",
              "3565       2021                 3  142785.734615     83850.270233   \n",
              "3505       2021                 3  154690.726644     62281.733082   \n",
              "115        2023                 3  140869.765476    149366.906638   \n",
              "3415       2022                 3  140869.765476    149366.906638   \n",
              "2320       2022                 3  152364.954370    149366.906638   \n",
              "\n",
              "      employee_residence  remote_ratio  company_location  company_size  \\\n",
              "3565        86988.344240           100      86890.065019             1   \n",
              "3505       125515.968509            50     127372.958462             1   \n",
              "115        152822.011651             0     151822.009539             1   \n",
              "3415       152822.011651           100     151822.009539             1   \n",
              "2320       152822.011651           100     151822.009539             1   \n",
              "\n",
              "      employment_type_FL  employment_type_FT  employment_type_PT  \n",
              "3565                   0                   1                   0  \n",
              "3505                   0                   1                   0  \n",
              "115                    0                   1                   0  \n",
              "3415                   0                   1                   0  \n",
              "2320                   0                   1                   0  "
            ],
            "text/html": [
              "\n",
              "  <div id=\"df-b62eb273-0bd4-40f0-96cf-cae0bc89a2ee\">\n",
              "    <div class=\"colab-df-container\">\n",
              "      <div>\n",
              "<style scoped>\n",
              "    .dataframe tbody tr th:only-of-type {\n",
              "        vertical-align: middle;\n",
              "    }\n",
              "\n",
              "    .dataframe tbody tr th {\n",
              "        vertical-align: top;\n",
              "    }\n",
              "\n",
              "    .dataframe thead th {\n",
              "        text-align: right;\n",
              "    }\n",
              "</style>\n",
              "<table border=\"1\" class=\"dataframe\">\n",
              "  <thead>\n",
              "    <tr style=\"text-align: right;\">\n",
              "      <th></th>\n",
              "      <th>work_year</th>\n",
              "      <th>experience_level</th>\n",
              "      <th>job_title</th>\n",
              "      <th>salary_currency</th>\n",
              "      <th>employee_residence</th>\n",
              "      <th>remote_ratio</th>\n",
              "      <th>company_location</th>\n",
              "      <th>company_size</th>\n",
              "      <th>employment_type_FL</th>\n",
              "      <th>employment_type_FT</th>\n",
              "      <th>employment_type_PT</th>\n",
              "    </tr>\n",
              "  </thead>\n",
              "  <tbody>\n",
              "    <tr>\n",
              "      <th>3565</th>\n",
              "      <td>2021</td>\n",
              "      <td>3</td>\n",
              "      <td>142785.734615</td>\n",
              "      <td>83850.270233</td>\n",
              "      <td>86988.344240</td>\n",
              "      <td>100</td>\n",
              "      <td>86890.065019</td>\n",
              "      <td>1</td>\n",
              "      <td>0</td>\n",
              "      <td>1</td>\n",
              "      <td>0</td>\n",
              "    </tr>\n",
              "    <tr>\n",
              "      <th>3505</th>\n",
              "      <td>2021</td>\n",
              "      <td>3</td>\n",
              "      <td>154690.726644</td>\n",
              "      <td>62281.733082</td>\n",
              "      <td>125515.968509</td>\n",
              "      <td>50</td>\n",
              "      <td>127372.958462</td>\n",
              "      <td>1</td>\n",
              "      <td>0</td>\n",
              "      <td>1</td>\n",
              "      <td>0</td>\n",
              "    </tr>\n",
              "    <tr>\n",
              "      <th>115</th>\n",
              "      <td>2023</td>\n",
              "      <td>3</td>\n",
              "      <td>140869.765476</td>\n",
              "      <td>149366.906638</td>\n",
              "      <td>152822.011651</td>\n",
              "      <td>0</td>\n",
              "      <td>151822.009539</td>\n",
              "      <td>1</td>\n",
              "      <td>0</td>\n",
              "      <td>1</td>\n",
              "      <td>0</td>\n",
              "    </tr>\n",
              "    <tr>\n",
              "      <th>3415</th>\n",
              "      <td>2022</td>\n",
              "      <td>3</td>\n",
              "      <td>140869.765476</td>\n",
              "      <td>149366.906638</td>\n",
              "      <td>152822.011651</td>\n",
              "      <td>100</td>\n",
              "      <td>151822.009539</td>\n",
              "      <td>1</td>\n",
              "      <td>0</td>\n",
              "      <td>1</td>\n",
              "      <td>0</td>\n",
              "    </tr>\n",
              "    <tr>\n",
              "      <th>2320</th>\n",
              "      <td>2022</td>\n",
              "      <td>3</td>\n",
              "      <td>152364.954370</td>\n",
              "      <td>149366.906638</td>\n",
              "      <td>152822.011651</td>\n",
              "      <td>100</td>\n",
              "      <td>151822.009539</td>\n",
              "      <td>1</td>\n",
              "      <td>0</td>\n",
              "      <td>1</td>\n",
              "      <td>0</td>\n",
              "    </tr>\n",
              "  </tbody>\n",
              "</table>\n",
              "</div>\n",
              "      <button class=\"colab-df-convert\" onclick=\"convertToInteractive('df-b62eb273-0bd4-40f0-96cf-cae0bc89a2ee')\"\n",
              "              title=\"Convert this dataframe to an interactive table.\"\n",
              "              style=\"display:none;\">\n",
              "        \n",
              "  <svg xmlns=\"http://www.w3.org/2000/svg\" height=\"24px\"viewBox=\"0 0 24 24\"\n",
              "       width=\"24px\">\n",
              "    <path d=\"M0 0h24v24H0V0z\" fill=\"none\"/>\n",
              "    <path d=\"M18.56 5.44l.94 2.06.94-2.06 2.06-.94-2.06-.94-.94-2.06-.94 2.06-2.06.94zm-11 1L8.5 8.5l.94-2.06 2.06-.94-2.06-.94L8.5 2.5l-.94 2.06-2.06.94zm10 10l.94 2.06.94-2.06 2.06-.94-2.06-.94-.94-2.06-.94 2.06-2.06.94z\"/><path d=\"M17.41 7.96l-1.37-1.37c-.4-.4-.92-.59-1.43-.59-.52 0-1.04.2-1.43.59L10.3 9.45l-7.72 7.72c-.78.78-.78 2.05 0 2.83L4 21.41c.39.39.9.59 1.41.59.51 0 1.02-.2 1.41-.59l7.78-7.78 2.81-2.81c.8-.78.8-2.07 0-2.86zM5.41 20L4 18.59l7.72-7.72 1.47 1.35L5.41 20z\"/>\n",
              "  </svg>\n",
              "      </button>\n",
              "      \n",
              "  <style>\n",
              "    .colab-df-container {\n",
              "      display:flex;\n",
              "      flex-wrap:wrap;\n",
              "      gap: 12px;\n",
              "    }\n",
              "\n",
              "    .colab-df-convert {\n",
              "      background-color: #E8F0FE;\n",
              "      border: none;\n",
              "      border-radius: 50%;\n",
              "      cursor: pointer;\n",
              "      display: none;\n",
              "      fill: #1967D2;\n",
              "      height: 32px;\n",
              "      padding: 0 0 0 0;\n",
              "      width: 32px;\n",
              "    }\n",
              "\n",
              "    .colab-df-convert:hover {\n",
              "      background-color: #E2EBFA;\n",
              "      box-shadow: 0px 1px 2px rgba(60, 64, 67, 0.3), 0px 1px 3px 1px rgba(60, 64, 67, 0.15);\n",
              "      fill: #174EA6;\n",
              "    }\n",
              "\n",
              "    [theme=dark] .colab-df-convert {\n",
              "      background-color: #3B4455;\n",
              "      fill: #D2E3FC;\n",
              "    }\n",
              "\n",
              "    [theme=dark] .colab-df-convert:hover {\n",
              "      background-color: #434B5C;\n",
              "      box-shadow: 0px 1px 3px 1px rgba(0, 0, 0, 0.15);\n",
              "      filter: drop-shadow(0px 1px 2px rgba(0, 0, 0, 0.3));\n",
              "      fill: #FFFFFF;\n",
              "    }\n",
              "  </style>\n",
              "\n",
              "      <script>\n",
              "        const buttonEl =\n",
              "          document.querySelector('#df-b62eb273-0bd4-40f0-96cf-cae0bc89a2ee button.colab-df-convert');\n",
              "        buttonEl.style.display =\n",
              "          google.colab.kernel.accessAllowed ? 'block' : 'none';\n",
              "\n",
              "        async function convertToInteractive(key) {\n",
              "          const element = document.querySelector('#df-b62eb273-0bd4-40f0-96cf-cae0bc89a2ee');\n",
              "          const dataTable =\n",
              "            await google.colab.kernel.invokeFunction('convertToInteractive',\n",
              "                                                     [key], {});\n",
              "          if (!dataTable) return;\n",
              "\n",
              "          const docLinkHtml = 'Like what you see? Visit the ' +\n",
              "            '<a target=\"_blank\" href=https://colab.research.google.com/notebooks/data_table.ipynb>data table notebook</a>'\n",
              "            + ' to learn more about interactive tables.';\n",
              "          element.innerHTML = '';\n",
              "          dataTable['output_type'] = 'display_data';\n",
              "          await google.colab.output.renderOutput(dataTable, element);\n",
              "          const docLink = document.createElement('div');\n",
              "          docLink.innerHTML = docLinkHtml;\n",
              "          element.appendChild(docLink);\n",
              "        }\n",
              "      </script>\n",
              "    </div>\n",
              "  </div>\n",
              "  "
            ]
          },
          "metadata": {},
          "execution_count": 12
        }
      ]
    },
    {
      "cell_type": "code",
      "source": [
        "# Linear regression model\n",
        "# creating an instance of a model and fitting it\n",
        "linear_regressor = LinearRegression()\n",
        "linear_regressor.fit(X_train, y_train)\n",
        "\n",
        "# getting predictions for test and validation parts of the dataset:\n",
        "y_test_pred = linear_regressor.predict(X_test)\n",
        "y_val_pred = linear_regressor.predict(X_val)\n",
        "\n",
        "# evaluating the model's quality\n",
        "val_mape = mean_absolute_percentage_error(y_val, y_val_pred)\n",
        "val_rmse = mean_squared_error(y_val, y_val_pred, squared=False)\n",
        "\n",
        "test_mape = mean_absolute_percentage_error(y_test, y_test_pred)\n",
        "test_rmse = mean_squared_error(y_test, y_test_pred, squared=False)\n",
        "\n",
        "print(f\"MAPE score on validation set: {val_mape}\")\n",
        "print(f\"RMSE score on validation set: {val_rmse}\")\n",
        "print(f\"MAPE score on test set: {test_mape}\")\n",
        "print(f\"RMSE score on test set: {test_rmse}\")"
      ],
      "metadata": {
        "colab": {
          "base_uri": "https://localhost:8080/"
        },
        "id": "3p5T3uqu4CS_",
        "outputId": "5394dbf4-ce36-4e6a-d1fe-44ebc0cd45dd"
      },
      "id": "3p5T3uqu4CS_",
      "execution_count": 14,
      "outputs": [
        {
          "output_type": "stream",
          "name": "stdout",
          "text": [
            "MAPE score on validation set: 0.40939617086667773\n",
            "RMSE score on validation set: 49326.586749873066\n",
            "MAPE score on test set: 0.4310689685560313\n",
            "RMSE score on test set: 52363.27780518678\n"
          ]
        }
      ]
    },
    {
      "cell_type": "code",
      "source": [
        "# Boosting model\n",
        "# creating an instance of a model and fitting it\n",
        "xg_boost = XGBRegressor()\n",
        "xg_boost.fit(X_train, y_train)\n",
        "\n",
        "# getting predictions for test and validation parts of the dataset:\n",
        "y_test_pred = xg_boost.predict(X_test)\n",
        "y_val_pred = xg_boost.predict(X_val)\n",
        "\n",
        "# evaluating the model's quality\n",
        "val_mape = mean_absolute_percentage_error(y_val, y_val_pred)\n",
        "val_rmse = mean_squared_error(y_val, y_val_pred, squared=False)\n",
        "\n",
        "test_mape = mean_absolute_percentage_error(y_test, y_test_pred)\n",
        "test_rmse = mean_squared_error(y_test, y_test_pred, squared=False)\n",
        "\n",
        "print(f\"MAPE score on validation set: {val_mape}\")\n",
        "print(f\"RMSE score on validation set: {val_rmse}\")\n",
        "print(f\"MAPE score on test set: {test_mape}\")\n",
        "print(f\"RMSE score on test set: {test_rmse}\")"
      ],
      "metadata": {
        "colab": {
          "base_uri": "https://localhost:8080/"
        },
        "id": "7mkiE-NG8_dJ",
        "outputId": "1f5d4181-7bcd-4d2e-a899-613acf6d50dc"
      },
      "id": "7mkiE-NG8_dJ",
      "execution_count": 15,
      "outputs": [
        {
          "output_type": "stream",
          "name": "stdout",
          "text": [
            "MAPE score on validation set: 0.33608787277340735\n",
            "RMSE score on validation set: 47507.15161362332\n",
            "MAPE score on test set: 0.3223811968539423\n",
            "RMSE score on test set: 51725.5269850841\n"
          ]
        }
      ]
    },
    {
      "cell_type": "markdown",
      "source": [
        "**ВЫВОДЫ:** Модели, обученные на закодированных данных, имеют более низкое качество, поскольку one-hot encoding создает слишком большое количество новых признаков, что, видимо, приводит к переобучению. Кроме того, имеет смысл в дальнейшем также использовать OrdinalEncoder, нормализацию значений признаков и далее исследовать взаимосвязи как признаков между собой, так и с целевой переменной. Из новых обученных моделей имеет смысл выбрать модель линейной регрессии и далее работать над улучшением ее качества, поскольку из этих двух моделей она на данном этапе показывает лучший результат."
      ],
      "metadata": {
        "id": "-GxhlBpU9zQT"
      },
      "id": "-GxhlBpU9zQT"
    },
    {
      "cell_type": "markdown",
      "id": "119b89f1",
      "metadata": {
        "id": "119b89f1"
      },
      "source": [
        "## Задание 5 (0.5 балла)"
      ]
    },
    {
      "cell_type": "markdown",
      "id": "140b8af1",
      "metadata": {
        "id": "140b8af1"
      },
      "source": [
        "Покажите, где ошибается ваша модель. Выведите топ 20 примеров с наибольшей ошибкой. Проанализируете их, постарайтесь выделить группы с причинами ошибок в модели. Какие выводы можно сделать? Что стоит изменить в данных чтобы улучшить качество модели?"
      ]
    },
    {
      "cell_type": "code",
      "source": [
        "# getting the absolutely values of errors:\n",
        "abs_error = abs(y_test_pred - y_test)\n",
        "\n",
        "# creating a data frame with sorted values\n",
        "errors_result = pd.DataFrame({'y values': y_test, 'Predicted': y_test_pred,\n",
        "                             'Error': abs_error})\n",
        "sorted_errors_result = errors_result.sort_values('Error', ascending=False)\n",
        "\n",
        "sorted_errors_result.head(20)"
      ],
      "metadata": {
        "colab": {
          "base_uri": "https://localhost:8080/",
          "height": 676
        },
        "id": "wMNGwLMS-ZzC",
        "outputId": "5ba24f59-cf97-4aaa-acba-d094125ce164"
      },
      "id": "wMNGwLMS-ZzC",
      "execution_count": 16,
      "outputs": [
        {
          "output_type": "execute_result",
          "data": {
            "text/plain": [
              "      y values      Predicted          Error\n",
              "3713    120000  389391.687500  269391.687500\n",
              "1288    385000  130767.218750  254232.781250\n",
              "649     376080  158613.781250  217466.218750\n",
              "3463    405000  199120.062500  205879.937500\n",
              "2374    350000  158904.812500  191095.187500\n",
              "2986    250000   80375.335938  169624.664062\n",
              "3623    150000  308942.562500  158942.562500\n",
              "1097    300240  168635.484375  131604.515625\n",
              "2708    250000  124388.570312  125611.429688\n",
              "1677    297300  176110.921875  121189.078125\n",
              "663     275000  159413.812500  115586.187500\n",
              "1908    120000  233072.953125  113072.953125\n",
              "3582    276000  164385.093750  111614.906250\n",
              "3078    200000   92606.039062  107393.960938\n",
              "1066    265000  159413.812500  105586.187500\n",
              "769     195652   91490.601562  104161.398438\n",
              "3080    250000  147879.171875  102120.828125\n",
              "2430    247500  147879.171875   99620.828125\n",
              "565     275300  176110.921875   99189.078125\n",
              "2611     55000  153591.906250   98591.906250"
            ],
            "text/html": [
              "\n",
              "  <div id=\"df-31288450-abc6-447f-acc0-1afa9434e76c\">\n",
              "    <div class=\"colab-df-container\">\n",
              "      <div>\n",
              "<style scoped>\n",
              "    .dataframe tbody tr th:only-of-type {\n",
              "        vertical-align: middle;\n",
              "    }\n",
              "\n",
              "    .dataframe tbody tr th {\n",
              "        vertical-align: top;\n",
              "    }\n",
              "\n",
              "    .dataframe thead th {\n",
              "        text-align: right;\n",
              "    }\n",
              "</style>\n",
              "<table border=\"1\" class=\"dataframe\">\n",
              "  <thead>\n",
              "    <tr style=\"text-align: right;\">\n",
              "      <th></th>\n",
              "      <th>y values</th>\n",
              "      <th>Predicted</th>\n",
              "      <th>Error</th>\n",
              "    </tr>\n",
              "  </thead>\n",
              "  <tbody>\n",
              "    <tr>\n",
              "      <th>3713</th>\n",
              "      <td>120000</td>\n",
              "      <td>389391.687500</td>\n",
              "      <td>269391.687500</td>\n",
              "    </tr>\n",
              "    <tr>\n",
              "      <th>1288</th>\n",
              "      <td>385000</td>\n",
              "      <td>130767.218750</td>\n",
              "      <td>254232.781250</td>\n",
              "    </tr>\n",
              "    <tr>\n",
              "      <th>649</th>\n",
              "      <td>376080</td>\n",
              "      <td>158613.781250</td>\n",
              "      <td>217466.218750</td>\n",
              "    </tr>\n",
              "    <tr>\n",
              "      <th>3463</th>\n",
              "      <td>405000</td>\n",
              "      <td>199120.062500</td>\n",
              "      <td>205879.937500</td>\n",
              "    </tr>\n",
              "    <tr>\n",
              "      <th>2374</th>\n",
              "      <td>350000</td>\n",
              "      <td>158904.812500</td>\n",
              "      <td>191095.187500</td>\n",
              "    </tr>\n",
              "    <tr>\n",
              "      <th>2986</th>\n",
              "      <td>250000</td>\n",
              "      <td>80375.335938</td>\n",
              "      <td>169624.664062</td>\n",
              "    </tr>\n",
              "    <tr>\n",
              "      <th>3623</th>\n",
              "      <td>150000</td>\n",
              "      <td>308942.562500</td>\n",
              "      <td>158942.562500</td>\n",
              "    </tr>\n",
              "    <tr>\n",
              "      <th>1097</th>\n",
              "      <td>300240</td>\n",
              "      <td>168635.484375</td>\n",
              "      <td>131604.515625</td>\n",
              "    </tr>\n",
              "    <tr>\n",
              "      <th>2708</th>\n",
              "      <td>250000</td>\n",
              "      <td>124388.570312</td>\n",
              "      <td>125611.429688</td>\n",
              "    </tr>\n",
              "    <tr>\n",
              "      <th>1677</th>\n",
              "      <td>297300</td>\n",
              "      <td>176110.921875</td>\n",
              "      <td>121189.078125</td>\n",
              "    </tr>\n",
              "    <tr>\n",
              "      <th>663</th>\n",
              "      <td>275000</td>\n",
              "      <td>159413.812500</td>\n",
              "      <td>115586.187500</td>\n",
              "    </tr>\n",
              "    <tr>\n",
              "      <th>1908</th>\n",
              "      <td>120000</td>\n",
              "      <td>233072.953125</td>\n",
              "      <td>113072.953125</td>\n",
              "    </tr>\n",
              "    <tr>\n",
              "      <th>3582</th>\n",
              "      <td>276000</td>\n",
              "      <td>164385.093750</td>\n",
              "      <td>111614.906250</td>\n",
              "    </tr>\n",
              "    <tr>\n",
              "      <th>3078</th>\n",
              "      <td>200000</td>\n",
              "      <td>92606.039062</td>\n",
              "      <td>107393.960938</td>\n",
              "    </tr>\n",
              "    <tr>\n",
              "      <th>1066</th>\n",
              "      <td>265000</td>\n",
              "      <td>159413.812500</td>\n",
              "      <td>105586.187500</td>\n",
              "    </tr>\n",
              "    <tr>\n",
              "      <th>769</th>\n",
              "      <td>195652</td>\n",
              "      <td>91490.601562</td>\n",
              "      <td>104161.398438</td>\n",
              "    </tr>\n",
              "    <tr>\n",
              "      <th>3080</th>\n",
              "      <td>250000</td>\n",
              "      <td>147879.171875</td>\n",
              "      <td>102120.828125</td>\n",
              "    </tr>\n",
              "    <tr>\n",
              "      <th>2430</th>\n",
              "      <td>247500</td>\n",
              "      <td>147879.171875</td>\n",
              "      <td>99620.828125</td>\n",
              "    </tr>\n",
              "    <tr>\n",
              "      <th>565</th>\n",
              "      <td>275300</td>\n",
              "      <td>176110.921875</td>\n",
              "      <td>99189.078125</td>\n",
              "    </tr>\n",
              "    <tr>\n",
              "      <th>2611</th>\n",
              "      <td>55000</td>\n",
              "      <td>153591.906250</td>\n",
              "      <td>98591.906250</td>\n",
              "    </tr>\n",
              "  </tbody>\n",
              "</table>\n",
              "</div>\n",
              "      <button class=\"colab-df-convert\" onclick=\"convertToInteractive('df-31288450-abc6-447f-acc0-1afa9434e76c')\"\n",
              "              title=\"Convert this dataframe to an interactive table.\"\n",
              "              style=\"display:none;\">\n",
              "        \n",
              "  <svg xmlns=\"http://www.w3.org/2000/svg\" height=\"24px\"viewBox=\"0 0 24 24\"\n",
              "       width=\"24px\">\n",
              "    <path d=\"M0 0h24v24H0V0z\" fill=\"none\"/>\n",
              "    <path d=\"M18.56 5.44l.94 2.06.94-2.06 2.06-.94-2.06-.94-.94-2.06-.94 2.06-2.06.94zm-11 1L8.5 8.5l.94-2.06 2.06-.94-2.06-.94L8.5 2.5l-.94 2.06-2.06.94zm10 10l.94 2.06.94-2.06 2.06-.94-2.06-.94-.94-2.06-.94 2.06-2.06.94z\"/><path d=\"M17.41 7.96l-1.37-1.37c-.4-.4-.92-.59-1.43-.59-.52 0-1.04.2-1.43.59L10.3 9.45l-7.72 7.72c-.78.78-.78 2.05 0 2.83L4 21.41c.39.39.9.59 1.41.59.51 0 1.02-.2 1.41-.59l7.78-7.78 2.81-2.81c.8-.78.8-2.07 0-2.86zM5.41 20L4 18.59l7.72-7.72 1.47 1.35L5.41 20z\"/>\n",
              "  </svg>\n",
              "      </button>\n",
              "      \n",
              "  <style>\n",
              "    .colab-df-container {\n",
              "      display:flex;\n",
              "      flex-wrap:wrap;\n",
              "      gap: 12px;\n",
              "    }\n",
              "\n",
              "    .colab-df-convert {\n",
              "      background-color: #E8F0FE;\n",
              "      border: none;\n",
              "      border-radius: 50%;\n",
              "      cursor: pointer;\n",
              "      display: none;\n",
              "      fill: #1967D2;\n",
              "      height: 32px;\n",
              "      padding: 0 0 0 0;\n",
              "      width: 32px;\n",
              "    }\n",
              "\n",
              "    .colab-df-convert:hover {\n",
              "      background-color: #E2EBFA;\n",
              "      box-shadow: 0px 1px 2px rgba(60, 64, 67, 0.3), 0px 1px 3px 1px rgba(60, 64, 67, 0.15);\n",
              "      fill: #174EA6;\n",
              "    }\n",
              "\n",
              "    [theme=dark] .colab-df-convert {\n",
              "      background-color: #3B4455;\n",
              "      fill: #D2E3FC;\n",
              "    }\n",
              "\n",
              "    [theme=dark] .colab-df-convert:hover {\n",
              "      background-color: #434B5C;\n",
              "      box-shadow: 0px 1px 3px 1px rgba(0, 0, 0, 0.15);\n",
              "      filter: drop-shadow(0px 1px 2px rgba(0, 0, 0, 0.3));\n",
              "      fill: #FFFFFF;\n",
              "    }\n",
              "  </style>\n",
              "\n",
              "      <script>\n",
              "        const buttonEl =\n",
              "          document.querySelector('#df-31288450-abc6-447f-acc0-1afa9434e76c button.colab-df-convert');\n",
              "        buttonEl.style.display =\n",
              "          google.colab.kernel.accessAllowed ? 'block' : 'none';\n",
              "\n",
              "        async function convertToInteractive(key) {\n",
              "          const element = document.querySelector('#df-31288450-abc6-447f-acc0-1afa9434e76c');\n",
              "          const dataTable =\n",
              "            await google.colab.kernel.invokeFunction('convertToInteractive',\n",
              "                                                     [key], {});\n",
              "          if (!dataTable) return;\n",
              "\n",
              "          const docLinkHtml = 'Like what you see? Visit the ' +\n",
              "            '<a target=\"_blank\" href=https://colab.research.google.com/notebooks/data_table.ipynb>data table notebook</a>'\n",
              "            + ' to learn more about interactive tables.';\n",
              "          element.innerHTML = '';\n",
              "          dataTable['output_type'] = 'display_data';\n",
              "          await google.colab.output.renderOutput(dataTable, element);\n",
              "          const docLink = document.createElement('div');\n",
              "          docLink.innerHTML = docLinkHtml;\n",
              "          element.appendChild(docLink);\n",
              "        }\n",
              "      </script>\n",
              "    </div>\n",
              "  </div>\n",
              "  "
            ]
          },
          "metadata": {},
          "execution_count": 16
        }
      ]
    },
    {
      "cell_type": "code",
      "source": [
        "# getting indices of the biggest errors and corresponding examples\n",
        "error_indices = sorted_errors_result.index.tolist()\n",
        "error_examples = X.iloc[error_indices]\n",
        "\n",
        "error_examples"
      ],
      "metadata": {
        "colab": {
          "base_uri": "https://localhost:8080/",
          "height": 423
        },
        "id": "dW_bCmc4FMs6",
        "outputId": "dd05a7e6-4b60-4db0-c9b8-a0c6ac491d09"
      },
      "id": "dW_bCmc4FMs6",
      "execution_count": 17,
      "outputs": [
        {
          "output_type": "execute_result",
          "data": {
            "text/plain": [
              "      work_year  experience_level employment_type      job_title  \\\n",
              "3713       2020                 3              FT  140869.765476   \n",
              "1288       2023                 3              FT  108716.227124   \n",
              "649        2023                 3              FT  161706.446040   \n",
              "3463       2022                 3              FT  148022.559367   \n",
              "2374       2022                 3              FT  140869.765476   \n",
              "...         ...               ...             ...            ...   \n",
              "2134       2022                 3              FT  142785.734615   \n",
              "1954       2022                 3              FT  108716.227124   \n",
              "168        2023                 2              FT  142785.734615   \n",
              "2910       2022                 3              FT  129673.928627   \n",
              "3332       2022                 3              FT  108716.227124   \n",
              "\n",
              "      salary_currency  employee_residence  remote_ratio  company_location  \\\n",
              "3713    149366.906638       152822.011651            50     151822.009539   \n",
              "1288    149366.906638       152822.011651             0     151822.009539   \n",
              "649     149366.906638       152822.011651           100     151822.009539   \n",
              "3463    149366.906638       152822.011651           100     151822.009539   \n",
              "2374    149366.906638       152822.011651           100     151822.009539   \n",
              "...               ...                 ...           ...               ...   \n",
              "2134    149366.906638       152822.011651           100     151822.009539   \n",
              "1954    149366.906638       152822.011651           100     151822.009539   \n",
              "168     149366.906638       152822.011651             0     151822.009539   \n",
              "2910    149366.906638       152822.011651           100     151822.009539   \n",
              "3332    149366.906638       152822.011651           100     151822.009539   \n",
              "\n",
              "      company_size  \n",
              "3713             0  \n",
              "1288             1  \n",
              "649              1  \n",
              "3463             0  \n",
              "2374             1  \n",
              "...            ...  \n",
              "2134             1  \n",
              "1954             1  \n",
              "168              1  \n",
              "2910             1  \n",
              "3332             1  \n",
              "\n",
              "[376 rows x 9 columns]"
            ],
            "text/html": [
              "\n",
              "  <div id=\"df-890cb9f0-655c-49cd-bdf1-6a9b8e0647c4\">\n",
              "    <div class=\"colab-df-container\">\n",
              "      <div>\n",
              "<style scoped>\n",
              "    .dataframe tbody tr th:only-of-type {\n",
              "        vertical-align: middle;\n",
              "    }\n",
              "\n",
              "    .dataframe tbody tr th {\n",
              "        vertical-align: top;\n",
              "    }\n",
              "\n",
              "    .dataframe thead th {\n",
              "        text-align: right;\n",
              "    }\n",
              "</style>\n",
              "<table border=\"1\" class=\"dataframe\">\n",
              "  <thead>\n",
              "    <tr style=\"text-align: right;\">\n",
              "      <th></th>\n",
              "      <th>work_year</th>\n",
              "      <th>experience_level</th>\n",
              "      <th>employment_type</th>\n",
              "      <th>job_title</th>\n",
              "      <th>salary_currency</th>\n",
              "      <th>employee_residence</th>\n",
              "      <th>remote_ratio</th>\n",
              "      <th>company_location</th>\n",
              "      <th>company_size</th>\n",
              "    </tr>\n",
              "  </thead>\n",
              "  <tbody>\n",
              "    <tr>\n",
              "      <th>3713</th>\n",
              "      <td>2020</td>\n",
              "      <td>3</td>\n",
              "      <td>FT</td>\n",
              "      <td>140869.765476</td>\n",
              "      <td>149366.906638</td>\n",
              "      <td>152822.011651</td>\n",
              "      <td>50</td>\n",
              "      <td>151822.009539</td>\n",
              "      <td>0</td>\n",
              "    </tr>\n",
              "    <tr>\n",
              "      <th>1288</th>\n",
              "      <td>2023</td>\n",
              "      <td>3</td>\n",
              "      <td>FT</td>\n",
              "      <td>108716.227124</td>\n",
              "      <td>149366.906638</td>\n",
              "      <td>152822.011651</td>\n",
              "      <td>0</td>\n",
              "      <td>151822.009539</td>\n",
              "      <td>1</td>\n",
              "    </tr>\n",
              "    <tr>\n",
              "      <th>649</th>\n",
              "      <td>2023</td>\n",
              "      <td>3</td>\n",
              "      <td>FT</td>\n",
              "      <td>161706.446040</td>\n",
              "      <td>149366.906638</td>\n",
              "      <td>152822.011651</td>\n",
              "      <td>100</td>\n",
              "      <td>151822.009539</td>\n",
              "      <td>1</td>\n",
              "    </tr>\n",
              "    <tr>\n",
              "      <th>3463</th>\n",
              "      <td>2022</td>\n",
              "      <td>3</td>\n",
              "      <td>FT</td>\n",
              "      <td>148022.559367</td>\n",
              "      <td>149366.906638</td>\n",
              "      <td>152822.011651</td>\n",
              "      <td>100</td>\n",
              "      <td>151822.009539</td>\n",
              "      <td>0</td>\n",
              "    </tr>\n",
              "    <tr>\n",
              "      <th>2374</th>\n",
              "      <td>2022</td>\n",
              "      <td>3</td>\n",
              "      <td>FT</td>\n",
              "      <td>140869.765476</td>\n",
              "      <td>149366.906638</td>\n",
              "      <td>152822.011651</td>\n",
              "      <td>100</td>\n",
              "      <td>151822.009539</td>\n",
              "      <td>1</td>\n",
              "    </tr>\n",
              "    <tr>\n",
              "      <th>...</th>\n",
              "      <td>...</td>\n",
              "      <td>...</td>\n",
              "      <td>...</td>\n",
              "      <td>...</td>\n",
              "      <td>...</td>\n",
              "      <td>...</td>\n",
              "      <td>...</td>\n",
              "      <td>...</td>\n",
              "      <td>...</td>\n",
              "    </tr>\n",
              "    <tr>\n",
              "      <th>2134</th>\n",
              "      <td>2022</td>\n",
              "      <td>3</td>\n",
              "      <td>FT</td>\n",
              "      <td>142785.734615</td>\n",
              "      <td>149366.906638</td>\n",
              "      <td>152822.011651</td>\n",
              "      <td>100</td>\n",
              "      <td>151822.009539</td>\n",
              "      <td>1</td>\n",
              "    </tr>\n",
              "    <tr>\n",
              "      <th>1954</th>\n",
              "      <td>2022</td>\n",
              "      <td>3</td>\n",
              "      <td>FT</td>\n",
              "      <td>108716.227124</td>\n",
              "      <td>149366.906638</td>\n",
              "      <td>152822.011651</td>\n",
              "      <td>100</td>\n",
              "      <td>151822.009539</td>\n",
              "      <td>1</td>\n",
              "    </tr>\n",
              "    <tr>\n",
              "      <th>168</th>\n",
              "      <td>2023</td>\n",
              "      <td>2</td>\n",
              "      <td>FT</td>\n",
              "      <td>142785.734615</td>\n",
              "      <td>149366.906638</td>\n",
              "      <td>152822.011651</td>\n",
              "      <td>0</td>\n",
              "      <td>151822.009539</td>\n",
              "      <td>1</td>\n",
              "    </tr>\n",
              "    <tr>\n",
              "      <th>2910</th>\n",
              "      <td>2022</td>\n",
              "      <td>3</td>\n",
              "      <td>FT</td>\n",
              "      <td>129673.928627</td>\n",
              "      <td>149366.906638</td>\n",
              "      <td>152822.011651</td>\n",
              "      <td>100</td>\n",
              "      <td>151822.009539</td>\n",
              "      <td>1</td>\n",
              "    </tr>\n",
              "    <tr>\n",
              "      <th>3332</th>\n",
              "      <td>2022</td>\n",
              "      <td>3</td>\n",
              "      <td>FT</td>\n",
              "      <td>108716.227124</td>\n",
              "      <td>149366.906638</td>\n",
              "      <td>152822.011651</td>\n",
              "      <td>100</td>\n",
              "      <td>151822.009539</td>\n",
              "      <td>1</td>\n",
              "    </tr>\n",
              "  </tbody>\n",
              "</table>\n",
              "<p>376 rows × 9 columns</p>\n",
              "</div>\n",
              "      <button class=\"colab-df-convert\" onclick=\"convertToInteractive('df-890cb9f0-655c-49cd-bdf1-6a9b8e0647c4')\"\n",
              "              title=\"Convert this dataframe to an interactive table.\"\n",
              "              style=\"display:none;\">\n",
              "        \n",
              "  <svg xmlns=\"http://www.w3.org/2000/svg\" height=\"24px\"viewBox=\"0 0 24 24\"\n",
              "       width=\"24px\">\n",
              "    <path d=\"M0 0h24v24H0V0z\" fill=\"none\"/>\n",
              "    <path d=\"M18.56 5.44l.94 2.06.94-2.06 2.06-.94-2.06-.94-.94-2.06-.94 2.06-2.06.94zm-11 1L8.5 8.5l.94-2.06 2.06-.94-2.06-.94L8.5 2.5l-.94 2.06-2.06.94zm10 10l.94 2.06.94-2.06 2.06-.94-2.06-.94-.94-2.06-.94 2.06-2.06.94z\"/><path d=\"M17.41 7.96l-1.37-1.37c-.4-.4-.92-.59-1.43-.59-.52 0-1.04.2-1.43.59L10.3 9.45l-7.72 7.72c-.78.78-.78 2.05 0 2.83L4 21.41c.39.39.9.59 1.41.59.51 0 1.02-.2 1.41-.59l7.78-7.78 2.81-2.81c.8-.78.8-2.07 0-2.86zM5.41 20L4 18.59l7.72-7.72 1.47 1.35L5.41 20z\"/>\n",
              "  </svg>\n",
              "      </button>\n",
              "      \n",
              "  <style>\n",
              "    .colab-df-container {\n",
              "      display:flex;\n",
              "      flex-wrap:wrap;\n",
              "      gap: 12px;\n",
              "    }\n",
              "\n",
              "    .colab-df-convert {\n",
              "      background-color: #E8F0FE;\n",
              "      border: none;\n",
              "      border-radius: 50%;\n",
              "      cursor: pointer;\n",
              "      display: none;\n",
              "      fill: #1967D2;\n",
              "      height: 32px;\n",
              "      padding: 0 0 0 0;\n",
              "      width: 32px;\n",
              "    }\n",
              "\n",
              "    .colab-df-convert:hover {\n",
              "      background-color: #E2EBFA;\n",
              "      box-shadow: 0px 1px 2px rgba(60, 64, 67, 0.3), 0px 1px 3px 1px rgba(60, 64, 67, 0.15);\n",
              "      fill: #174EA6;\n",
              "    }\n",
              "\n",
              "    [theme=dark] .colab-df-convert {\n",
              "      background-color: #3B4455;\n",
              "      fill: #D2E3FC;\n",
              "    }\n",
              "\n",
              "    [theme=dark] .colab-df-convert:hover {\n",
              "      background-color: #434B5C;\n",
              "      box-shadow: 0px 1px 3px 1px rgba(0, 0, 0, 0.15);\n",
              "      filter: drop-shadow(0px 1px 2px rgba(0, 0, 0, 0.3));\n",
              "      fill: #FFFFFF;\n",
              "    }\n",
              "  </style>\n",
              "\n",
              "      <script>\n",
              "        const buttonEl =\n",
              "          document.querySelector('#df-890cb9f0-655c-49cd-bdf1-6a9b8e0647c4 button.colab-df-convert');\n",
              "        buttonEl.style.display =\n",
              "          google.colab.kernel.accessAllowed ? 'block' : 'none';\n",
              "\n",
              "        async function convertToInteractive(key) {\n",
              "          const element = document.querySelector('#df-890cb9f0-655c-49cd-bdf1-6a9b8e0647c4');\n",
              "          const dataTable =\n",
              "            await google.colab.kernel.invokeFunction('convertToInteractive',\n",
              "                                                     [key], {});\n",
              "          if (!dataTable) return;\n",
              "\n",
              "          const docLinkHtml = 'Like what you see? Visit the ' +\n",
              "            '<a target=\"_blank\" href=https://colab.research.google.com/notebooks/data_table.ipynb>data table notebook</a>'\n",
              "            + ' to learn more about interactive tables.';\n",
              "          element.innerHTML = '';\n",
              "          dataTable['output_type'] = 'display_data';\n",
              "          await google.colab.output.renderOutput(dataTable, element);\n",
              "          const docLink = document.createElement('div');\n",
              "          docLink.innerHTML = docLinkHtml;\n",
              "          element.appendChild(docLink);\n",
              "        }\n",
              "      </script>\n",
              "    </div>\n",
              "  </div>\n",
              "  "
            ]
          },
          "metadata": {},
          "execution_count": 17
        }
      ]
    },
    {
      "cell_type": "code",
      "source": [
        "error_y = y.iloc[error_indices]\n",
        "error_y"
      ],
      "metadata": {
        "colab": {
          "base_uri": "https://localhost:8080/"
        },
        "id": "44iC7LW7Fsgg",
        "outputId": "43836731-e044-4450-a90d-1088baa14f76"
      },
      "id": "44iC7LW7Fsgg",
      "execution_count": 18,
      "outputs": [
        {
          "output_type": "execute_result",
          "data": {
            "text/plain": [
              "3713    120000\n",
              "1288    385000\n",
              "649     376080\n",
              "3463    405000\n",
              "2374    350000\n",
              "         ...  \n",
              "2134    154600\n",
              "1954    115934\n",
              "168     130000\n",
              "2910     81000\n",
              "3332    116150\n",
              "Name: salary_in_usd, Length: 376, dtype: int64"
            ]
          },
          "metadata": {},
          "execution_count": 18
        }
      ]
    },
    {
      "cell_type": "markdown",
      "source": [
        "**ВЫВОДЫ:** наиболее популярной ошибкой модели являются data scientist'ы, работающие FT (full-time). Для большинства из них также верно, что их компании находятся в одном регионе, получают з/п в одной валюте и сами рабочие проживают в одной области. При этом, несмотря на схожесть по многим объясняющим переменным, значения целевой переменной для них разнятся - отсюда и могут следовать ошибки модели. Чтобы избавиться от этих ошибок, можно, во-первых, нормировать значения вышеупомянутых переменных, поскольку они имеют большие значения и явно приводят к переобучению (либо можно использовать с этой же целью регуляризацию). Кроме того, имеет смысл добавить веса более значимым признакам, таким как уровень опыта, job title."
      ],
      "metadata": {
        "id": "Z-Po_eaqFyOM"
      },
      "id": "Z-Po_eaqFyOM"
    },
    {
      "cell_type": "markdown",
      "id": "0bb42f2e",
      "metadata": {
        "id": "0bb42f2e"
      },
      "source": [
        "## Задание 6 (0.5 балла)"
      ]
    },
    {
      "cell_type": "markdown",
      "id": "348b42f3",
      "metadata": {
        "id": "348b42f3"
      },
      "source": [
        "Придумайте признаки для улучшения качества модели на основе предыдущего пункта. Как вам кажется какими признаками можно улучшить качество модели? Реализуйте признаки и проверьте улучшилось ли качество модели. Полный балл за задание ставится даже при отсутствии улучшения качества модели, важно попробовать проверить свои гипотезы и сделать выводы"
      ]
    },
    {
      "cell_type": "code",
      "source": [
        "import seaborn as sns\n",
        "# taking a look at dependencies between the features\n",
        "correlation_matrix = X.corr()\n",
        "sns.heatmap(correlation_matrix, annot = True)"
      ],
      "metadata": {
        "colab": {
          "base_uri": "https://localhost:8080/",
          "height": 636
        },
        "id": "ocfyPp-JGyPH",
        "outputId": "903dcc43-b09a-4c9e-d119-25deb29f5f6a"
      },
      "id": "ocfyPp-JGyPH",
      "execution_count": 21,
      "outputs": [
        {
          "output_type": "stream",
          "name": "stderr",
          "text": [
            "<ipython-input-21-16d682f7920f>:3: FutureWarning: The default value of numeric_only in DataFrame.corr is deprecated. In a future version, it will default to False. Select only valid columns or specify the value of numeric_only to silence this warning.\n",
            "  correlation_matrix = X.corr()\n"
          ]
        },
        {
          "output_type": "execute_result",
          "data": {
            "text/plain": [
              "<Axes: >"
            ]
          },
          "metadata": {},
          "execution_count": 21
        },
        {
          "output_type": "display_data",
          "data": {
            "text/plain": [
              "<Figure size 640x480 with 2 Axes>"
            ],
            "image/png": "[encoded data removed]"
          },
          "metadata": {}
        }
      ]
    },
    {
      "cell_type": "markdown",
      "source": [
        "**ВЫВОДЫ:** логичным сделать предположения (которые подтверждаются приведенной выше матрицей корреляции признаков) о том, что признаки \"salary_currency\", \"employee_residence\", и \"company_location\" имеют большую корреляцию. В таком случае, имеет смысл (чтобы избежать переобучения) объединить эти три признака в один (можем, например, просто оставить признак \"company_location\" - наиболее полно из трех описывает взаимосвязь с целевой переменной).\n",
        "Помимо этого, можно добавить новый признак - среднее значение зарплаты в данной области. Поскольку зарплата сильно разнится от региона к региону (тем более, от страны к стране), то сделать это может быть довольно непросто (однако, разумно).\n",
        "Более корректно закодируем переменные (используем OrdinalEncoder для сохранения иерархии в значениях некоторых категориальных признаков) и посмотрим на результат."
      ],
      "metadata": {
        "id": "hr0FC_C06vJk"
      },
      "id": "hr0FC_C06vJk"
    },
    {
      "cell_type": "code",
      "source": [
        "from sklearn.preprocessing import OrdinalEncoder\n",
        "\n",
        "# deleting the chosen features\n",
        "X = df.drop(['salary', 'salary_in_usd', 'employee_residence', 'salary_currency'], axis=1)\n",
        "y = df['salary_in_usd']\n",
        "\n",
        "ordinal_encoder = OrdinalEncoder() # using OrdinalEncoder to keep the hierarchy\n",
        "                                    # of values for certain features\n",
        "linear_regression = LinearRegression()\n",
        "\n",
        "# encoding categorical features with ordinal encoding\n",
        "ordinal_encoding_cols = ['experience_level', 'company_size', 'job_title']\n",
        "X[ordinal_encoding_cols] = ordinal_encoder.fit_transform(X[ordinal_encoding_cols])\n",
        "\n",
        "# using mean-target encoding\n",
        "mean_target_features = ['company_location', 'employment_type']\n",
        "X[mean_target_features] = target_encoder.fit_transform(X[mean_target_features], y)\n",
        "\n",
        "# splitting the data into corresponding sets\n",
        "X_train, X_val_test, y_train, y_val_test = train_test_split(X, y, test_size=0.2, random_state=19)\n",
        "X_val, X_test, y_val, y_test = train_test_split(X_val_test, y_val_test, test_size=0.5, random_state=17)\n",
        "\n",
        "# fitting the ridge regression model\n",
        "linear_regression.fit(X_train, y_train)\n",
        "\n",
        "# getting predictions for validation and test sets\n",
        "y_val_pred = linear_regression.predict(X_val)\n",
        "y_test_pred = linear_regression.predict(X_test)\n",
        "\n",
        "# evaluating the model's quality\n",
        "val_mape = mean_absolute_percentage_error(y_val, y_val_pred)\n",
        "val_rmse = mean_squared_error(y_val, y_val_pred, squared=False)\n",
        "\n",
        "test_mape = mean_absolute_percentage_error(y_test, y_test_pred)\n",
        "test_rmse = mean_squared_error(y_test, y_test_pred, squared=False)\n",
        "\n",
        "print(f\"MAPE score on validation set: {val_mape}\")\n",
        "print(f\"RMSE score on validation set: {val_rmse}\")\n",
        "print(f\"MAPE score on test set: {test_mape}\")\n",
        "print(f\"RMSE score on test set: {test_rmse}\")"
      ],
      "metadata": {
        "colab": {
          "base_uri": "https://localhost:8080/"
        },
        "id": "pkAwT9hq6pYk",
        "outputId": "cf5c9ab3-db5e-475d-834c-683da089dae8"
      },
      "id": "pkAwT9hq6pYk",
      "execution_count": 29,
      "outputs": [
        {
          "output_type": "stream",
          "name": "stdout",
          "text": [
            "MAPE score on validation set: 0.43267301464458735\n",
            "RMSE score on validation set: 51548.23623082476\n",
            "MAPE score on test set: 0.43410419341385953\n",
            "RMSE score on test set: 54362.20872828927\n"
          ]
        }
      ]
    },
    {
      "cell_type": "markdown",
      "source": [
        "**РЕЗУЛЬТАТЫ:** качество модели удалось повысить за счет реализации вышеуказанных замечаний."
      ],
      "metadata": {
        "id": "INDvA6Q0AZaW"
      },
      "id": "INDvA6Q0AZaW"
    },
    {
      "cell_type": "markdown",
      "id": "3578292c",
      "metadata": {
        "id": "3578292c"
      },
      "source": [
        "## Задание 7 (0.5 балла)"
      ]
    },
    {
      "cell_type": "markdown",
      "id": "9b1ce455",
      "metadata": {
        "id": "9b1ce455"
      },
      "source": [
        "Теперь используете исключительно catboost. Обучить модель. Подберите оптимальные гиперпараметры. Используйте pool для передачи данных в модель с указанием какие признаки категориальные, а какие нет с помощью параметры cat_features. Оцените качество итоговой модели, скорость обучения и скорость предсказания"
      ]
    },
    {
      "cell_type": "markdown",
      "id": "3bfc4e05",
      "metadata": {
        "id": "3bfc4e05"
      },
      "source": [
        "## Задание 8 (0.5 балла)"
      ]
    },
    {
      "cell_type": "markdown",
      "id": "14466af9",
      "metadata": {
        "id": "14466af9"
      },
      "source": [
        "Теперь используете исключительно xgboost. Обучить модель. Подберите оптимальные гиперпараметры. Закодируйте категориальные переменные, как хотите. Оцените качество итоговой модели, скорость обучения и скорость предсказания."
      ]
    },
    {
      "cell_type": "markdown",
      "id": "a881ad9d",
      "metadata": {
        "id": "a881ad9d"
      },
      "source": [
        "## Задание 9 (0.5 балла)"
      ]
    },
    {
      "cell_type": "markdown",
      "id": "a35f87a6",
      "metadata": {
        "id": "a35f87a6"
      },
      "source": [
        "Теперь используете исключительно lightgbm. Обучить модель. Подберите оптимальные гиперпараметры. Закодируйте категориальные переменные, как хотите. Оцените качество итоговой модели, скорость обучения и скорость предсказания."
      ]
    },
    {
      "cell_type": "markdown",
      "id": "7c56d873",
      "metadata": {
        "id": "7c56d873"
      },
      "source": [
        "## Задание 10 (0.5 балла)"
      ]
    },
    {
      "cell_type": "markdown",
      "id": "3a2c1148",
      "metadata": {
        "id": "3a2c1148"
      },
      "source": [
        "Сделайте выводы про модели бустинга, какая из моделей показала лучший результат по качеству, скорости обучения и скорости предсказания"
      ]
    }
  ],
  "metadata": {
    "kernelspec": {
      "display_name": "Python 3 (ipykernel)",
      "language": "python",
      "name": "python3"
    },
    "language_info": {
      "codemirror_mode": {
        "name": "ipython",
        "version": 3
      },
      "file_extension": ".py",
      "mimetype": "text/x-python",
      "name": "python",
      "nbconvert_exporter": "python",
      "pygments_lexer": "ipython3",
      "version": "3.9.1"
    },
    "colab": {
      "provenance": [],
      "include_colab_link": true
    }
  },
  "nbformat": 4,
  "nbformat_minor": 5
}